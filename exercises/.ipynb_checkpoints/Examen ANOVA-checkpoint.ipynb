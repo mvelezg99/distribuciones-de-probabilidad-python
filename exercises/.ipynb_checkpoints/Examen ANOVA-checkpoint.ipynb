{
 "cells": [
  {
   "cell_type": "markdown",
   "metadata": {},
   "source": [
    "# Examen ANOVA - Estadística\n",
    "\n",
    "### Miguel Ángel Vélez Guerra - 1152469703"
   ]
  },
  {
   "cell_type": "code",
   "execution_count": 10,
   "metadata": {
    "collapsed": true,
    "scrolled": true
   },
   "outputs": [],
   "source": [
    "import numpy as np\n",
    "import scipy.stats as ss"
   ]
  },
  {
   "cell_type": "markdown",
   "metadata": {},
   "source": [
    "## Funciones para obtener los valores necesarios para el análisis ANOVA"
   ]
  },
  {
   "cell_type": "code",
   "execution_count": 30,
   "metadata": {
    "scrolled": true,
    "slideshow": {
     "slide_type": "-"
    }
   },
   "outputs": [],
   "source": [
    "class anova:\n",
    "    \n",
    "    def crit_val_f(df1, df2, sign):\n",
    "        \"\"\"\n",
    "        \"\"\"\n",
    "        alpha = 1 - sign\n",
    "        crit_val = ss.f.ppf(alpha, df1, df2)\n",
    "        return crit_val\n",
    "    \n",
    "    \n",
    "    def get_sct(*args):\n",
    "        \"\"\"\n",
    "        \"\"\"\n",
    "        arr_tot = np.concatenate(args)\n",
    "        big_mean = np.mean(arr_tot)\n",
    "        sct = sum([(x - big_mean)**2 for x in arr_tot])\n",
    "        return sct\n",
    "        \n",
    "    def get_sctr(*args):\n",
    "        \"\"\"\n",
    "        \"\"\"\n",
    "        arr_tot = np.concatenate(args)\n",
    "        big_mean = np.mean(arr_tot)\n",
    "        sctr = sum([(len(x) * ((np.mean(x) - big_mean)**2)) for x in args])\n",
    "        return sctr\n",
    "       \n",
    "        \n",
    "    def get_sce(*args):\n",
    "        \"\"\"\n",
    "        \"\"\"        \n",
    "        sce = 0\n",
    "        \n",
    "        for x in args:\n",
    "            for xj in x:\n",
    "                sce += (xj - np.mean(x))**2\n",
    "        return sce\n",
    "    \n",
    "    def get_sce2(*args):\n",
    "        \"\"\"\n",
    "        \"\"\"\n",
    "        sct = anova.get_sct(*args)\n",
    "        sctr = anova.get_sctr(*args)\n",
    "        scbl = anova.get_scbl(*args)\n",
    "        \n",
    "        sce = sct - sctr - scbl\n",
    "        return sce\n",
    "    \n",
    "    def get_scbl(*args):\n",
    "        \"\"\"\n",
    "        \"\"\"\n",
    "        lists = args\n",
    "        blocks = list(map(list, zip(*lists)))\n",
    "        arr_tot = np.concatenate(blocks)\n",
    "        big_mean = np.mean(arr_tot)\n",
    "        scbl = sum([(len(x) * ((np.mean(x) - big_mean)**2)) for x in blocks])\n",
    "        \n",
    "        return scbl\n",
    "        \n",
    "    \n",
    "    def get_cmt(*args):\n",
    "        \"\"\"\n",
    "        \"\"\"\n",
    "        arr_tot = np.concatenate(args)\n",
    "        df = len(arr_tot) - 1\n",
    "        sct = anova.get_sct(*args)\n",
    "        cmt = sct / df\n",
    "        return cmt\n",
    "    \n",
    "    def get_cmtr(*args):\n",
    "        \"\"\"\n",
    "        \"\"\"\n",
    "        sctr = anova.get_sctr(*args)\n",
    "        df = len(args) - 1\n",
    "        cmtr = sctr / df\n",
    "        return cmtr\n",
    "    \n",
    "    def get_cme(*args):\n",
    "        \"\"\"\n",
    "        \"\"\"\n",
    "        arr_tot = np.concatenate(args)\n",
    "        sce = anova.get_sce(*args)\n",
    "        df = len(arr_tot) - len(args)\n",
    "        cme = sce / df\n",
    "        return cme\n",
    "    \n",
    "    def get_cme2(*args):\n",
    "        \"\"\"\n",
    "        \"\"\"\n",
    "        sce = anova.get_sce2(*args)\n",
    "        df = (len(args) - 1) * (len(args[0]) - 1)\n",
    "        cme = sce / df\n",
    "        return cme\n",
    "    \n",
    "    def get_cmbl(*args):\n",
    "        \"\"\"\n",
    "        \"\"\"\n",
    "        scbl = anova.get_scbl(*args)\n",
    "        df = len(args[0]) - 1\n",
    "        cmbl = scbl / df\n",
    "        return cmbl\n",
    "        \n",
    "    def get_fratio(*args):\n",
    "        \"\"\"\n",
    "        \"\"\"\n",
    "        cmtr = anova.get_cmtr(*args)\n",
    "        cme = anova.get_cme(*args)\n",
    "        fratio = cmtr / cme\n",
    "        return fratio\n",
    "    \n",
    "    def get_fratio2(*args):\n",
    "        \"\"\"\n",
    "        \"\"\"\n",
    "        cmtr = anova.get_cmtr(*args)\n",
    "        cme = anova.get_cme2(*args)\n",
    "        fratio = cmtr / cme\n",
    "        return fratio\n",
    "    \n",
    "    def get_fratio2_cmbl(*args):\n",
    "        \"\"\"\n",
    "        \"\"\"\n",
    "        cmbl = anova.get_cmbl(*args)\n",
    "        cme = anova.get_cme2(*args)\n",
    "        fratio = cmbl / cme\n",
    "        return fratio\n",
    "    \n",
    "    def get_dms(*args, sign):\n",
    "        \"\"\"\n",
    "        \"\"\"\n",
    "        cme = anova.get_cme(*args)\n",
    "        \n",
    "        \n",
    "        for x in range(len(args)):\n",
    "            for xj in range(x+1, len(args)):\n",
    "                if(len(args[x]) == len(args[xj])):\n",
    "                    fratio = ss.f.ppf((1 - sign), 1, (len(np.concatenate(args)) - len(args)))\n",
    "                    dms = (((1 / len(args[x])) + (1 / len(args[xj]))) * cme * fratio)**0.5\n",
    "                    x_mean = np.mean(args[x])\n",
    "                    xj_mean = np.mean(args[xj])\n",
    "                    x_diff = abs(x_mean - xj_mean)\n",
    "                    if (x_diff > dms):\n",
    "                        print(\"|x_{} - x_{}| = |{} - {}| = {} > {}\".format(x+1, xj+1,\n",
    "                              x_mean, xj_mean, x_diff, dms))\n",
    "                    else:\n",
    "                        print(\"|x_{} - x_{}| = |{} - {}| = {} <= {}\".format(x+1, xj+1,\n",
    "                              x_mean, xj_mean, x_diff, dms))\n",
    "                else:\n",
    "                    fratio = ss.f.ppf((1 - sign), (len(args) - 1), (len(np.concatenate(args)) - len(args)))\n",
    "                    dms = (((1 / len(args[x])) + (1 / len(args[xj]))) * cme * fratio)**0.5\n",
    "                    x_mean = np.mean(args[x])\n",
    "                    xj_mean = np.mean(args[xj])\n",
    "                    x_diff = abs(x_mean - xj_mean)\n",
    "                    if (x_diff > dms):\n",
    "                        print(\"|x_{} - x_{}| = |{} - {}| = {} > {}\".format(x+1, xj+1,\n",
    "                              x_mean, xj_mean, x_diff, dms))\n",
    "                    else:\n",
    "                        print(\"|x_{} - x_{}| = |{} - {}| = {} <= {}\".format(x+1, xj+1,\n",
    "                              x_mean, xj_mean, x_diff, dms))"
   ]
  },
  {
   "cell_type": "markdown",
   "metadata": {},
   "source": [
    "<hr/>\n",
    "<hr/>"
   ]
  },
  {
   "cell_type": "markdown",
   "metadata": {
    "collapsed": true
   },
   "source": [
    "## 1. ANOVA 1 vía"
   ]
  },
  {
   "cell_type": "code",
   "execution_count": 31,
   "metadata": {
    "scrolled": true
   },
   "outputs": [],
   "source": [
    "norte = [293, 280, 283, 242, 268, 184] # Resultados tratamiento 1\n",
    "sur = [121, 116, 223, 238, 118, 222] # Resultados tratamiento 2\n",
    "occidente = [114, 176, 224, 183, 159, 149] # Resultados tratamiento 3\n",
    "centro = [136, 164, 117, 153, 152, 108] # Resultados tratamiento 4\n",
    "\n",
    "n_regiones = len(norte + sur + occidente + centro) # Número total de observaciones\n",
    "c_regiones = 4 # Número total de tratamientos\n",
    "\n",
    "alpha_regiones = 0.05 # Nivel de significancia"
   ]
  },
  {
   "cell_type": "markdown",
   "metadata": {},
   "source": [
    "- Se plantea la hipótesis nula y alternativa:\n",
    "\n",
    "**Ho:** 𝜇norte = 𝜇sur = 𝜇occidente = 𝜇centro\n",
    "\n",
    "**Ha:** 𝑛𝑜 𝑡𝑜𝑑𝑎𝑠 𝑙𝑎𝑠 𝑚𝑒𝑑𝑖𝑎𝑠 𝑠𝑜𝑛 𝑖𝑔𝑢𝑎𝑙𝑒𝑠"
   ]
  },
  {
   "cell_type": "markdown",
   "metadata": {},
   "source": [
    "- Ahora encontraremos el valor crítico para rechazar la hipótesis nula"
   ]
  },
  {
   "cell_type": "code",
   "execution_count": 32,
   "metadata": {},
   "outputs": [
    {
     "data": {
      "text/plain": [
       "3.0983912121407799"
      ]
     },
     "execution_count": 32,
     "metadata": {},
     "output_type": "execute_result"
    }
   ],
   "source": [
    "df1_regiones = c_regiones - 1\n",
    "df2_regiones = n_regiones - c_regiones\n",
    "anova.crit_val_f(df1_regiones, df2_regiones, alpha_regiones)"
   ]
  },
  {
   "cell_type": "markdown",
   "metadata": {},
   "source": [
    "- Ahora encontraremos el estadístico de prueba (RAZÓN F) para comparar con el valor crítico y determinar si se rechaza la hipótesis nula"
   ]
  },
  {
   "cell_type": "code",
   "execution_count": 33,
   "metadata": {},
   "outputs": [
    {
     "data": {
      "text/plain": [
       "9.0203550392183534"
      ]
     },
     "execution_count": 33,
     "metadata": {},
     "output_type": "execute_result"
    }
   ],
   "source": [
    "get_fratio(norte, sur, occidente, centro)"
   ]
  },
  {
   "cell_type": "markdown",
   "metadata": {},
   "source": [
    "Entonces, teniendo en cuenta que el valor de la RAZÓN F **9.0203550392183534**, es **mayor** al valor crítico **3.0983912121407799**, se puede **rechazar con un nivel de significancia del *5%* la hipótesis nula.**\n",
    "\n",
    "El economista debe rechazar la hipótesis de que en promedio los residentes de las cuatro regiones pagan la misma suma en los impuestos federales sobre la gasolina. Es decir,  que estos promedios **NO SON IGUALES**."
   ]
  },
  {
   "cell_type": "markdown",
   "metadata": {},
   "source": [
    "<hr/>"
   ]
  },
  {
   "cell_type": "markdown",
   "metadata": {},
   "source": [
    "## 2. Pruebas para la diferencia entre pares de medias"
   ]
  },
  {
   "cell_type": "markdown",
   "metadata": {},
   "source": [
    "Para el ejercicio anterior vamos a hacer las pruebas para la diferencia entre pares de medias según el criterio de la diferencia mínima significativa (DMS), para encontrar cuales medias son iguales y cuales son diferentes\n",
    "\n"
   ]
  },
  {
   "cell_type": "code",
   "execution_count": 34,
   "metadata": {},
   "outputs": [
    {
     "name": "stdout",
     "output_type": "stream",
     "text": [
      "|x_1 - x_2| = |258.3333333333333 - 173.0| = 85.33333333333331 > 50.733792096165\n",
      "|x_1 - x_3| = |258.3333333333333 - 167.5| = 90.83333333333331 > 50.733792096165\n",
      "|x_1 - x_4| = |258.3333333333333 - 138.33333333333334| = 119.99999999999997 > 50.733792096165\n",
      "|x_2 - x_3| = |173.0 - 167.5| = 5.5 <= 50.733792096165\n",
      "|x_2 - x_4| = |173.0 - 138.33333333333334| = 34.66666666666666 <= 50.733792096165\n",
      "|x_3 - x_4| = |167.5 - 138.33333333333334| = 29.166666666666657 <= 50.733792096165\n"
     ]
    }
   ],
   "source": [
    "anova.get_dms(norte, sur, occidente, centro, sign=alpha_regiones)"
   ]
  },
  {
   "cell_type": "markdown",
   "metadata": {},
   "source": [
    "Podemos comprobar entonces, que de nuevo se afirma que los promedios no son iguales, pues hay algunos que según el análisis DMS, algunos valores sobrepasan el valor DMS, refiriéndose a que son diferentes entre ellas.\n",
    "\n",
    "Con esta información podemos decir que las zonas del país que pagan en promedio **la misma suma** en los impuestos federales sobre la gasolina son:\n",
    "\n",
    "- La zona Sur(2) y la zona Occidente(3)\n",
    "- La zona Sur(2) y la zona Centro(4)\n",
    "- La zona Occidente(3) y la zona Centro(4)\n",
    "\n",
    "También se puede decir que las zonas del país que pagan impuestos **diferentes** entre ellas son:\n",
    "\n",
    "- La zona Norte(1) y la zona Sur(2)\n",
    "- La zona Norte(1) y la zona Occidente(3)\n",
    "- La zona Norte(1) y la zona Centro(4)"
   ]
  },
  {
   "cell_type": "markdown",
   "metadata": {},
   "source": [
    "Teniendo en cuenta lo anterior, una posible conclusión sería que la zona Norte(1) es la zona del país que paga la mayor suma en los impuestos federales sobre la gasolina."
   ]
  },
  {
   "cell_type": "markdown",
   "metadata": {},
   "source": [
    "<hr/>\n",
    "<hr/>"
   ]
  },
  {
   "cell_type": "markdown",
   "metadata": {},
   "source": [
    "## 3. ANOVA 2 vías"
   ]
  },
  {
   "cell_type": "code",
   "execution_count": 35,
   "metadata": {
    "collapsed": true
   },
   "outputs": [],
   "source": [
    "planta1 = [42.7, 47.3, 57.3, 63.1, 49.2, 51.2, 48.0] # Resultados tratamiento 1\n",
    "planta2 = [38.3, 35.1, 42.7, 58.2, 32.7, 30.1, 31.1] # Resultados tratamiento 2\n",
    "planta3 = [42.9, 38.2, 49.9, 59.3, 45.7, 48.3, 45.2] # Resultados tratamiento 3\n",
    "planta4 = [30.1, 37.5, 47.8, 53.9, 33.8, 38.7, 39.7] # Resultados tratamiento 4\n",
    "\n",
    "r_plantas =  7 # Número de bloques\n",
    "c_plantas = 4 # Número de tratamientos\n",
    "n_plantas = r_plantas * c_plantas # Número total de observaciones\n",
    "\n",
    "alpha_plantas = 0.05 # Nivel de significancia"
   ]
  },
  {
   "cell_type": "markdown",
   "metadata": {},
   "source": [
    "Lo primero que debemos hacer es probar la hipótesis nula de que la producción promedio por semana es el mismo. Ya que las semanas no fueron elegidas de forma aleatoria."
   ]
  },
  {
   "cell_type": "markdown",
   "metadata": {},
   "source": [
    "- Se plantea la hipótesis nula y alternativa:\n",
    "\n",
    "**𝐻0:** 𝜇1 = 𝜇2 = 𝜇3 = 𝜇4 = 𝜇5 = 𝜇6 = 𝜇7\n",
    "\n",
    "**𝐻𝐴:** 𝑛𝑜 𝑡𝑜𝑑𝑎𝑠 𝑙𝑎𝑠 𝑚𝑒𝑑𝑖𝑎𝑠 𝑑𝑒 𝑙𝑎𝑠 𝑓𝑖𝑙𝑎𝑠 𝑠𝑜𝑛 𝑖𝑔𝑢𝑎𝑙𝑒𝑠 (semanas)\n",
    "\n",
    "<u>Donde:</u>\n",
    "\n",
    "𝜇𝑖 es la producción promedio por semana (fila)."
   ]
  },
  {
   "cell_type": "markdown",
   "metadata": {},
   "source": [
    "- Encontraremos el valor crítico para rechazar esta hipótesis nula."
   ]
  },
  {
   "cell_type": "code",
   "execution_count": 36,
   "metadata": {},
   "outputs": [
    {
     "data": {
      "text/plain": [
       "2.6613045229279"
      ]
     },
     "execution_count": 36,
     "metadata": {},
     "output_type": "execute_result"
    }
   ],
   "source": [
    "df1_plantas = r_plantas - 1\n",
    "df2_plantas = (r_plantas - 1) * (c_plantas - 1)\n",
    "anova.crit_val_f(df1_plantas, df2_plantas, alpha_plantas)"
   ]
  },
  {
   "cell_type": "markdown",
   "metadata": {},
   "source": [
    "- Ahora encontraremos el estadístico de prueba (RAZÓN F) para comparar con el valor crítico y determinar si se rechaza la hipótesis nula"
   ]
  },
  {
   "cell_type": "code",
   "execution_count": 38,
   "metadata": {},
   "outputs": [
    {
     "data": {
      "text/plain": [
       "16.094316299834514"
      ]
     },
     "execution_count": 38,
     "metadata": {},
     "output_type": "execute_result"
    }
   ],
   "source": [
    "anova.get_fratio2_cmbl(planta1, planta2, planta3, planta4)"
   ]
  },
  {
   "cell_type": "markdown",
   "metadata": {},
   "source": [
    "Entonces, como obtuvimos el valor de la RAZÓN F de los bloques **16.094316299834514** que es mayor al valor crítico calculado **2.6613045229279**. Se puede **rechazar** esta hipótesis nula con un nivel de significancia del *5%*.\n",
    "\n",
    "Dado que rechazamos la hipótesis nula, se concluye entonces, que el hecho de no haber tomado las muestras de las semanas de manera aleatoria ha afectado y ha tenido un efecto en los niveles de producción de la empresa.\n",
    "\n",
    "Por lo que debe corregir estas semanas utilizando un análisis de varianza de dos vías."
   ]
  },
  {
   "cell_type": "markdown",
   "metadata": {},
   "source": [
    "- Ahora vamos a plantear la hipótesis nula en la que la empresa ACME estaba inicialmente interesada, ¿Existe alguna diferencia en los niveles de producción promedio de las 4 plantas seleccionadas?\n",
    "\n",
    "**𝐻0:** 𝜇1= 𝜇2 = 𝜇3 = 𝜇4\n",
    "\n",
    "**𝐻𝐴:** 𝑛𝑜 𝑡𝑜𝑑𝑎𝑠 𝑙𝑎𝑠 𝑚𝑒𝑑𝑖𝑎𝑠 𝑑𝑒 𝑙𝑎𝑠 𝑐𝑜𝑙𝑢𝑚𝑛𝑎𝑠 𝑠𝑜𝑛 𝑖𝑔𝑢𝑎𝑙𝑒𝑠 (plantas)\n",
    "\n",
    "<u>Donde:</u>\n",
    "𝜇𝑖 son las medias de la producción por cada planta (columnas)."
   ]
  },
  {
   "cell_type": "markdown",
   "metadata": {},
   "source": [
    "- Encontraremos el valor crítico para rechazar ahora esta hipótesis nula"
   ]
  },
  {
   "cell_type": "code",
   "execution_count": 39,
   "metadata": {},
   "outputs": [
    {
     "data": {
      "text/plain": [
       "3.1599075898007243"
      ]
     },
     "execution_count": 39,
     "metadata": {},
     "output_type": "execute_result"
    }
   ],
   "source": [
    "df1_plantas_prod = c_plantas - 1\n",
    "df2_plantas_prod = (r_plantas - 1) * (c_plantas - 1)\n",
    "anova.crit_val_f(df1_plantas_prod, df2_plantas_prod, alpha_plantas)"
   ]
  },
  {
   "cell_type": "markdown",
   "metadata": {},
   "source": [
    "- Ahora encontraremos el estadístico de prueba (RAZÓN F) para comparar con el valor crítico y determinar si se rechaza la hipótesis nula"
   ]
  },
  {
   "cell_type": "code",
   "execution_count": 40,
   "metadata": {},
   "outputs": [
    {
     "data": {
      "text/plain": [
       "19.154333581355331"
      ]
     },
     "execution_count": 40,
     "metadata": {},
     "output_type": "execute_result"
    }
   ],
   "source": [
    "anova.get_fratio2(planta1, planta2, planta3, planta4)"
   ]
  },
  {
   "cell_type": "markdown",
   "metadata": {},
   "source": [
    "Entonces, como obtuvimos el valor de la RAZÓN F de las columnas **19.154333581355331** que es mayor al valor crítico calculado **3.1599075898007243**. Se puede **rechazar** esta hipótesis nula con un nivel de significancia del *5%*.\n",
    "\n",
    "Concluimos finalmente que estos niveles de producción por cada planta **si difieren** entre ellos, una vez que se ha hecho la corrección para el factor de las semanas. La producción en las plantas son diferentes entre ellas."
   ]
  },
  {
   "cell_type": "code",
   "execution_count": null,
   "metadata": {
    "collapsed": true
   },
   "outputs": [],
   "source": []
  }
 ],
 "metadata": {
  "kernelspec": {
   "display_name": "Python 3",
   "language": "python",
   "name": "python3"
  },
  "language_info": {
   "codemirror_mode": {
    "name": "ipython",
    "version": 3
   },
   "file_extension": ".py",
   "mimetype": "text/x-python",
   "name": "python",
   "nbconvert_exporter": "python",
   "pygments_lexer": "ipython3",
   "version": "3.7.0"
  }
 },
 "nbformat": 4,
 "nbformat_minor": 2
}
