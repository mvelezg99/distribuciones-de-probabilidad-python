{
 "cells": [
  {
   "cell_type": "markdown",
   "metadata": {},
   "source": [
    "# Ejercicios distribuciones de Probabilidad\n",
    "\n",
    "\n",
    "\n",
    "### Miguel Ángel Vélez Guerra - 1152469703\n",
    "\n",
    "<hr/>\n",
    "\n",
    "\n",
    "Empezaremos importando las librerías que nos ayudarán en el desarrollo del taller.\n",
    "- numpy para los cálculos complejos necesarios\n",
    "- scipy.stats para el uso de las funciones estadísticas y distribuciones que necesitamos\n",
    "- matplotlib.pyplot para graficar las funciones\n",
    "- **mstats** que es mi librería que cree con algunos métodos y funciones para graficar y hacer cálculos más específicos"
   ]
  },
  {
   "cell_type": "code",
   "execution_count": 2,
   "metadata": {},
   "outputs": [],
   "source": [
    "import numpy as np\n",
    "import scipy.stats as ss\n",
    "import matplotlib.pyplot as plt\n",
    "import mstats # miguel statistics"
   ]
  },
  {
   "cell_type": "markdown",
   "metadata": {},
   "source": [
    "<hr/>\n",
    "<hr/>\n",
    "\n",
    "## 1. Distribución binomial\n",
    "Un fabricante en California le suministra un diseño prototipo para\n",
    "una pieza de aeronave que requiere su negocio. Este nuevo producto, que es enviado en\n",
    "lotes de n= 12, sufre una tasa de defectos del 40%.\n",
    "a. Si usted no desea un riesgo mayor al 10% en la probabilidad de que 5 de los 12 sean\n",
    "defectuosos, ¿Debería comprarle a ese distribuidor?\n",
    "b. Si usted no desea enfrentar un riesgo mayor del 20% de probabilidad de que más de 5\n",
    "salgan defectuosos, ¿Debería comprarle a ese distribuidor?\n"
   ]
  },
  {
   "cell_type": "code",
   "execution_count": 3,
   "metadata": {},
   "outputs": [],
   "source": [
    "n_lotes = 12 # Número de lotes de prototipos de aeronave tomados como muestra\n",
    "pi_lotes = 0.4 # Porcentaje en la tasa de defectos de los lotes"
   ]
  },
  {
   "cell_type": "markdown",
   "metadata": {},
   "source": [
    "Podemos notar con los datos que nos da el ejercicio, que la distribución que siguen los valores es una distribución *binomial*; pues nos dan una muestra (n) y una probabilidad de exito (pi) de que ocurra un evento.\n"
   ]
  },
  {
   "cell_type": "code",
   "execution_count": 4,
   "metadata": {},
   "outputs": [],
   "source": [
    "distr_bin_lotes = ss.binom(n_lotes,pi_lotes)"
   ]
  },
  {
   "cell_type": "code",
   "execution_count": 5,
   "metadata": {},
   "outputs": [
    {
     "data": {
      "image/png": "[encoded data removed]",
      "text/plain": [
       "<Figure size 432x288 with 1 Axes>"
      ]
     },
     "metadata": {
      "needs_background": "light"
     },
     "output_type": "display_data"
    }
   ],
   "source": [
    "mstats.graficar_discreta(distr_bin_lotes, \"Distribución Binomial\")"
   ]
  },
  {
   "cell_type": "markdown",
   "metadata": {},
   "source": [
    "Aquí estamos declarando toda la distribución binomial que va seguir nuestro ejercicio, según el número de la muestra (15), y nuestra probabilidad de que un prototipo esté defectuoso (0.4). Esto lo haremos usando la función *.binom (distribución binomial)* de la librería *scipy.stats*\n",
    "\n",
    "**a) Si usted no desea un riesgo mayor al 10% en la probabilidad de que 5 de los 12 sean defectuosos, ¿Debería comprarle a ese distribuidor?**"
   ]
  },
  {
   "cell_type": "code",
   "execution_count": 6,
   "metadata": {},
   "outputs": [],
   "source": [
    "x_lotes_a = 5 # Número de lotes defectuosos a evaluar"
   ]
  },
  {
   "cell_type": "markdown",
   "metadata": {},
   "source": [
    "Ahora usaremos la función *.pmf (función de masa de probabilidad)* de la librería *scipy.stats.binom* que nos determina la probabilidad en un punto dado.\n",
    "\n",
    "Nos arroja la probabilidad de que de los 12 lotes con una tasa de defectos del 40%, hayan **exactamente** 5 lotes defectuosos."
   ]
  },
  {
   "cell_type": "code",
   "execution_count": 7,
   "metadata": {},
   "outputs": [
    {
     "data": {
      "text/plain": [
       "0.22703033548799986"
      ]
     },
     "execution_count": 7,
     "metadata": {},
     "output_type": "execute_result"
    }
   ],
   "source": [
    "prob_lotes_a = distr_bin_lotes.pmf(x_lotes_a)\n",
    "prob_lotes_a"
   ]
  },
  {
   "cell_type": "markdown",
   "metadata": {},
   "source": [
    "Como vemos, según el resultado que nos arroja la función, tenemos que hay un **22.7%** de probabilidad de que hayan 5 de 12 lotes defectuosos.\n",
    "\n",
    "\n",
    "\n",
    "**R/ a)** Como nosotros no queremos tener un riesgo mayor del **10%** en 5 de 12 unidades, entonces rechazaremos a ese distribuidor y no le compraremos sus prototipos, pues éste distribuidor tiene un riesgo del **22.7%**\n",
    "\n",
    "<hr/>"
   ]
  },
  {
   "cell_type": "markdown",
   "metadata": {},
   "source": [
    "**b) Si usted no desea enfrentar un riesgo mayor del 20% de probabilidad de que más de 5 salgan defectuosos, ¿Debería comprarle a ese distribuidor?**"
   ]
  },
  {
   "cell_type": "code",
   "execution_count": 8,
   "metadata": {},
   "outputs": [],
   "source": [
    "x_lotes_b = 5 # Número de lotes defectuosos a evaluar"
   ]
  },
  {
   "cell_type": "markdown",
   "metadata": {},
   "source": [
    "Ahora utilizaremos la función *.cdf (función acumulativa de la distribución)* de la librería *scipy.stats.binom* que nos dará el valor acumulado de la función hasta el punto que le pasamos como parámetro.\n",
    "\n",
    "Nos arrojará la probabilidad de que de los 12 lotes con una tasa de defectos del 40%, hayan **menos de 5** lotes defectuosos. Entonces, como necesitamos evaluar la probabilidad de que hayan **más de 5** lotes defectuosos, tendremos que restarle a 1 el valor que hemos obtenido (1 - valor)"
   ]
  },
  {
   "cell_type": "code",
   "execution_count": 9,
   "metadata": {},
   "outputs": [
    {
     "data": {
      "text/plain": [
       "0.3347914424320001"
      ]
     },
     "execution_count": 9,
     "metadata": {},
     "output_type": "execute_result"
    }
   ],
   "source": [
    "prob_lotes_b = 1 - distr_bin_lotes.cdf(x_lotes_b)\n",
    "prob_lotes_b"
   ]
  },
  {
   "cell_type": "markdown",
   "metadata": {},
   "source": [
    "Como vemos, según el resultado que nos arroja la función, tenemos que hay un **33.47%** de probabilidad de que hayan más de 5 lotes defectuosos en la muestra de 12 lotes.\n",
    "\n",
    "**R/ b)** Como nosotros no deseamos enfrentar un riesgo mayor del **20%** de probabilidad de que más de 5 lotes salgan defectuosos. Entonces debemos rechazar la oferta de este distribuidor, que nos ofrece un riesgo del **33.47%**\n",
    "\n",
    "<hr/>\n",
    "<hr/>\n",
    "\n"
   ]
  },
  {
   "cell_type": "markdown",
   "metadata": {},
   "source": [
    "## **2. Distribución hipergeométrica**\n",
    "Una tienda de productos deportivos tiene en existencia N=\n",
    "20 pares de botas para esquiar de las cuales r=8 son de su talla. Si usted selecciona n = 3\n",
    "pares que usted desea, ¿Cuál es la probabilidad de que X = 1 le quede bien?"
   ]
  },
  {
   "cell_type": "code",
   "execution_count": 10,
   "metadata": {},
   "outputs": [],
   "source": [
    "N_botas = 20 # Población total de pares de botas para esquiar\n",
    "r_botas = 8 # Número de botas de nuestra talla\n",
    "n_botas = 3 # Número de pares de botas seleccionado para la muestra"
   ]
  },
  {
   "cell_type": "markdown",
   "metadata": {},
   "source": [
    "Si analizamos la información y los datos que nos brinda el ejercicio, notamos que los valores están distribuidos en una distribución *hipergeométrica*; pues nos dicen el tamaño de la población a analizar (N), una proporción de la población con una condición especial (r), y una muestra para analizar con respecto a la condición especial (n).\n",
    "\n"
   ]
  },
  {
   "cell_type": "code",
   "execution_count": 11,
   "metadata": {},
   "outputs": [],
   "source": [
    "distr_hyper_botas = ss.hypergeom(N_botas, r_botas, n_botas)"
   ]
  },
  {
   "cell_type": "code",
   "execution_count": 12,
   "metadata": {},
   "outputs": [
    {
     "data": {
      "image/png": "[encoded data removed]",
      "text/plain": [
       "<Figure size 432x288 with 1 Axes>"
      ]
     },
     "metadata": {
      "needs_background": "light"
     },
     "output_type": "display_data"
    }
   ],
   "source": [
    "mstats.graficar_discreta(distr_hyper_botas, \"Distribución Hipergeométrica\")"
   ]
  },
  {
   "cell_type": "markdown",
   "metadata": {},
   "source": [
    "Declaramos la función hipergeométrica que va a seguir nuestro ejercicio, utilizando la función *.hypergeom (distribución hipergeométrica)* de la librería *scipy.stats*.\n",
    "\n",
    "Esta función recibe como parámetros el tamaño de la población (N), el número de éxitos de la población (r), y el tamaño de la muestra tomada (n)\n",
    "\n",
    "**¿Cuál es la probabilidad de que X = 1 le quede bien?**"
   ]
  },
  {
   "cell_type": "code",
   "execution_count": 13,
   "metadata": {},
   "outputs": [],
   "source": [
    "x_botas = 1 # Número de pares de botas seleccionado para la evaluación"
   ]
  },
  {
   "cell_type": "markdown",
   "metadata": {},
   "source": [
    "Vamos a determinar la probabilidad de que **x_botas = 1 botas** seleccionadas sean de nuestra talla **r_botas = 8** de una muestra de **n_botas = 3** tomadas del total de los **N_botas = 20** pares de botas que hay en total\n",
    "\n",
    "Para eso usaremos la función *.pmf (función de masa de probabilidad)* de la librería *scipy.stats.hypergeom*, que nos dice la probabilidad en un punto dado."
   ]
  },
  {
   "cell_type": "code",
   "execution_count": 14,
   "metadata": {},
   "outputs": [
    {
     "data": {
      "text/plain": [
       "0.4631578947368425"
      ]
     },
     "execution_count": 14,
     "metadata": {},
     "output_type": "execute_result"
    }
   ],
   "source": [
    "prob_botas = distr_hyper_botas.pmf(x_botas)\n",
    "prob_botas"
   ]
  },
  {
   "cell_type": "markdown",
   "metadata": {},
   "source": [
    "**R/** La probabilidad de que 1 de los pares de botas nos sirva es de **46.31%**"
   ]
  },
  {
   "cell_type": "markdown",
   "metadata": {},
   "source": [
    "<hr/>\n",
    "<hr/>"
   ]
  },
  {
   "cell_type": "markdown",
   "metadata": {},
   "source": [
    "## **3. Distribución de Poisson** \n",
    "El cable utilizado para asegurar las estructuras de los puentes\n",
    "tiene un promedio de 3 defectos por cada 100 yardas. Si usted necesita 50 yardas, ¿Cuál\n",
    "es la probabilidad de que haya una defectuosa?"
   ]
  },
  {
   "cell_type": "code",
   "execution_count": 54,
   "metadata": {},
   "outputs": [],
   "source": [
    "mu_yardas = (3/100) # Número promedio de defectos por cada unidad de yardas"
   ]
  },
  {
   "cell_type": "markdown",
   "metadata": {},
   "source": [
    "Podemos afirmar que los valores del ejercicio siguen una distribución de *Poisson*, pues tenemos una proporción de ocurrencias de un evento por unidad de espacio que siempre es constante.\n"
   ]
  },
  {
   "cell_type": "code",
   "execution_count": 49,
   "metadata": {},
   "outputs": [],
   "source": [
    "mu_yardas_cable = (mu_yardas * n_yardas)"
   ]
  },
  {
   "cell_type": "markdown",
   "metadata": {},
   "source": [
    "Nos dicen que según ese promedio de 3 defectos por cada 100 yardas, tenemos que determinar el promedio de defectos que hay en 50 yardas, que son las yardas que tenemos de cable"
   ]
  },
  {
   "cell_type": "code",
   "execution_count": 52,
   "metadata": {},
   "outputs": [],
   "source": [
    "distr_poi_yardas = ss.poisson(mu_yardas_cable)"
   ]
  },
  {
   "cell_type": "code",
   "execution_count": 53,
   "metadata": {},
   "outputs": [
    {
     "data": {
      "image/png": "[encoded data removed]",
      "text/plain": [
       "<Figure size 432x288 with 1 Axes>"
      ]
     },
     "metadata": {
      "needs_background": "light"
     },
     "output_type": "display_data"
    }
   ],
   "source": [
    "mstats.graficar_discreta(distr_poi_yardas, \"Distribución Poisson\")"
   ]
  },
  {
   "cell_type": "markdown",
   "metadata": {},
   "source": [
    "Entonces, según estos datos, ya podemos construir la distribución *poisson* que tienen los datos.\n",
    "\n",
    "Para esto usaremos la función *.poisson (distribución poisson)* de la librería *scipy.stats*, la cuál la recibe como parámetro el 'mu' del ejercicio que tengamos.\n",
    "\n",
    "**¿Cuál es la probabilidad de que haya una defectuosa?**"
   ]
  },
  {
   "cell_type": "code",
   "execution_count": 55,
   "metadata": {},
   "outputs": [],
   "source": [
    "n_yardas = 50 # Número de yardas del cable a tener en cuenta\n",
    "x_cables = 1 # Número de cables tomados para evaluar si están defetuosos"
   ]
  },
  {
   "cell_type": "markdown",
   "metadata": {},
   "source": [
    "Ahora vamos a determinar la probabilidad de que **x_cables = 1** cables seleccionados estén defectuosos según las condiciones que nos dieron.\n",
    "\n",
    "Para esto usaremos la función *.pmf (función de masa de probabilidad)* de la librería de *scipy.stats.poisson* que nos da la probabilidad en un punto dado"
   ]
  },
  {
   "cell_type": "code",
   "execution_count": 56,
   "metadata": {},
   "outputs": [
    {
     "data": {
      "text/plain": [
       "0.33469524022264474"
      ]
     },
     "execution_count": 56,
     "metadata": {},
     "output_type": "execute_result"
    }
   ],
   "source": [
    "prob_yardas = distr_poi_yardas.pmf(x_cables)\n",
    "prob_yardas"
   ]
  },
  {
   "cell_type": "markdown",
   "metadata": {},
   "source": [
    "**R/** La probabilidad de que uno de los cables seleccionados esté defectuoso es del **33.47%**"
   ]
  },
  {
   "cell_type": "markdown",
   "metadata": {},
   "source": [
    "<hr/>\n",
    "<hr/>"
   ]
  },
  {
   "cell_type": "markdown",
   "metadata": {},
   "source": [
    "## **4. Distribución exponencial** \n",
    "Como gerente de Burguer Heaven, usted observa que los\n",
    "clientes entran a su establecimiento a razón de 8 por hora. ¿Cuál es la probabilidad de que\n",
    "pasen más de 15 minutos entre la llegada de dos clientes?"
   ]
  },
  {
   "cell_type": "code",
   "execution_count": 21,
   "metadata": {},
   "outputs": [],
   "source": [
    "mu_exp = (8/60) # Tasa promedio de entradas de los clientes al establecimientos por minuto"
   ]
  },
  {
   "cell_type": "markdown",
   "metadata": {},
   "source": [
    "Teniendo en cuenta la forma que siguen las distribuciones exponenciales, podemos tomar la distribución de este ejercicio como *exponencial*, pues tenemos una tasa promedio de ocurrencias en un intervalo de tiempo.\n",
    "\n"
   ]
  },
  {
   "cell_type": "code",
   "execution_count": 22,
   "metadata": {},
   "outputs": [
    {
     "data": {
      "image/png": "[encoded data removed]",
      "text/plain": [
       "<Figure size 432x288 with 1 Axes>"
      ]
     },
     "metadata": {
      "needs_background": "light"
     },
     "output_type": "display_data"
    }
   ],
   "source": [
    "mstats.graficar_continua((ss.expon(mu_exp)), \"Distribución Exponencial\")"
   ]
  },
  {
   "cell_type": "markdown",
   "metadata": {},
   "source": [
    "**¿Cuál es la probabilidad de que pasen más de 15 minutos entre la llegada de dos clientes?**\n",
    "\n"
   ]
  },
  {
   "cell_type": "code",
   "execution_count": 23,
   "metadata": {},
   "outputs": [],
   "source": [
    "x_exp = 15 # Minutos a evaluar entre la entrada de 2 clientes"
   ]
  },
  {
   "cell_type": "markdown",
   "metadata": {},
   "source": [
    "Entonces, tenemos que con un promedio de 'mu' entradas por minutos al establecimiento. Queremos determinar la probabilidad de que pasen más de 15 minutos entre la llegada de 2 clientes.\n",
    "\n",
    "Para esto usaremos la función que declaramos al principio del taller *cdf_exponential (función de probabilidad acumulada)* que nos permite calcular la probabilidad acumulada hasta el punto que le pasamos como parámetro junto al 'mu' de la distribución. Luego de calcular esta probabilidad, tendremos que restarle a 1 esa probabilidad, pues nos interesa la probabilidad de que pasen **más** de 15 minutos entre la llegada de 2 clientes."
   ]
  },
  {
   "cell_type": "code",
   "execution_count": 24,
   "metadata": {},
   "outputs": [
    {
     "data": {
      "text/plain": [
       "0.1353352832366127"
      ]
     },
     "execution_count": 24,
     "metadata": {},
     "output_type": "execute_result"
    }
   ],
   "source": [
    "prob_exp = 1 - mstats.cdf_exponential(mu_exp, x_exp)\n",
    "prob_exp"
   ]
  },
  {
   "cell_type": "markdown",
   "metadata": {},
   "source": [
    "**R/** La probabilidad de pasen más de 15 minutos entre la llegada de 2 clientes al establecimiento es de **13.53%**"
   ]
  },
  {
   "cell_type": "markdown",
   "metadata": {},
   "source": [
    "<hr/>\n",
    "<hr/>"
   ]
  },
  {
   "cell_type": "markdown",
   "metadata": {},
   "source": [
    "## **5. Distribución uniforme** \n",
    "Los tiempos de terminación de un trabajo oscilan entre 10.2\n",
    "minutos a 18.3 minutos y se piensan que están distribuidos uniformemente. ¿Cuál es la\n",
    "probabilidad de que se requiera entre 12.7 y 14.5 minutos para realizar este trabajo?"
   ]
  },
  {
   "cell_type": "code",
   "execution_count": 25,
   "metadata": {},
   "outputs": [],
   "source": [
    "a_unif = 10.2 # Tiempo mínimo de terminación de un trabajo\n",
    "b_unif = 18.3 # Tiempo máximo de terminación de un trabajo\n",
    "rango_unif = b_unif - a_unif # Rango de oscilación de la terminación de los trabajos general"
   ]
  },
  {
   "cell_type": "markdown",
   "metadata": {},
   "source": [
    "Se puede asegurar que el ejercicio sigue una distribución *uniforme*, pues tenemos un rango de ocurrencia de un evento, y nos están preguntando por la probabilidad de que otro rango esté dentro del rango de la distribución.\n"
   ]
  },
  {
   "cell_type": "code",
   "execution_count": 26,
   "metadata": {},
   "outputs": [],
   "source": [
    "distr_unif_trabajos = ss.uniform(a_unif, rango_unif)"
   ]
  },
  {
   "cell_type": "code",
   "execution_count": 27,
   "metadata": {},
   "outputs": [
    {
     "data": {
      "image/png": "[encoded data removed]",
      "text/plain": [
       "<Figure size 432x288 with 1 Axes>"
      ]
     },
     "metadata": {
      "needs_background": "light"
     },
     "output_type": "display_data"
    }
   ],
   "source": [
    "mstats.graficar_continua(distr_unif_trabajos, \"Distribución Uniforme\")"
   ]
  },
  {
   "cell_type": "markdown",
   "metadata": {},
   "source": [
    "Con esta información, podemos construir la distribución *uniforme* que sigue el ejercicio, con la ayuda de la función *.uniform* de la librería *scipy.stats* la cual recibe como parámetros para su construcción, el punto mínimo de la distribución, y el rango que tiene *(tiempo máximo - tiempo mínimo)*\n",
    "\n",
    "**¿Cuál es la probabilidad de que se requiera entre 12.7 y 14.5 minutos para realizar este trabajo?**"
   ]
  },
  {
   "cell_type": "code",
   "execution_count": 28,
   "metadata": {},
   "outputs": [],
   "source": [
    "a_trabajo = 12.7 # Tiempo mínimo a evaluar de la terminación de un trabajo\n",
    "b_trabajo = 14.5 # Tiempo máximo a evaluar de la terminación de un trabajo\n",
    "rango_trabajo = a_trabajo - b_trabajo # Rango de oscilación de la terminación de los trabajos a evaluar"
   ]
  },
  {
   "cell_type": "markdown",
   "metadata": {},
   "source": [
    "Ahora vamos a determinar la probabilidad de que el tiempo necesario para terminar un trabajo esté en el rango de **rango_trabajo = 14.5 - 12.7**.\n",
    "\n",
    "Entonces necesitamos calculcar la probabilidad acumulado hasta el valor máximo y restarla con la probabilidad acumulada hasta el valor mínimo, para así obtener la probabilidad de que ese intervalo de valores ocurra en la distribución uniforme.\n",
    "\n",
    "Para esto utilizaremos la función *.cdf (función de probabilidad acumulada)* de la librería *scipy.stats.uniform*.\n",
    "\n"
   ]
  },
  {
   "cell_type": "code",
   "execution_count": 29,
   "metadata": {},
   "outputs": [
    {
     "data": {
      "text/plain": [
       "0.22222222222222232"
      ]
     },
     "execution_count": 29,
     "metadata": {},
     "output_type": "execute_result"
    }
   ],
   "source": [
    "prob_unif = distr_unif_trabajos.cdf(b_trabajo) - distr_unif_trabajos.cdf(a_trabajo)\n",
    "prob_unif"
   ]
  },
  {
   "cell_type": "markdown",
   "metadata": {},
   "source": [
    "**R/** La probabilidad de que se requiera entre 12.7 y 14.5 minutos es de **22.22%**"
   ]
  },
  {
   "cell_type": "markdown",
   "metadata": {},
   "source": [
    "<hr/>\n",
    "<hr/>"
   ]
  },
  {
   "cell_type": "markdown",
   "metadata": {},
   "source": [
    "## 6. Distribución normal\n",
    "El ministerio de agricultura de estados unidos en un estudio sobre\n",
    "cultivos ha detectado que las precipitaciones diarias en ciertos lugares de Hawaii parecen\n",
    "estar distribuidas normalmente con una media de 2.2 pulgadas durante la estación\n",
    "lluviosa. Se determinó que la desviación estándar era de 0.8 pulgadas.\n",
    "a. ¿Cuál es la probabilidad de que llueva más de 3.3 pulgadas en un día durante la\n",
    "estación lluviosa?\n",
    "b. Halle la probabilidad de que llueva más de 1.3 pulgadas.\n",
    "c. ¿Cuál es la probabilidad de que las precipitaciones estén entre 2.7 y 3.0 pulgadas?\n",
    "d. ¿Cuánta precipitación debe presentarse para exceder el 10% de las precipitaciones\n",
    "diarias?"
   ]
  },
  {
   "cell_type": "code",
   "execution_count": 30,
   "metadata": {},
   "outputs": [],
   "source": [
    "mu_precip = 2.2 # Valor promedio de pulgadas que se precipitan diariamente\n",
    "rho_precip = 0.8 # Desviación estándar de pulgadas que se precipitan diariamente"
   ]
  },
  {
   "cell_type": "markdown",
   "metadata": {},
   "source": [
    "Podemos afirmar que la distribución es *normal*, porque tenemos una media de la población y una desviación estándar de la población también. Asumiendo que todos los datos están relacionados con esos valores."
   ]
  },
  {
   "cell_type": "code",
   "execution_count": 31,
   "metadata": {},
   "outputs": [],
   "source": [
    "distr_norm_precip = ss.norm(mu_precip, rho_precip)"
   ]
  },
  {
   "cell_type": "code",
   "execution_count": 32,
   "metadata": {},
   "outputs": [
    {
     "data": {
      "image/png": "[encoded data removed]",
      "text/plain": [
       "<Figure size 432x288 with 1 Axes>"
      ]
     },
     "metadata": {
      "needs_background": "light"
     },
     "output_type": "display_data"
    }
   ],
   "source": [
    "mstats.graficar_continua(distr_norm_precip, \"Distribución Normal\")"
   ]
  },
  {
   "cell_type": "markdown",
   "metadata": {},
   "source": [
    "Hemos construido la distribución *normal* con la ayuda de la función *.norm (distribución normal)* de la librería *scipy.stats*; la cual recibe como parámetros la media de la población, y la desviación estándar de la población también."
   ]
  },
  {
   "cell_type": "markdown",
   "metadata": {},
   "source": [
    "**a) ¿Cuál es la probabilidad de que llueva más de 3.3 pulgadas en un día durante la estación lluviosa?**"
   ]
  },
  {
   "cell_type": "code",
   "execution_count": 33,
   "metadata": {},
   "outputs": [],
   "source": [
    "x_precip_a = 3.3 # Pulgadas precipitadas a evaluar"
   ]
  },
  {
   "cell_type": "markdown",
   "metadata": {},
   "source": [
    "Vamos a determinar la probabilidad de que llueva más de 3.3 pulgadas en un día **x_precip > 3.3**, que para esto necesitaremos tomar la probabilidad acumulada hasta ese punto y restarle a 1 ese valor de probabilidad."
   ]
  },
  {
   "cell_type": "code",
   "execution_count": 34,
   "metadata": {},
   "outputs": [
    {
     "data": {
      "text/plain": [
       "0.08456572235133575"
      ]
     },
     "execution_count": 34,
     "metadata": {},
     "output_type": "execute_result"
    }
   ],
   "source": [
    "prob_precip_a = 1 - distr_norm_precip.cdf(3.3)\n",
    "prob_precip_a"
   ]
  },
  {
   "cell_type": "markdown",
   "metadata": {},
   "source": [
    "**R/ a)** La probabilidad de que llueva más de 3.3 pulgadas en un dia durante la estación lluviosa es de **8.45%**\n",
    "\n",
    "<hr/>"
   ]
  },
  {
   "cell_type": "markdown",
   "metadata": {},
   "source": [
    "**b) Halle la probabilidad de que llueva más de 1.3 pulgadas.**"
   ]
  },
  {
   "cell_type": "code",
   "execution_count": 35,
   "metadata": {},
   "outputs": [],
   "source": [
    "x_precip_b = 1.3 # Pulgadas precipitadas a evaluar"
   ]
  },
  {
   "cell_type": "markdown",
   "metadata": {},
   "source": [
    "Vamos a determinar la probabilidad de que llueva más de 1.3 pulgadas en un día **x_precip > 1.3**, que para esto necesitaremos tomar la probabilidad acumulada hasta ese punto y restarle a 1 ese valor de probabilidad."
   ]
  },
  {
   "cell_type": "code",
   "execution_count": 36,
   "metadata": {},
   "outputs": [
    {
     "data": {
      "text/plain": [
       "0.8697054828631912"
      ]
     },
     "execution_count": 36,
     "metadata": {},
     "output_type": "execute_result"
    }
   ],
   "source": [
    "prob_precip_a = 1 - distr_norm_precip.cdf(1.3)\n",
    "prob_precip_a"
   ]
  },
  {
   "cell_type": "markdown",
   "metadata": {},
   "source": [
    "**R/ b)** Hay un **86.97%** de probabilidades de que llueva más de 1.3 pulgadas\n",
    "\n",
    "<hr/>"
   ]
  },
  {
   "cell_type": "markdown",
   "metadata": {},
   "source": [
    "**c) ¿Cuál es la probabilidad de que las precipitaciones estén entre 2.7 y 3.0 pulgadas?**"
   ]
  },
  {
   "cell_type": "code",
   "execution_count": 37,
   "metadata": {},
   "outputs": [],
   "source": [
    "x1_precip_c = 2.7 # Pulgadas mínimas precipitadas a evaluar\n",
    "x2_precip_c = 3 # Pulgadas máximas precipitadas a evaluar"
   ]
  },
  {
   "cell_type": "markdown",
   "metadata": {},
   "source": [
    "Entonces, tenemos que determinar la probabilidad de que las precipitaciones estén entre 2.7 y 3 pulgadas, para esto vamos a determinar la probabilidad acumulada hasta el punto máximo (3) y restarla con la probabilidad acumulada hasta el punto mínimo (2.7)."
   ]
  },
  {
   "cell_type": "code",
   "execution_count": 38,
   "metadata": {},
   "outputs": [
    {
     "data": {
      "text/plain": [
       "0.10733027511724347"
      ]
     },
     "execution_count": 38,
     "metadata": {},
     "output_type": "execute_result"
    }
   ],
   "source": [
    "prob_precip_c = distr_norm_precip.cdf(3) - distr_norm_precip.cdf(2.7)\n",
    "prob_precip_c"
   ]
  },
  {
   "cell_type": "markdown",
   "metadata": {},
   "source": [
    "**R/ c)** La probabilidad de que las precipitaciones estén entre 2.7 y 3 pulgadas es de **10.73%**\n",
    "<hr/>"
   ]
  },
  {
   "cell_type": "markdown",
   "metadata": {},
   "source": [
    "**d) ¿Cuánta precipitación debe presentarse para exceder el 10% de las precipitaciones diarias?**"
   ]
  },
  {
   "cell_type": "code",
   "execution_count": 63,
   "metadata": {},
   "outputs": [],
   "source": [
    "prob_precip_d = 0.1 # Probabilidad de que ocurran 'x' numero de precipitaciones diarias"
   ]
  },
  {
   "cell_type": "code",
   "execution_count": 108,
   "metadata": {},
   "outputs": [
    {
     "data": {
      "text/plain": [
       "1.1747587475643197"
      ]
     },
     "execution_count": 108,
     "metadata": {},
     "output_type": "execute_result"
    }
   ],
   "source": [
    "distr_norm_precip.ppf(0.1)"
   ]
  },
  {
   "cell_type": "code",
   "execution_count": 109,
   "metadata": {},
   "outputs": [],
   "source": [
    "ss.norm?"
   ]
  },
  {
   "cell_type": "code",
   "execution_count": null,
   "metadata": {},
   "outputs": [],
   "source": []
  }
 ],
 "metadata": {
  "kernelspec": {
   "display_name": "Python 3",
   "language": "python",
   "name": "python3"
  },
  "language_info": {
   "codemirror_mode": {
    "name": "ipython",
    "version": 3
   },
   "file_extension": ".py",
   "mimetype": "text/x-python",
   "name": "python",
   "nbconvert_exporter": "python",
   "pygments_lexer": "ipython3",
   "version": "3.7.0"
  }
 },
 "nbformat": 4,
 "nbformat_minor": 2
}
