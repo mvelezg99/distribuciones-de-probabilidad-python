{
 "cells": [
  {
   "cell_type": "markdown",
   "metadata": {},
   "source": [
    "**<p style=\"font-size: 35px; text-align: center\">Analysis of Variance</p>**\n",
    "\n",
    "\n",
    "\n",
    "***<center>Miguel Ángel Vélez Guerra</center>***\n",
    "\n",
    "<hr/>\n",
    "\n",
    "![anova](https://i.pinimg.com/originals/47/01/3b/47013becd153df62e9ee817a46e5a2ba.png)"
   ]
  },
  {
   "cell_type": "markdown",
   "metadata": {},
   "source": [
    "<hr/>\n",
    "<hr/>"
   ]
  },
  {
   "cell_type": "code",
   "execution_count": null,
   "metadata": {},
   "outputs": [],
   "source": [
    "#-------Importing from other folder------#\n",
    "\n",
    "import sys\n",
    "sys.path.insert(0, \"../resources/\")\n",
    "\n",
    "import mstats as ms\n",
    "\n",
    "#-----------Miguel's statistics----------#"
   ]
  },
  {
   "cell_type": "code",
   "execution_count": null,
   "metadata": {},
   "outputs": [],
   "source": [
    "import scipy.stats as ss\n",
    "import numpy as np"
   ]
  },
  {
   "cell_type": "markdown",
   "metadata": {},
   "source": [
    "<hr/>\n",
    "<hr/>"
   ]
  },
  {
   "attachments": {
    "image.png": {
     "image/png": "[encoded data removed]"
    }
   },
   "cell_type": "markdown",
   "metadata": {},
   "source": [
    "## 1. Análisis de varianza a una vía\n",
    "El director administrativo de una empresa industrial desea determinar si los tres\n",
    "programas de capacitación distintos tienen efectos diferentes en los niveles de\n",
    "productividad de los empleados. Se seleccionan aleatoriamente 14 empleados y se\n",
    "asignan a uno de los tres programas. Al terminar la capacitación, cada empleado\n",
    "responde un examen para determinar su competencia. Se colocan cuatro empleados\n",
    "en el primer programa de capacitación y cinco en cada uno de los otros dos\n",
    "programas. Cada uno de estos tres grupos se trata de manera independiente como\n",
    "nuestras separadas.\n",
    "\n",
    "![image.png](attachment:image.png)"
   ]
  },
  {
   "cell_type": "code",
   "execution_count": null,
   "metadata": {},
   "outputs": [],
   "source": [
    "programa1 = [85, 72, 83, 80] # Resultados de la muestra 1\n",
    "programa2 = [80, 84, 81, 78, 82] # Resultados de la muestra 2\n",
    "programa3 = [82, 80, 85, 90, 88] # Resultados de la muestra 3\n",
    "\n",
    "n_programas = 14 # Número total de observaciones\n",
    "c_programas = 3 # Número total de tratamientos\n",
    "\n",
    "alpha_programas = 0.05 # Nivel de significancia"
   ]
  },
  {
   "cell_type": "markdown",
   "metadata": {},
   "source": [
    "**Ho:** μ1 = μ2 = μ3\n",
    "\n",
    "**Ha:** μ1 ≠ μ2 ≠ μ3"
   ]
  },
  {
   "cell_type": "markdown",
   "metadata": {},
   "source": [
    "**Encontramos las medias por cada tratamiento y la gran media**"
   ]
  },
  {
   "cell_type": "code",
   "execution_count": null,
   "metadata": {},
   "outputs": [],
   "source": [
    "mean_programa1 = np.mean(programa1)\n",
    "mean_programa2 = np.mean(programa2)\n",
    "mean_programa3 = np.mean(programa3)\n",
    "\n",
    "bigmean_programas = np.mean(programa1 + programa2 + programa3)"
   ]
  },
  {
   "cell_type": "markdown",
   "metadata": {},
   "source": [
    "### **Vamos a encontrar las sumas de los cuadrados**"
   ]
  },
  {
   "cell_type": "markdown",
   "metadata": {},
   "source": [
    "**Suma de cuadrados total**"
   ]
  },
  {
   "cell_type": "code",
   "execution_count": null,
   "metadata": {},
   "outputs": [],
   "source": [
    "sct_programas = ms.anova.get_sct(programa1, programa2, programa3)\n",
    "sct_programas"
   ]
  },
  {
   "cell_type": "markdown",
   "metadata": {},
   "source": [
    "**Suma de cuadrados de los tratamientos**"
   ]
  },
  {
   "cell_type": "code",
   "execution_count": null,
   "metadata": {},
   "outputs": [],
   "source": [
    "sctr_programas = ms.anova.get_sctr(programa1, programa2, programa3)\n",
    "sctr_programas"
   ]
  },
  {
   "cell_type": "markdown",
   "metadata": {},
   "source": [
    "**Suma de cuadrados del error**"
   ]
  },
  {
   "cell_type": "code",
   "execution_count": null,
   "metadata": {},
   "outputs": [],
   "source": [
    "sce_programas = ms.anova.get_sce(programa1, programa2, programa3)\n",
    "sce_programas"
   ]
  },
  {
   "cell_type": "markdown",
   "metadata": {},
   "source": [
    "### Vamos a encontrar los cuadrados medios"
   ]
  },
  {
   "cell_type": "markdown",
   "metadata": {},
   "source": [
    "**Cuadrado medio total**"
   ]
  },
  {
   "cell_type": "code",
   "execution_count": null,
   "metadata": {},
   "outputs": [],
   "source": [
    "cmt_programas = ms.anova.get_cmt(programa1, programa2, programa3)\n",
    "cmt_programas"
   ]
  },
  {
   "cell_type": "markdown",
   "metadata": {},
   "source": [
    "**Cuadrado medio del tratamiento**"
   ]
  },
  {
   "cell_type": "code",
   "execution_count": null,
   "metadata": {},
   "outputs": [],
   "source": [
    "cmtr_programas = ms.anova.get_cmtr(programa1, programa2, programa3)\n",
    "cmtr_programas"
   ]
  },
  {
   "cell_type": "markdown",
   "metadata": {},
   "source": [
    "**Cuadrado medio del error**"
   ]
  },
  {
   "cell_type": "code",
   "execution_count": null,
   "metadata": {},
   "outputs": [],
   "source": [
    "cme_programas = ms.anova.get_cme(programa1, programa2, programa3)\n",
    "cme_programas"
   ]
  },
  {
   "cell_type": "markdown",
   "metadata": {},
   "source": [
    "### Vamos a encontrar la razón F"
   ]
  },
  {
   "cell_type": "code",
   "execution_count": null,
   "metadata": {},
   "outputs": [],
   "source": [
    "f_programas = ms.anova.get_fratio(programa1, programa2, programa3)\n",
    "f_programas"
   ]
  },
  {
   "cell_type": "markdown",
   "metadata": {},
   "source": [
    "**Valor crítico**"
   ]
  },
  {
   "cell_type": "code",
   "execution_count": null,
   "metadata": {},
   "outputs": [],
   "source": [
    "df1_programas = c_programas - 1\n",
    "df2_programas = n_programas - c_programas\n",
    "ms.hypothesis.crit_val_f(df1_programas, df2_programas, alpha_programas)"
   ]
  },
  {
   "cell_type": "markdown",
   "metadata": {},
   "source": [
    "### Regla de decisión"
   ]
  },
  {
   "cell_type": "markdown",
   "metadata": {},
   "source": [
    "Debido a que el valor de la razón f es **1.9431643625192017** que es menor al valor crítico encontrado **3.9822979570944836**, cae en la zona de no rechazo. Por lo que el CEO no debería rechazar la hipótesis de que el puntaje de prueba son los mismos en todos los tratamiento."
   ]
  },
  {
   "cell_type": "markdown",
   "metadata": {},
   "source": [
    "<hr/>\n",
    "<hr/>"
   ]
  },
  {
   "attachments": {
    "image.png": {
     "image/png": "[encoded data removed]"
    }
   },
   "cell_type": "markdown",
   "metadata": {},
   "source": [
    "## 2. Análisis de varianza a una vía\n",
    "Robert Shade es vicepresidente de mercadeo en First City Bank en\n",
    "Atlanta. Los recientes esfuerzos promocionales para atraer nuevos depositantes incluyen\n",
    "algunos juegos y premios en cuatro sucursales del banco. Shade está convencido de que\n",
    "diferentes tipos de premios atraerían a diferentes grupos de ingreso. Las personas de un\n",
    "nivel de ingreso prefieren los regalos, mientras que los de otro grupo de ingreso pueden\n",
    "sentirse más atraídas por viajes gratuitos a sitios favoritos para pasar vacaciones. Shade\n",
    "decide utilizar el monto de los depósitos como una media representativa del ingreso. El\n",
    "desea determinar si existe una diferencia en el nivel promedio de depósitos entre las\n",
    "cuatro sucursales. Si se halla alguna diferencia, Shade ofrecerá una diversidad de\n",
    "premios promocionales. Se desea un alfa del 5%.\n",
    "\n",
    "![image.png](attachment:image.png)"
   ]
  },
  {
   "cell_type": "code",
   "execution_count": null,
   "metadata": {},
   "outputs": [],
   "source": [
    "sucursal1 = [5.1, 4.9, 5.6, 4.8, 3.8, 5.1, 4.8] # Resultados de la muestra 1\n",
    "sucursal2 = [1.9, 1.9, 2.1, 2.4, 2.1, 3.1, 2.5] # Resultados de la muestra 2\n",
    "sucursal3 = [3.6, 4.2, 4.5, 4.8, 3.9, 4.1, 5.1] # Resultados de la muestra 3\n",
    "sucursal4 = [1.3, 1.5, 0.9, 1.0, 1.9, 1.5, 2.1] # Resultados de la muestra 4\n",
    "\n",
    "n_depositos = 7*4 # Número total de observaciones\n",
    "c_sucursales = 4 # Número total de tratamientos\n",
    "\n",
    "alpha_sucursales = 0.05 # Nivel de significancia"
   ]
  },
  {
   "cell_type": "code",
   "execution_count": null,
   "metadata": {},
   "outputs": [],
   "source": [
    "ms.anova.get_fratio(sucursal1, sucursal2, sucursal3, sucursal4)"
   ]
  },
  {
   "cell_type": "code",
   "execution_count": null,
   "metadata": {},
   "outputs": [],
   "source": []
  },
  {
   "cell_type": "code",
   "execution_count": null,
   "metadata": {},
   "outputs": [],
   "source": []
  }
 ],
 "metadata": {
  "kernelspec": {
   "display_name": "Python 3",
   "language": "python",
   "name": "python3"
  },
  "language_info": {
   "codemirror_mode": {
    "name": "ipython",
    "version": 3
   },
   "file_extension": ".py",
   "mimetype": "text/x-python",
   "name": "python",
   "nbconvert_exporter": "python",
   "pygments_lexer": "ipython3",
   "version": "3.7.0"
  }
 },
 "nbformat": 4,
 "nbformat_minor": 2
}
