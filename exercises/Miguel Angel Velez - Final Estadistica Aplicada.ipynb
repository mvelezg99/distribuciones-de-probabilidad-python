{
 "cells": [
  {
   "cell_type": "markdown",
   "metadata": {},
   "source": [
    "# Final Estadística Aplicada\n",
    "## Miguel Ángel Vélez - 1152469703\n",
    "***"
   ]
  },
  {
   "cell_type": "code",
   "execution_count": 5,
   "metadata": {
    "collapsed": true
   },
   "outputs": [],
   "source": [
    "import sys\n",
    "sys.path.insert(0, \"../resources/\")\n",
    "\n",
    "#------------ Miguel's statistics ---------#\n",
    "\n",
    "import mstats as ms\n",
    "\n",
    "#------------------------------------------#"
   ]
  },
  {
   "cell_type": "code",
   "execution_count": 6,
   "metadata": {
    "collapsed": true
   },
   "outputs": [],
   "source": [
    "import scipy.stats as ss\n",
    "import numpy as np"
   ]
  },
  {
   "cell_type": "markdown",
   "metadata": {},
   "source": [
    "***"
   ]
  },
  {
   "cell_type": "markdown",
   "metadata": {},
   "source": [
    "### 1.\n",
    "Según la reserva federal, la tasa de descuentos podría predecirse a partir de la tasa de fondos federales, sin emabrgo, estudios recientes dicen que no está sirviendo como predictor adecuado de los cambios en la tasa de descuentos. Los datos para ambas variables son los siguientes:\n",
    "\n",
    "|Fecha|Tasa de fondos federales (%)|Tasa de descuento (%)|\n",
    "|-|\n",
    "|Junio de 2014|8|7.5|\n",
    "|Julio de 2014|7.5|7.5|\n",
    "|Agosto de 2014|7|7|\n",
    "|Septiembre de 2014|6.5|6.5|\n",
    "|Octubre de 2014|6|6|\n",
    "|Noviembre de 2014|6|5.5|\n",
    "|Diciembre de 2014|7|5.5|\n",
    "|Enero de 2015|6|5.5|\n",
    "|Febrero de 2015|7|5.5|\n",
    "|Marzo de 2015|7.5|5.5|\n",
    "|Abril de 2015|7|6|\n",
    "|Mayo de 2015|7.5|6.5|\n",
    "\n",
    "\n",
    "\n",
    "**a.** Determine cuál es la variable dependiente y cual es la independiente.\n",
    "\n",
    "**b.** Calcule e interprete el modelo de regresión. ¿Qué le dice este modelo sobre la relación entre la tasa de descuento y la tasa de fondos federales?\n",
    "\n",
    "**c.** ¿Qué valor de tasa de descuento pronosticaría el modelo si en un año la tasa de fondos federales es de 7.5?\n",
    "\n",
    "**d.** ¿Cuál es el error estándar de estimación para los datos analizados?\n",
    "\n",
    "**e.** Calcule el coeficiente de correlación y el coeficiente de determinación para los datos analizados.\n",
    "\n",
    "**f.** ¿La relación entre la tasa de descuento y la tasa de fondos federales que está analizando es significativa? Pruebe la hipótesis a un nivel de significancia del 1%.\n",
    "\n",
    "***"
   ]
  },
  {
   "cell_type": "markdown",
   "metadata": {},
   "source": [
    "**a. Determine cuál es la variable dependiente y cual es la independiente.**"
   ]
  },
  {
   "cell_type": "code",
   "execution_count": 4,
   "metadata": {
    "collapsed": true
   },
   "outputs": [],
   "source": [
    "y_descuento = [7.5, 7.5, 7, 6.5, 6, 5.5, 5.5, 5.5, 5.5, 5.5, 6, 6.5] # Variable dependiente -> Tasa de descuentos\n",
    "x_fondos = [8, 7.5, 7, 6.5, 6, 6, 7, 6, 7, 7.5, 7, 7.5] # Variable independiente -> Tasa de fondos federales"
   ]
  },
  {
   "cell_type": "markdown",
   "metadata": {},
   "source": [
    "**b. Calcule e interprete el modelo de regresión. ¿Qué le dice este modelo sobre la relación entre la tasa de descuento y la tasa de fondos federales?**"
   ]
  },
  {
   "cell_type": "code",
   "execution_count": 7,
   "metadata": {},
   "outputs": [
    {
     "data": {
      "text/plain": [
       "'ÿ = 1.69 + 0.65x'"
      ]
     },
     "execution_count": 7,
     "metadata": {},
     "output_type": "execute_result"
    }
   ],
   "source": [
    "model_federal = ms.linregr.regression(x_fondos, y_descuento)\n",
    "model_federal.shape"
   ]
  },
  {
   "cell_type": "code",
   "execution_count": 8,
   "metadata": {},
   "outputs": [
    {
     "data": {
      "image/png": "[encoded data removed]",
      "text/plain": [
       "<matplotlib.figure.Figure at 0x1eeef2d5400>"
      ]
     },
     "metadata": {},
     "output_type": "display_data"
    }
   ],
   "source": [
    "ms.graph.linregr(x_fondos, y_descuento)"
   ]
  },
  {
   "cell_type": "markdown",
   "metadata": {},
   "source": [
    "Se puede observar que el modelo de regresión que obtuvimos nos muestra teóricamente la relación entre la tasa de descuento y la tasa de fondos federales; Por cada incremento en una unidad de la tasa de descuento, la tasa de fondos federales aumentará en 0.65 unidades."
   ]
  },
  {
   "cell_type": "markdown",
   "metadata": {},
   "source": [
    "**c. ¿Qué valor de tasa de descuento pronosticaría el modelo si en un año la tasa de fondos federales es de 7.5?**"
   ]
  },
  {
   "cell_type": "code",
   "execution_count": 9,
   "metadata": {},
   "outputs": [
    {
     "data": {
      "text/plain": [
       "6.5889830508474647"
      ]
     },
     "execution_count": 9,
     "metadata": {},
     "output_type": "execute_result"
    }
   ],
   "source": [
    "model_federal(7.5)"
   ]
  },
  {
   "cell_type": "markdown",
   "metadata": {},
   "source": [
    "Según nuestro modelo de regresión lineal, si se tiene una tasa de fondos federales de **7.5**, el valor de tasa de descuento sería de **6.5889830508474647**."
   ]
  },
  {
   "cell_type": "markdown",
   "metadata": {},
   "source": [
    "**d. ¿Cuál es el error estándar de estimación para los datos analizados?**"
   ]
  },
  {
   "cell_type": "code",
   "execution_count": 10,
   "metadata": {},
   "outputs": [
    {
     "data": {
      "text/plain": [
       "0.6808519090330096"
      ]
     },
     "execution_count": 10,
     "metadata": {},
     "output_type": "execute_result"
    }
   ],
   "source": [
    "se_federal = ms.linregr.get_se(x_fondos, y_descuento)\n",
    "se_federal"
   ]
  },
  {
   "cell_type": "markdown",
   "metadata": {},
   "source": [
    "El error estándar que tienen estos datos analizados es de **0.6808519090330096** unidades."
   ]
  },
  {
   "cell_type": "markdown",
   "metadata": {},
   "source": [
    "**e. Calcule el coeficiente de correlación y el coeficiente de determinación para los datos analizados.**"
   ]
  },
  {
   "cell_type": "code",
   "execution_count": 11,
   "metadata": {},
   "outputs": [
    {
     "data": {
      "text/plain": [
       "0.5577806681462556"
      ]
     },
     "execution_count": 11,
     "metadata": {},
     "output_type": "execute_result"
    }
   ],
   "source": [
    "r_federal = ms.linregr.get_r(x_fondos, y_descuento)\n",
    "r_federal"
   ]
  },
  {
   "cell_type": "markdown",
   "metadata": {},
   "source": [
    "El coeficiente de correlación para los datos analizados es **0.5577806681462556**. Lo que indica una débil relación entre la tasa de descuento y la tasa de fondos federales."
   ]
  },
  {
   "cell_type": "code",
   "execution_count": 12,
   "metadata": {},
   "outputs": [
    {
     "data": {
      "text/plain": [
       "0.31111927375768333"
      ]
     },
     "execution_count": 12,
     "metadata": {},
     "output_type": "execute_result"
    }
   ],
   "source": [
    "r2_federal = ms.linregr.get_r2(x_fondos, y_descuento)\n",
    "r2_federal"
   ]
  },
  {
   "cell_type": "markdown",
   "metadata": {},
   "source": [
    "El coeficiente de determinación para los datos analizados es **0.31111927375768333**. Lo que establece que el 31.1% del cambio en la tasa de descuento se explica mediante un cambio en la tasa de fondos federales."
   ]
  },
  {
   "cell_type": "markdown",
   "metadata": {},
   "source": [
    "**f. ¿La relación entre la tasa de descuento y la tasa de fondos federales que está analizando es significativa? Pruebe la hipótesis a un nivel de significancia del 1%.**"
   ]
  },
  {
   "cell_type": "markdown",
   "metadata": {},
   "source": [
    "* **Nivel de significancia**"
   ]
  },
  {
   "cell_type": "code",
   "execution_count": 13,
   "metadata": {
    "collapsed": true
   },
   "outputs": [],
   "source": [
    "sign_federal = 0.01"
   ]
  },
  {
   "cell_type": "markdown",
   "metadata": {},
   "source": [
    "* **Plantear las hipótesis**"
   ]
  },
  {
   "cell_type": "markdown",
   "metadata": {},
   "source": [
    "$H_0: β_1 = 0$ -> *La pendiente de la recta de regresión poblacional es cero*\n",
    "\n",
    "$H_A: β_1 ≠ 0$ -> *La pendiente de la recta de regresión poblacional es diferente de cero*"
   ]
  },
  {
   "cell_type": "markdown",
   "metadata": {},
   "source": [
    "* **Valores críticos**"
   ]
  },
  {
   "cell_type": "code",
   "execution_count": 14,
   "metadata": {
    "collapsed": true
   },
   "outputs": [],
   "source": [
    "df_federal = len(x_fondos) - 2"
   ]
  },
  {
   "cell_type": "code",
   "execution_count": 15,
   "metadata": {},
   "outputs": [
    {
     "data": {
      "text/plain": [
       "(-3.169272667175838, 3.169272667175838)"
      ]
     },
     "execution_count": 15,
     "metadata": {},
     "output_type": "execute_result"
    }
   ],
   "source": [
    "crit_federal = ms.hypothesis.crit_val_t(df_federal, sign_federal, 'two')\n",
    "crit_federal"
   ]
  },
  {
   "cell_type": "markdown",
   "metadata": {},
   "source": [
    "* **Estadístico de prueba (T)**"
   ]
  },
  {
   "cell_type": "code",
   "execution_count": 16,
   "metadata": {},
   "outputs": [
    {
     "data": {
      "text/plain": [
       "2.125159061330204"
      ]
     },
     "execution_count": 16,
     "metadata": {},
     "output_type": "execute_result"
    }
   ],
   "source": [
    "t_federal = ms.linregr.get_t_beta(x_fondos, y_descuento)\n",
    "t_federal"
   ]
  },
  {
   "cell_type": "markdown",
   "metadata": {},
   "source": [
    "* **Decisión**"
   ]
  },
  {
   "cell_type": "code",
   "execution_count": 17,
   "metadata": {},
   "outputs": [
    {
     "data": {
      "image/png": "[encoded data removed]",
      "text/plain": [
       "<matplotlib.figure.Figure at 0x1eeefad9c18>"
      ]
     },
     "metadata": {},
     "output_type": "display_data"
    }
   ],
   "source": [
    "distr_federal = ss.t(df_federal)\n",
    "ms.graph.hypothesis(distr_federal, t_federal, sign_federal, 'two')"
   ]
  },
  {
   "cell_type": "markdown",
   "metadata": {},
   "source": [
    "**NO se rechaza la hipótesis nula.** Dado que el estadístico de prueba *2.125159061330204* no es **mayor/menor** que los valores críticos calculados *(-3.169272667175838, 3.169272667175838)*. Por lo que cae en la zona de **NO RECHAZO** con un nivel de significancia del 1%."
   ]
  },
  {
   "cell_type": "markdown",
   "metadata": {},
   "source": [
    "* **Conclusión**"
   ]
  },
  {
   "cell_type": "markdown",
   "metadata": {},
   "source": [
    "Entonces, se puede concluir que la relación entre la tasa de descuento y la tasa de fondos federales **no es significativa**, teniendo en cuenta un nivel de significancia del 1%."
   ]
  },
  {
   "cell_type": "markdown",
   "metadata": {},
   "source": [
    "***\n",
    "***"
   ]
  },
  {
   "cell_type": "markdown",
   "metadata": {},
   "source": [
    "### 2.\n",
    "Los economistas han sostenido durante mucho tiempo que la demanda de dinero por una\n",
    "comunidad se ve afectada por 1) el nivel de ingreso y 2) la tasa de interés. A medida que el\n",
    "ingreso aumenta, las personas desean guardar más dinero para facilitar el incremento de\n",
    "sus transacciones diarias. A medida que la tasa de interés aumenta, las personas deciden\n",
    "mantener menos dinero debido a la oportunidad de invertirlo a una tasa de interés más\n",
    "elevada.\n",
    "Un economista del gobierno hace regresión de la demanda de dinero (D), el ingreso (I) y\n",
    "las tasas de interés (R), en donde D se expresa en cientos de dólares e I en miles de\n",
    "dólares. El modelo es:\n",
    "\n",
    "$$\\hat{D} ̂= 0.44+5.49I+6.4R$$\n",
    "\n",
    "Una tabla parcial ANOVA:\n",
    "\n",
    "|Fuente|Suma de cuadrados|Grados de libertad|\n",
    "|-|\n",
    "|Entre muestras|93.59|2|\n",
    "|Dentro de muestras|1.42|9|\n",
    "\n",
    "Si el error estándar del coeficiente para I es 1.37 y el de R es 43.6, determine cual variable\n",
    "es (o cuales variables son) significante al nivel del 1%. Plantee la hipótesis, la regla de\n",
    "decisión y la conclusión.\n",
    "\n",
    "***"
   ]
  },
  {
   "cell_type": "markdown",
   "metadata": {},
   "source": [
    "### Ingreso (I)"
   ]
  },
  {
   "cell_type": "markdown",
   "metadata": {},
   "source": [
    "* **Nivel de significancia**"
   ]
  },
  {
   "cell_type": "code",
   "execution_count": 18,
   "metadata": {
    "collapsed": true
   },
   "outputs": [],
   "source": [
    "sign_ingreso = 0.01"
   ]
  },
  {
   "cell_type": "markdown",
   "metadata": {},
   "source": [
    "* **Plantear hipótesis**"
   ]
  },
  {
   "cell_type": "markdown",
   "metadata": {},
   "source": [
    "$H_0 : β_1 = 0$ *El ingreso no contribuye significativamente al poder explicativo del modelo.*\n",
    "\n",
    "$H_A : β_1 ≠ 0$ *El ingreso contribuye significativamente al poder explicativo del modelo.*"
   ]
  },
  {
   "cell_type": "markdown",
   "metadata": {},
   "source": [
    "* **Valores críticos**"
   ]
  },
  {
   "cell_type": "code",
   "execution_count": 19,
   "metadata": {
    "collapsed": true
   },
   "outputs": [],
   "source": [
    "df_ingreso = 9"
   ]
  },
  {
   "cell_type": "code",
   "execution_count": 20,
   "metadata": {},
   "outputs": [
    {
     "data": {
      "text/plain": [
       "(-3.2498355440153697, 3.2498355440153697)"
      ]
     },
     "execution_count": 20,
     "metadata": {},
     "output_type": "execute_result"
    }
   ],
   "source": [
    "crit_ingreso = ms.hypothesis.crit_val_t(df_ingreso, sign_ingreso, 'two')\n",
    "crit_ingreso"
   ]
  },
  {
   "cell_type": "markdown",
   "metadata": {},
   "source": [
    "* **Estadístico de prueba (T)**"
   ]
  },
  {
   "cell_type": "markdown",
   "metadata": {},
   "source": [
    "$$t = \\frac{b_1 - β_1}{S_{b_1}}$$"
   ]
  },
  {
   "cell_type": "code",
   "execution_count": 21,
   "metadata": {
    "collapsed": true
   },
   "outputs": [],
   "source": [
    "b_ingreso = 5.49\n",
    "beta_ingreso = 0\n",
    "sb_ingreso = 1.37"
   ]
  },
  {
   "cell_type": "code",
   "execution_count": 22,
   "metadata": {},
   "outputs": [
    {
     "data": {
      "text/plain": [
       "4.007299270072992"
      ]
     },
     "execution_count": 22,
     "metadata": {},
     "output_type": "execute_result"
    }
   ],
   "source": [
    "t_ingreso = ms.multiregr.t_regression(b_ingreso, beta_ingreso, sb_ingreso)\n",
    "t_ingreso"
   ]
  },
  {
   "cell_type": "markdown",
   "metadata": {},
   "source": [
    "* **Decisión**"
   ]
  },
  {
   "cell_type": "code",
   "execution_count": 23,
   "metadata": {},
   "outputs": [
    {
     "data": {
      "image/png": "[encoded data removed]",
      "text/plain": [
       "<matplotlib.figure.Figure at 0x1eeefa78ac8>"
      ]
     },
     "metadata": {},
     "output_type": "display_data"
    }
   ],
   "source": [
    "distr_ingreso = ss.t(df_ingreso)\n",
    "ms.graph.hypothesis(distr_ingreso, t_ingreso, sign_ingreso, 'two')"
   ]
  },
  {
   "cell_type": "markdown",
   "metadata": {},
   "source": [
    "**SI se rechaza la hipótesis nula** Dado que el estadístico de prueba *4.007299270072992* es **mayor** que el valor crítico calculado *3.2498355440153697*. Por lo que cae en la zona de **RECHAZO**."
   ]
  },
  {
   "cell_type": "markdown",
   "metadata": {},
   "source": [
    "* **Conclusión**"
   ]
  },
  {
   "cell_type": "markdown",
   "metadata": {},
   "source": [
    "Entonces, se puede concluir que la variable independiente **ingreso** si contribuye significativamente al valor explicativo del modelo."
   ]
  },
  {
   "cell_type": "markdown",
   "metadata": {},
   "source": [
    "### Tasas de interés (R)"
   ]
  },
  {
   "cell_type": "markdown",
   "metadata": {},
   "source": [
    "* **Nivel de significancia**"
   ]
  },
  {
   "cell_type": "code",
   "execution_count": 24,
   "metadata": {
    "collapsed": true
   },
   "outputs": [],
   "source": [
    "sign_tasas = 0.01"
   ]
  },
  {
   "cell_type": "markdown",
   "metadata": {},
   "source": [
    "* **Plantear hipótesis**"
   ]
  },
  {
   "cell_type": "markdown",
   "metadata": {},
   "source": [
    "$H_0 : β_2 = 0$ *Las tasas de interés no contribuyen significativamente al poder explicativo del modelo.*\n",
    "\n",
    "$H_A : β_2 ≠ 0$ *Las tasas de interés contribuyen significativamente al poder explicativo del modelo.*"
   ]
  },
  {
   "cell_type": "markdown",
   "metadata": {},
   "source": [
    "* **Valores críticos**"
   ]
  },
  {
   "cell_type": "code",
   "execution_count": 25,
   "metadata": {
    "collapsed": true
   },
   "outputs": [],
   "source": [
    "df_tasas = 9"
   ]
  },
  {
   "cell_type": "code",
   "execution_count": 26,
   "metadata": {},
   "outputs": [
    {
     "data": {
      "text/plain": [
       "(-3.2498355440153697, 3.2498355440153697)"
      ]
     },
     "execution_count": 26,
     "metadata": {},
     "output_type": "execute_result"
    }
   ],
   "source": [
    "crit_tasas = ms.hypothesis.crit_val_t(df_tasas, sign_tasas, 'two')\n",
    "crit_tasas"
   ]
  },
  {
   "cell_type": "markdown",
   "metadata": {},
   "source": [
    "* **Estadístico de prueba (T)**"
   ]
  },
  {
   "cell_type": "markdown",
   "metadata": {},
   "source": [
    "$$t = \\frac{b_2 - β_2}{S_{b_2}}$$"
   ]
  },
  {
   "cell_type": "code",
   "execution_count": 27,
   "metadata": {
    "collapsed": true
   },
   "outputs": [],
   "source": [
    "b_tasas = 6.4\n",
    "beta_tasas = 0\n",
    "sb_tasas = 43.6"
   ]
  },
  {
   "cell_type": "code",
   "execution_count": 28,
   "metadata": {},
   "outputs": [
    {
     "data": {
      "text/plain": [
       "0.14678899082568808"
      ]
     },
     "execution_count": 28,
     "metadata": {},
     "output_type": "execute_result"
    }
   ],
   "source": [
    "t_tasas = ms.multiregr.t_regression(b_tasas, beta_tasas, sb_tasas)\n",
    "t_tasas"
   ]
  },
  {
   "cell_type": "markdown",
   "metadata": {},
   "source": [
    "* **Decisión**"
   ]
  },
  {
   "cell_type": "code",
   "execution_count": 29,
   "metadata": {},
   "outputs": [
    {
     "data": {
      "image/png": "[encoded data removed]",
      "text/plain": [
       "<matplotlib.figure.Figure at 0x1eeefa2ba58>"
      ]
     },
     "metadata": {},
     "output_type": "display_data"
    }
   ],
   "source": [
    "distr_tasas = ss.t(df_tasas)\n",
    "ms.graph.hypothesis(distr_tasas, t_tasas, sign_tasas, 'two')"
   ]
  },
  {
   "cell_type": "markdown",
   "metadata": {},
   "source": [
    "**NO se rechaza la hipótesis nula**. Dado que el estadístico de prueba *0.14678899082568808* no es **mayor/menor** que los estadísticos de prueba calculados *(-3.2498355440153697, 3.2498355440153697)*. Por lo que cae en la zona de **NO RECHAZO**."
   ]
  },
  {
   "cell_type": "markdown",
   "metadata": {},
   "source": [
    "* **Conclusión**"
   ]
  },
  {
   "cell_type": "markdown",
   "metadata": {},
   "source": [
    "Entonces, se puede decir que la variable independiente de las **tasas de interés** no contribuye significativamente al valor explicativo del modelo."
   ]
  },
  {
   "cell_type": "markdown",
   "metadata": {},
   "source": [
    "***\n",
    "***"
   ]
  },
  {
   "cell_type": "markdown",
   "metadata": {},
   "source": [
    "### 3.\n",
    "Se tienen los datos para Vinnie's Video Village.\n",
    "\n",
    "\n",
    "|Año|Periodo|Utilidades (cientos de dólares)|\n",
    "|-|\n",
    "|1996|Enero|10|\n",
    "|1996|Febrero|9|\n",
    "|1996|Marzo|11|\n",
    "|1996|Abril|12|\n",
    "|1996|Mayo|18|\n",
    "|1996|Junio|23|\n",
    "|1996|Julio|27|\n",
    "|1996|Agosto|26|\n",
    "|1996|Septiembre|18|\n",
    "|1996|Octubre|13|\n",
    "|1996|Noviembre|10|\n",
    "|1996|Diciembre|10|\n",
    "|1997|Enero|9|\n",
    "|1997|Feberero|11|\n",
    "|1997|Marzo|10|\n",
    "|1997|Abril|12|\n",
    "|1997|Mayo|19|\n",
    "|1997|Junio|25|\n",
    "|1997|Julio|28|\n",
    "|1997|Agosto|31|\n",
    "|1997|Septiembre|22|\n",
    "|1997|Octubre|15|\n",
    "|1997|Noviembre|11|\n",
    "|1997|Diciembre|12|\n",
    "|1998|Enero|10|\n",
    "|1998|Febrero|8|\n",
    "|1998|Marzo|10|\n",
    "|1998|Abril|12|\n",
    "|1998|Mayo|19|\n",
    "|1998|Junio|25|\n",
    "|1998|Julio|29|\n",
    "|1998|Agosto|31|\n",
    "|1998|Septiembre|21|\n",
    "|1998|Octubre|16|\n",
    "|1998|Noviembre|18|\n",
    "|1998|Diciembre|19|\n",
    "\n",
    "\n",
    "\n",
    "\n",
    "\n",
    "\n",
    "\n",
    "**a)** A simple vista que puede deducir de los datos.\n",
    "\n",
    "**b)** Calcule el promedio móvil para 12 periodos. ¿Cuál sería la proyección para enero de 1999?\n",
    "\n",
    "**c)** ¿La proyección encontrada incluye el componente estacional?\n",
    "***"
   ]
  },
  {
   "cell_type": "markdown",
   "metadata": {},
   "source": [
    "**a. A simple vista que puede deducir de los datos.** \n",
    "\n",
    "Se logra apreciar que los datos se comportan de manera estacional, pues se nota que a principio de año las ventas son muy bajas, y mientras que transcurre el año aumentan, y vuelven a caer cuando llega el fin de año."
   ]
  },
  {
   "cell_type": "markdown",
   "metadata": {},
   "source": [
    "**b. Calcule el promedio móvil para 12 periodos. ¿Cuál sería la proyección para enero de 1999?**"
   ]
  },
  {
   "cell_type": "code",
   "execution_count": 30,
   "metadata": {
    "collapsed": true
   },
   "outputs": [],
   "source": [
    "x_vinnies = [\n",
    "    10, 9, 11, 12, 18, 23, 27, 26, 18, 13, 10, 10, 9, 11, 10, 12, 19, \n",
    "    25, 28, 31, 22, 15, 11, 12, 10, 8, 10, 12, 19, 25, 29, 31, 21, 16, \n",
    "    18, 19\n",
    "]\n",
    "\n",
    "t_vinnies = list(range(1, len(x_vinnies) + 1))\n",
    "\n",
    "N_vinnies = 12"
   ]
  },
  {
   "cell_type": "code",
   "execution_count": 31,
   "metadata": {},
   "outputs": [
    {
     "data": {
      "image/png": "[encoded data removed]",
      "text/plain": [
       "<matplotlib.figure.Figure at 0x1eeef268a90>"
      ]
     },
     "metadata": {},
     "output_type": "display_data"
    }
   ],
   "source": [
    "ms.graph.timeserie(x_vinnies, t_vinnies)"
   ]
  },
  {
   "cell_type": "code",
   "execution_count": 32,
   "metadata": {},
   "outputs": [
    {
     "data": {
      "text/plain": [
       "[15.541666666666668,\n",
       " 15.583333333333332,\n",
       " 15.625,\n",
       " 15.583333333333336,\n",
       " 15.625000000000004,\n",
       " 15.75,\n",
       " 15.875,\n",
       " 16.125000000000007,\n",
       " 16.5,\n",
       " 16.75,\n",
       " 16.875,\n",
       " 17.0,\n",
       " 17.125,\n",
       " 17.041666666666657,\n",
       " 16.91666666666667,\n",
       " 16.916666666666686,\n",
       " 16.916666666666686,\n",
       " 16.916666666666686,\n",
       " 16.958333333333343,\n",
       " 17.0,\n",
       " 16.958333333333343,\n",
       " 16.958333333333343,\n",
       " 17.291666666666657,\n",
       " 17.875]"
      ]
     },
     "execution_count": 32,
     "metadata": {},
     "output_type": "execute_result"
    }
   ],
   "source": [
    "rm_vinnies = ms.timeseries.running_mean(x_vinnies, N_vinnies)\n",
    "rm_vinnies"
   ]
  },
  {
   "cell_type": "markdown",
   "metadata": {},
   "source": [
    "**R//** La proyección esperada para enero de 1999 según nuestro promedio móvil, sería de **17.875** cientos de dólares en utilidades."
   ]
  },
  {
   "cell_type": "markdown",
   "metadata": {},
   "source": [
    "**c. ¿La proyección encontrada incluye el componente estacional?** "
   ]
  },
  {
   "cell_type": "code",
   "execution_count": 33,
   "metadata": {
    "collapsed": true
   },
   "outputs": [],
   "source": [
    "t_rm = list(range(1, len(rm_vinnies) + 1))"
   ]
  },
  {
   "cell_type": "code",
   "execution_count": 34,
   "metadata": {},
   "outputs": [
    {
     "data": {
      "image/png": "[encoded data removed]",
      "text/plain": [
       "<matplotlib.figure.Figure at 0x1eeefb40d30>"
      ]
     },
     "metadata": {},
     "output_type": "display_data"
    }
   ],
   "source": [
    "ms.graph.timeserie(rm_vinnies, t_rm)"
   ]
  },
  {
   "cell_type": "markdown",
   "metadata": {},
   "source": [
    "**R//** Como se puede apreciar, luego de aplicar la técnica de suavizamiento de promedio móvil para 12 periodos, se logra eliminar el componente estacional de la serie; por lo que se puede decir que ésta proyección encontrada no está siendo afectada por el componente estacional."
   ]
  },
  {
   "cell_type": "markdown",
   "metadata": {},
   "source": [
    "***"
   ]
  },
  {
   "cell_type": "code",
   "execution_count": null,
   "metadata": {
    "collapsed": true
   },
   "outputs": [],
   "source": []
  }
 ],
 "metadata": {
  "kernelspec": {
   "display_name": "Python 3",
   "language": "python",
   "name": "python3"
  },
  "language_info": {
   "codemirror_mode": {
    "name": "ipython",
    "version": 3
   },
   "file_extension": ".py",
   "mimetype": "text/x-python",
   "name": "python",
   "nbconvert_exporter": "python",
   "pygments_lexer": "ipython3",
   "version": "3.6.3"
  }
 },
 "nbformat": 4,
 "nbformat_minor": 2
}
