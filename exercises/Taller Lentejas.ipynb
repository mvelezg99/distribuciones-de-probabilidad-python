{
 "cells": [
  {
   "cell_type": "markdown",
   "metadata": {},
   "source": [
    "# Taller lentejas\n",
    "### Miguel Ángel Vélez - Diego Jiménez - Alejandro García"
   ]
  },
  {
   "cell_type": "code",
   "execution_count": 8,
   "metadata": {},
   "outputs": [],
   "source": [
    "import scipy.stats as ss\n",
    "import numpy as np"
   ]
  },
  {
   "cell_type": "markdown",
   "metadata": {},
   "source": [
    "## Toma de los datos"
   ]
  },
  {
   "cell_type": "code",
   "execution_count": 54,
   "metadata": {},
   "outputs": [],
   "source": [
    "# Tamaño de la muestra de lentejas\n",
    "n_lentejas = 35 \n",
    "\n",
    "# Medida del ancho de las lentejas en centímetros (cm)\n",
    "medida_lentejas = [0.7, 0.63, 0.64, 0.62, 0.60, 0.69, 0.67, 0.66, 0.65, 0.65, 0.61, 0.67, 0.66, 0.69, 0.61, 0.68, 0.62, 0.61,\n",
    "                  0.63, 0.67, 0.60, 0.61, 0.60, 0.59, 0.70, 0.61, 0.67, 0.55, 0.60, 0.71, 0.61, 0.7, 0.62, 0.62, 0.63]\n",
    "\n",
    "# Medida del peso de las lentejas en gramos (g)\n",
    "peso_lentejas = [0.073, 0.0692, 0.0635, 0.0616, 0.0620, 0.0747, 0.0723, 0.0716, 0.0641, 0.0553, 0.0603, 0.0771, 0.0724, 0.0725,\n",
    "                0.0637, 0.0616, 0.0698, 0.0669, 0.0569, 0.0640, 0.0688, 0.0698, 0.0688, 0.0650, 0.0623, 0.0648, 0.0722, 0.0706,\n",
    "                0.0758, 0.0640, 0.0684, 0.0711, 0.0783, 0.0601, 0.0603]"
   ]
  },
  {
   "cell_type": "markdown",
   "metadata": {},
   "source": [
    "## Medidas de tendencia central"
   ]
  },
  {
   "cell_type": "code",
   "execution_count": 21,
   "metadata": {},
   "outputs": [],
   "source": [
    "# Promedio muestral de la medida del ancho de las lentejas en centímetros (cm)\n",
    "x__medida_lentejas = sum(medida_lentejas) / n_lentejas \n",
    "\n",
    "# Promedio muestral de la medida del peso de las lentejas en gramos (g)\n",
    "x__peso_lentejas = sum(peso_lentejas) / n_lentejas\n",
    "\n",
    "# Desviación estándar de la medida del ancho de las lentejas en centímetros (cm)\n",
    "s_medida_lentejas = (np.var(medida_lentejas))**0.5\n",
    "\n",
    "# Desviación estándar de la medida del peso de las lentejas en gramos (g)\n",
    "s_peso_lentejas = (np.var(peso_lentejas))**0.5"
   ]
  },
  {
   "cell_type": "code",
   "execution_count": 90,
   "metadata": {},
   "outputs": [
    {
     "name": "stdout",
     "output_type": "stream",
     "text": [
      "Promedio muestral de la medida del ancho de las lentejas: 0.6394285714285715 cm\n",
      "Promedio muestral de la medida del peso de las lentejas: 0.06722285714285714 g\n",
      "Desviación estándar de la medida del ancho de las lentejas: 0.038243046586862006 cm\n",
      "Desviación estándar de la medida del peso de las lentejas: 0.005695165153219789 g\n"
     ]
    }
   ],
   "source": [
    "print(\"Promedio muestral de la medida del ancho de las lentejas: {} cm\".format(x__medida_lentejas))\n",
    "print(\"Promedio muestral de la medida del peso de las lentejas: {} g\".format(x__peso_lentejas))\n",
    "print(\"Desviación estándar de la medida del ancho de las lentejas: {} cm\".format(s_medida_lentejas))\n",
    "print(\"Desviación estándar de la medida del peso de las lentejas: {} g\".format(s_peso_lentejas))"
   ]
  },
  {
   "cell_type": "markdown",
   "metadata": {},
   "source": [
    "<hr/>\n",
    "<hr/>"
   ]
  },
  {
   "cell_type": "markdown",
   "metadata": {},
   "source": [
    "## 1. Determine el tamaño de la muestra"
   ]
  },
  {
   "cell_type": "markdown",
   "metadata": {},
   "source": [
    "La profesora Luisa, nos pide, como profesora de Estadística aplicada, que estimemos el peso promedio de una lenteja. Nos advierte que debe mantener el error dentro de 0.003 gramos, y mantener un nivel de confianza del 95%.\n",
    "¿Cuántas lentejas debemos pesar si la desviación estándar es 0.0056 gramos?"
   ]
  },
  {
   "cell_type": "code",
   "execution_count": 83,
   "metadata": {},
   "outputs": [],
   "source": [
    "alpha_lentejas_n = 0.95\n",
    "s_lentejas_n = 0.0056\n",
    "error_lentejas_n = 0.003"
   ]
  },
  {
   "cell_type": "code",
   "execution_count": 84,
   "metadata": {},
   "outputs": [],
   "source": [
    "def n_avg(alpha, s, error):\n",
    "        \"\"\"\n",
    "        \"\"\"\n",
    "        z_value = ss.norm.interval(alpha)[1]\n",
    "        n = ((z_value**2)*(s**2)) / (error**2)\n",
    "        \n",
    "        return round(n)"
   ]
  },
  {
   "cell_type": "code",
   "execution_count": 85,
   "metadata": {},
   "outputs": [
    {
     "data": {
      "text/plain": [
       "13.0"
      ]
     },
     "execution_count": 85,
     "metadata": {},
     "output_type": "execute_result"
    }
   ],
   "source": [
    "n_avg(alpha_lentejas_n, s_lentejas_n, error_lentejas_n)"
   ]
  },
  {
   "cell_type": "markdown",
   "metadata": {},
   "source": [
    "**R/** Deberíamos tomar una muestra de **13** lentejas, para que de esta manera podamos estimar el peso promedio de las lentejas con un nivel de confianza del 95% y teniendo en cuenta un error menor de 0.003 gramos."
   ]
  },
  {
   "cell_type": "markdown",
   "metadata": {},
   "source": [
    "<hr/>\n",
    "<hr/>"
   ]
  },
  {
   "cell_type": "markdown",
   "metadata": {},
   "source": [
    "## 2. Hipótesis 1 población muestra grande, 1% significancia\n",
    "Jose Jiménez, CEO de Lentejas S.A le afirma a sus inversionistas que las lentejas de su compañía pesan en promedio 0.07 gramos, los inversionistas sacan una muestra de 35 lentejas con una media de 0.06722285714285714 gramos, y una desviación estándar de 0.005695165153219789. Con un nivel de signifancia del 1%, ¿Se puede respaldar la afirmación de José Jimenez?."
   ]
  },
  {
   "cell_type": "code",
   "execution_count": 47,
   "metadata": {},
   "outputs": [],
   "source": [
    "mu_lentejas_h = 0.07\n",
    "n_lentejas_h = 35\n",
    "x__lentejas_h = 0.06722285714285714\n",
    "s_lentejas_h = 0.005695165153219789\n",
    "alpha_lentejas_h = 0.01"
   ]
  },
  {
   "cell_type": "markdown",
   "metadata": {},
   "source": [
    "<u> **Paso 1**</u>: Plantear hipótesis"
   ]
  },
  {
   "cell_type": "markdown",
   "metadata": {},
   "source": [
    "**Ho:** μ = 0.07                   \n",
    "\n",
    "**Ha:** μ ≠ 0.07"
   ]
  },
  {
   "cell_type": "markdown",
   "metadata": {},
   "source": [
    "<u> **Paso 2**</u>: Nivel de significancia"
   ]
  },
  {
   "cell_type": "code",
   "execution_count": 48,
   "metadata": {},
   "outputs": [
    {
     "data": {
      "text/plain": [
       "0.01"
      ]
     },
     "execution_count": 48,
     "metadata": {},
     "output_type": "execute_result"
    }
   ],
   "source": [
    "alpha_lentejas_h"
   ]
  },
  {
   "cell_type": "markdown",
   "metadata": {},
   "source": [
    "<u> **Paso 3**</u>: Valores críticos"
   ]
  },
  {
   "cell_type": "code",
   "execution_count": 50,
   "metadata": {},
   "outputs": [],
   "source": [
    "def crit_val_norm(sign, tail):\n",
    "        \"\"\"\n",
    "        \"\"\"\n",
    "        if tail == 'two':\n",
    "            alpha = 1 - (sign/2)\n",
    "            crit_val = ss.norm.ppf(1 - alpha), ss.norm.ppf(alpha)\n",
    "            return crit_val\n",
    "        \n",
    "        if tail == 'left':\n",
    "            alpha = 1 - sign\n",
    "            crit_val = ss.norm.ppf(1 - alpha)\n",
    "            return crit_val\n",
    "        \n",
    "        if tail == 'right':\n",
    "            alpha = 1 - sign\n",
    "            crit_val = ss.norm.ppf(alpha)\n",
    "            return crit_val\n",
    "        \n",
    "        print(\"You must input a valid tail ('two', 'left' or 'right')\")"
   ]
  },
  {
   "cell_type": "code",
   "execution_count": 51,
   "metadata": {},
   "outputs": [
    {
     "data": {
      "text/plain": [
       "(-2.5758293035489004, 2.5758293035489004)"
      ]
     },
     "execution_count": 51,
     "metadata": {},
     "output_type": "execute_result"
    }
   ],
   "source": [
    "crit_lentejas_h = crit_val_norm(alpha_lentejas_h, 'two')\n",
    "crit_lentejas_h"
   ]
  },
  {
   "cell_type": "markdown",
   "metadata": {},
   "source": [
    "<u> **Paso 4**</u>: Estadístico de prueba (Z)"
   ]
  },
  {
   "cell_type": "code",
   "execution_count": 52,
   "metadata": {},
   "outputs": [],
   "source": [
    "def get_z(x, mu, sd, **kwargs):\n",
    "        \"\"\"\n",
    "        \"\"\"\n",
    "        if not kwargs:\n",
    "            z = ((x - mu) / sd)\n",
    "            return z\n",
    "        else:\n",
    "            n = kwargs.get('n', None)\n",
    "            if (n <= 30):\n",
    "                print(\"The sample size must be greater than 30.\")\n",
    "            else:\n",
    "                z = ((x - mu) / (sd / n**0.5))\n",
    "                return z"
   ]
  },
  {
   "cell_type": "code",
   "execution_count": 53,
   "metadata": {},
   "outputs": [
    {
     "data": {
      "text/plain": [
       "-2.884867825586016"
      ]
     },
     "execution_count": 53,
     "metadata": {},
     "output_type": "execute_result"
    }
   ],
   "source": [
    "z_lentejas_h = get_z(x__lentejas_h, mu_lentejas_h, s_lentejas_h, n=n_lentejas_h)\n",
    "z_lentejas_h"
   ]
  },
  {
   "cell_type": "markdown",
   "metadata": {},
   "source": [
    "<u> **Paso 5**</u>: Decisión"
   ]
  },
  {
   "cell_type": "markdown",
   "metadata": {},
   "source": [
    "**SI RECHAZAMOS LA HIPÓTESIS NULA**, pues el estadístico de prueba *-2.884867825586016* es menor o mayor que los valores críticos obtenidos *-2.5758293035489004, 2.5758293035489004*"
   ]
  },
  {
   "cell_type": "markdown",
   "metadata": {},
   "source": [
    "<u>**Paso 6**</u>: Conclusión"
   ]
  },
  {
   "cell_type": "markdown",
   "metadata": {},
   "source": [
    "Con un nivel de significancia del 1%, se puede concluir que el valor promedio de las lentejas es **diferente** a 0.07 gramos.\n",
    "\n",
    "Por lo tanto, no hay evidencias suficientes para respaldar la afirmación de José Jiménez."
   ]
  },
  {
   "cell_type": "markdown",
   "metadata": {},
   "source": [
    "<hr/>\n",
    "<hr/>"
   ]
  },
  {
   "cell_type": "markdown",
   "metadata": {},
   "source": [
    "## 3. Intervalo 2 poblaciones muestras grandes, 95% confianza\n",
    "Los inversionistas de Lentejas S.A, darán un apoyo especial al sembrado que produzca las lentejas de menor medida, para que de esta manera produzcan lentejas de mayor calidad. De las dos plantaciones existentes, se tomaron los siguientes datos: de la primera se midieron 35 lentejas, con una media de 0.6394285714285715, y una desviación estándar de 0.038243046586862006. De la segunda plantación se midieron 34 lentejas, con una media de 0.64, y una desviación estándar de 0.037. Determine un intervalo de confianza del 95% para la diferencia en la medida promedio de las lentejas en estas 2 plantaciones."
   ]
  },
  {
   "cell_type": "code",
   "execution_count": 62,
   "metadata": {},
   "outputs": [],
   "source": [
    "n_lentejas_i1 = 35\n",
    "x__lentejas_i1 = 0.6394285714285715\n",
    "s_lentejas_i1 = 0.038243046586862006\n",
    "\n",
    "n_lentejas_i2 = 34\n",
    "x__lentejas_i2 = 0.64\n",
    "s_lentejas_i2 = 0.037\n",
    "\n",
    "alpha_lentejas_i = 0.95"
   ]
  },
  {
   "cell_type": "code",
   "execution_count": 65,
   "metadata": {},
   "outputs": [],
   "source": [
    "def norm_2p(n1, n2, x_1, x_2, sd1, sd2, alpha):\n",
    "        \"\"\"\n",
    "        \"\"\"\n",
    "        if (n1 <= 30 or n2 <= 30):\n",
    "            print(\"The sample sizes must be greater than 30.\")\n",
    "        else:\n",
    "            sd_error = ((sd1**2 / n1) + (sd2**2 / n2))**0.5\n",
    "            z_value = ss.norm.interval(alpha)[1]\n",
    "            \n",
    "            minimum = (x_1 - x_2) - (z_value * sd_error)\n",
    "            maximum = (x_1 - x_2) + (z_value * sd_error)\n",
    "            \n",
    "            return minimum, maximum"
   ]
  },
  {
   "cell_type": "code",
   "execution_count": 66,
   "metadata": {},
   "outputs": [
    {
     "name": "stdout",
     "output_type": "stream",
     "text": [
      "1.959963984540054\n"
     ]
    },
    {
     "data": {
      "text/plain": [
       "(-0.018325207610630334, 0.017182350467773222)"
      ]
     },
     "execution_count": 66,
     "metadata": {},
     "output_type": "execute_result"
    }
   ],
   "source": [
    "lentejas_i = norm_2p(n_lentejas_i1, n_lentejas_i2, x__lentejas_i1, x__lentejas_i2, s_lentejas_i1, s_lentejas_i2, alpha_lentejas_i)\n",
    "lentejas_i"
   ]
  },
  {
   "cell_type": "markdown",
   "metadata": {},
   "source": [
    "**R/** Con un nivel de confianza del 95%, podemos observar que la diferencia entre las medidas promedio de las plantaciones está entre **-0.018325207610630334, 0.017182350467773222** centímetros.\n",
    "\n",
    "Entonces, como en el intervalo está incluído el valor de **cero**, podemos concluir que las medidas de las lentejas de las 2 plantaciones no tienen una diferencia significativa, por lo tanto no hay suficientes evidencias para demostrar que una plantación sea peor que la otra. Los inversionistas no deberían invertir en apoyo para ninguna de las 2 plantaciones en especial."
   ]
  },
  {
   "cell_type": "code",
   "execution_count": null,
   "metadata": {},
   "outputs": [],
   "source": []
  }
 ],
 "metadata": {
  "kernelspec": {
   "display_name": "Python 3",
   "language": "python",
   "name": "python3"
  },
  "language_info": {
   "codemirror_mode": {
    "name": "ipython",
    "version": 3
   },
   "file_extension": ".py",
   "mimetype": "text/x-python",
   "name": "python",
   "nbconvert_exporter": "python",
   "pygments_lexer": "ipython3",
   "version": "3.7.0"
  }
 },
 "nbformat": 4,
 "nbformat_minor": 2
}
