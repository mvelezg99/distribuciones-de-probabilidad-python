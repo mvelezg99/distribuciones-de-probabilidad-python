{
 "cells": [
  {
   "cell_type": "markdown",
   "metadata": {},
   "source": [
    "**<p style=\"font-size: 35px; text-align: center\">Hypothesis Testing</p>**\n",
    "\n",
    "\n",
    "\n",
    "***<center>Miguel Ángel Vélez Guerra</center>***\n",
    "\n",
    "<hr/>\n",
    "\n",
    "![hypothesis](https://1.bp.blogspot.com/-VmonrwMeris/WlJS32GsTjI/AAAAAAAAI2c/3_QD9zHGpTQCfmh22NoA7hv_MrbmCSXMgCLcBGAs/s1600/hypothesis.png)"
   ]
  },
  {
   "cell_type": "markdown",
   "metadata": {},
   "source": [
    "<hr />\n",
    "<hr />"
   ]
  },
  {
   "cell_type": "markdown",
   "metadata": {},
   "source": [
    "**<p id=\"tocheading\">Tabla de contenido</p>**\n",
    "<br/>\n",
    "<div id=\"toc\"></div>\n"
   ]
  },
  {
   "cell_type": "code",
   "execution_count": 1,
   "metadata": {},
   "outputs": [
    {
     "data": {
      "application/javascript": [
       "// Script to generate table of contents\n",
       "$.getScript('../resources/table_of_contents.js')"
      ],
      "text/plain": [
       "<IPython.core.display.Javascript object>"
      ]
     },
     "metadata": {},
     "output_type": "display_data"
    }
   ],
   "source": [
    "%%javascript\n",
    "// Script to generate table of contents\n",
    "$.getScript('../resources/table_of_contents.js')"
   ]
  },
  {
   "cell_type": "markdown",
   "metadata": {},
   "source": [
    "<hr/>\n",
    "<hr/>"
   ]
  },
  {
   "cell_type": "markdown",
   "metadata": {},
   "source": [
    "## Imports"
   ]
  },
  {
   "cell_type": "code",
   "execution_count": 2,
   "metadata": {},
   "outputs": [],
   "source": [
    "#-------Importing from other folder------#\n",
    "\n",
    "import sys\n",
    "sys.path.insert(0, \"../resources/\")\n",
    "\n",
    "import mstats as ms\n",
    "\n",
    "#-----------Miguel's statistics----------#"
   ]
  },
  {
   "cell_type": "code",
   "execution_count": 3,
   "metadata": {},
   "outputs": [],
   "source": [
    "import scipy.stats as ss\n",
    "import numpy as np"
   ]
  },
  {
   "cell_type": "markdown",
   "metadata": {},
   "source": [
    "<hr/>\n",
    "<hr/>"
   ]
  },
  {
   "cell_type": "markdown",
   "metadata": {},
   "source": [
    "## 1. Pruebas de hipótesis de 2 colas para la media poblacional en muestras grandes\n",
    "Se supone que el embotellador desea probar la hipótesis de que la media poblacional es de 16 onzas y selecciona un nivel de significancia del 5%. Debido a que se plantea la hipótesis de que μ = 16.\n",
    "\n",
    "Si el embotellador selecciona una muestra de n = 50 botellas con una media de 16.357 onzas y una desviación estándar de 0.866 onzas."
   ]
  },
  {
   "cell_type": "code",
   "execution_count": 4,
   "metadata": {},
   "outputs": [],
   "source": [
    "mu_embotellador = 16 # Hipótesis nula de la media poblacional\n",
    "x__embotellador = 16.357 # Media muestral\n",
    "s_embotellador = 0.866 # Desviación estándar muestral\n",
    "n_embotellador = 50 # Tamaño de la muestra\n",
    "alpha_embotellador = 0.05 # Nivel de significancia"
   ]
  },
  {
   "cell_type": "markdown",
   "metadata": {},
   "source": [
    "<u> **Paso 1**</u>: Plantear hipótesis"
   ]
  },
  {
   "cell_type": "markdown",
   "metadata": {},
   "source": [
    "**Ho:** μ = 16                   \n",
    "\n",
    "**Ha:** μ ≠ 16"
   ]
  },
  {
   "cell_type": "markdown",
   "metadata": {},
   "source": [
    "<u> **Paso 2**</u>: Nivel de significancia"
   ]
  },
  {
   "cell_type": "code",
   "execution_count": 5,
   "metadata": {},
   "outputs": [
    {
     "data": {
      "text/plain": [
       "0.05"
      ]
     },
     "execution_count": 5,
     "metadata": {},
     "output_type": "execute_result"
    }
   ],
   "source": [
    "alpha_embotellador"
   ]
  },
  {
   "cell_type": "markdown",
   "metadata": {},
   "source": [
    "<u> **Paso 3**</u>: Valores críticos"
   ]
  },
  {
   "cell_type": "code",
   "execution_count": 6,
   "metadata": {},
   "outputs": [
    {
     "data": {
      "text/plain": [
       "(-1.959963984540054, 1.959963984540054)"
      ]
     },
     "execution_count": 6,
     "metadata": {},
     "output_type": "execute_result"
    }
   ],
   "source": [
    "crit_embotellador = ms.hypothesis.crit_val_norm(alpha_embotellador, 'two') # Valores críticos\n",
    "crit_embotellador"
   ]
  },
  {
   "cell_type": "markdown",
   "metadata": {},
   "source": [
    "<u> **Paso 4**</u>: Estadístico de prueba (Z)"
   ]
  },
  {
   "cell_type": "code",
   "execution_count": 7,
   "metadata": {},
   "outputs": [
    {
     "data": {
      "text/plain": [
       "2.91497830119627"
      ]
     },
     "execution_count": 7,
     "metadata": {},
     "output_type": "execute_result"
    }
   ],
   "source": [
    "z_embotellador = ms.generals.get_z(x__embotellador, mu_embotellador, s_embotellador, n=n_embotellador)\n",
    "z_embotellador"
   ]
  },
  {
   "cell_type": "markdown",
   "metadata": {},
   "source": [
    "<u> **Paso 5**</u>: Decisión"
   ]
  },
  {
   "cell_type": "code",
   "execution_count": 8,
   "metadata": {},
   "outputs": [
    {
     "data": {
      "text/plain": [
       "True"
      ]
     },
     "execution_count": 8,
     "metadata": {},
     "output_type": "execute_result"
    }
   ],
   "source": [
    "ms.hypothesis.reject_h0(crit_embotellador, z_embotellador, 'two')"
   ]
  },
  {
   "cell_type": "markdown",
   "metadata": {},
   "source": [
    "**SI se rechaza la hipótesis nula**, teniendo en cuenta que el valor del estadístico de prueba *2.91497830119627* si es mayor o menor que los valores críticos *-1.959963984540054, 1.959963984540054*."
   ]
  },
  {
   "cell_type": "markdown",
   "metadata": {},
   "source": [
    "<u>**Paso 6**</u>: Conclusión"
   ]
  },
  {
   "cell_type": "markdown",
   "metadata": {},
   "source": [
    "Se puede afirmar con un nivel de significancia del *5%* que que el peso promedio de las botellas es **diferente** de 16 onzas."
   ]
  },
  {
   "cell_type": "markdown",
   "metadata": {},
   "source": [
    "<hr/>\n",
    "<hr/>"
   ]
  },
  {
   "cell_type": "markdown",
   "metadata": {},
   "source": [
    "## 2. Pruebas de hipótesis de 1 cola para la media poblacional en muestras grandes\n",
    "En una reunión informativa para una oficina corporativa, el gerente del hotel Embassy Suites en Atlanta, reportó que el número promedio de habitaciones alquiladas por noches es de por lo menos 212. Es decir μ > 212. Uno de los funcionarios operativos considera que esta cifra puede estar algo subestimada. Una muestra de 150 noches produce una media de 201.3 habitaciones y una desviación estándar de 45.5 habitaciones. Si estos resultados sugieren que el gerente ha \"inflado\" su reporte, será amonestado severamente. A un nivel de confianza del 1%. ¿Cuál es el destino del gerente?"
   ]
  },
  {
   "cell_type": "code",
   "execution_count": 9,
   "metadata": {},
   "outputs": [],
   "source": [
    "mu_habitaciones = 212 # Hipótesis nula de la media poblacional\n",
    "x__habitaciones = 201.3 # Media muestral\n",
    "s_habitaciones = 45.5 # Desviación estándar muestral\n",
    "n_habitaciones = 150 # Tamaño de la muestra\n",
    "alpha_habitaciones = 0.01 # Nivel de significancia"
   ]
  },
  {
   "cell_type": "markdown",
   "metadata": {},
   "source": [
    "<u> **Paso 1**</u>: Plantear hipótesis"
   ]
  },
  {
   "cell_type": "markdown",
   "metadata": {},
   "source": [
    "**Ho:** μ = 212                   \n",
    "\n",
    "**Ha:** μ < 212"
   ]
  },
  {
   "cell_type": "markdown",
   "metadata": {},
   "source": [
    "<u> **Paso 2**</u>: Nivel de significancia"
   ]
  },
  {
   "cell_type": "code",
   "execution_count": 10,
   "metadata": {},
   "outputs": [
    {
     "data": {
      "text/plain": [
       "0.01"
      ]
     },
     "execution_count": 10,
     "metadata": {},
     "output_type": "execute_result"
    }
   ],
   "source": [
    "alpha_habitaciones"
   ]
  },
  {
   "cell_type": "markdown",
   "metadata": {},
   "source": [
    "<u> **Paso 3**</u>: Valores críticos"
   ]
  },
  {
   "cell_type": "code",
   "execution_count": 11,
   "metadata": {},
   "outputs": [
    {
     "data": {
      "text/plain": [
       "-2.3263478740408408"
      ]
     },
     "execution_count": 11,
     "metadata": {},
     "output_type": "execute_result"
    }
   ],
   "source": [
    "crit_habitaciones = ms.hypothesis.crit_val_norm(alpha_habitaciones, 'left')\n",
    "crit_habitaciones"
   ]
  },
  {
   "cell_type": "markdown",
   "metadata": {},
   "source": [
    "<u> **Paso 4**</u>: Estadístico de prueba (Z)"
   ]
  },
  {
   "cell_type": "code",
   "execution_count": 12,
   "metadata": {},
   "outputs": [
    {
     "data": {
      "text/plain": [
       "-2.8801692579977995"
      ]
     },
     "execution_count": 12,
     "metadata": {},
     "output_type": "execute_result"
    }
   ],
   "source": [
    "z_habitaciones = ms.generals.get_z(x__habitaciones, mu_habitaciones, s_habitaciones, n=n_habitaciones)\n",
    "z_habitaciones"
   ]
  },
  {
   "cell_type": "markdown",
   "metadata": {},
   "source": [
    "<u> **Paso 5**</u>: Decisión"
   ]
  },
  {
   "cell_type": "code",
   "execution_count": 13,
   "metadata": {},
   "outputs": [
    {
     "data": {
      "text/plain": [
       "True"
      ]
     },
     "execution_count": 13,
     "metadata": {},
     "output_type": "execute_result"
    }
   ],
   "source": [
    "ms.hypothesis.reject_h0(crit_habitaciones, z_habitaciones, 'left')"
   ]
  },
  {
   "cell_type": "markdown",
   "metadata": {},
   "source": [
    "**SI se rechaza la hipótesis nula** teniendo en cuenta que el valor del estadístico de prueba *-2.8801692579977995* es menor que el valor crítico *-2.3263478740408408*."
   ]
  },
  {
   "cell_type": "markdown",
   "metadata": {},
   "source": [
    "<u>**Paso 6**</u>: Conclusión"
   ]
  },
  {
   "cell_type": "markdown",
   "metadata": {},
   "source": [
    "Con un nivel de significancia del *1%* podemos afirmar que el número promedio de habitaciones alquiladas por noche es **menor** de 212 habitaciones.\n",
    "\n",
    "Por lo que podemos concluir, que el gerente será amonestado gravemente por \"inflar\" su reporte."
   ]
  },
  {
   "cell_type": "markdown",
   "metadata": {},
   "source": [
    "<hr/>\n",
    "<hr/>"
   ]
  },
  {
   "cell_type": "markdown",
   "metadata": {},
   "source": [
    "## 3. Valor p para prueba de 1 cola\n",
    "Chuck Cash es el jefe de personal de una empresa. A partir de un breve análisis de los registros de los empleados, Chuck considera que los empleados tienen un promedio de más de 31000 USD en sus cuentas de pensiones. Al tomar como muestra 100 empleados, Chuck encuentra una media de 31366, con s = 1894. Se supone que Chuck desea calcular el valor p relacionado con esta prueba de cola a la derecha."
   ]
  },
  {
   "cell_type": "code",
   "execution_count": 14,
   "metadata": {},
   "outputs": [],
   "source": [
    "mu_empleados = 31000 # Hipótesis nula de la media poblacional\n",
    "n_empleados = 100 # Tamaño de la muestra\n",
    "x__empleados = 31366 # Promedio muestral\n",
    "s_empleados = 1894 # Desviación estándar muestral"
   ]
  },
  {
   "cell_type": "code",
   "execution_count": 15,
   "metadata": {},
   "outputs": [
    {
     "data": {
      "text/plain": [
       "1.9324181626187962"
      ]
     },
     "execution_count": 15,
     "metadata": {},
     "output_type": "execute_result"
    }
   ],
   "source": [
    "z_empleados = ms.generals.get_z(x__empleados, mu_empleados, s_empleados, n=n_empleados)\n",
    "z_empleados"
   ]
  },
  {
   "cell_type": "code",
   "execution_count": 16,
   "metadata": {},
   "outputs": [
    {
     "data": {
      "text/plain": [
       "0.026653957030043696"
      ]
     },
     "execution_count": 16,
     "metadata": {},
     "output_type": "execute_result"
    }
   ],
   "source": [
    "p_empleados = ms.hypothesis.get_p(z_empleados, 'right')\n",
    "p_empleados"
   ]
  },
  {
   "cell_type": "markdown",
   "metadata": {},
   "source": [
    "**R/** El mínimo nivel de significancia que puede tener Chuck es de **2.66%** para poder afirmar que los empleados tienen un promedio **de más de** 31000 USD en sus cuentas de pensiones."
   ]
  },
  {
   "cell_type": "markdown",
   "metadata": {},
   "source": [
    "<hr/>\n",
    "<hr/>"
   ]
  },
  {
   "cell_type": "markdown",
   "metadata": {},
   "source": [
    "## 4. Valor p para una prueba de 2 colas\n",
    "Chuck Cash también sospecha que los empleados invierten un promedio de 100 UDD mensuales en el plan de opción de compra de acciones de la compañía. Al tomar como muestra 100 empleados, Chuck descubre una media de 106.81 USD con una desviación estándar de 36.60 USD. Ahora desea determinar el valor p relacionado con la prueba de hipótesis."
   ]
  },
  {
   "cell_type": "code",
   "execution_count": 17,
   "metadata": {},
   "outputs": [],
   "source": [
    "mu_acciones = 100 # Hipótesis nula de la media poblacional\n",
    "n_acciones = 100 # Tamaño de la muestra\n",
    "x__acciones = 106.81 # Promedio muestral\n",
    "s_acciones = 36.6 # Desviación estándar muestral"
   ]
  },
  {
   "cell_type": "code",
   "execution_count": 18,
   "metadata": {},
   "outputs": [
    {
     "data": {
      "text/plain": [
       "1.8606557377049187"
      ]
     },
     "execution_count": 18,
     "metadata": {},
     "output_type": "execute_result"
    }
   ],
   "source": [
    "z_acciones = ms.generals.get_z(x__acciones, mu_acciones, s_acciones, n=n_acciones)\n",
    "z_acciones"
   ]
  },
  {
   "cell_type": "code",
   "execution_count": 19,
   "metadata": {},
   "outputs": [
    {
     "data": {
      "text/plain": [
       "0.06279280823575806"
      ]
     },
     "execution_count": 19,
     "metadata": {},
     "output_type": "execute_result"
    }
   ],
   "source": [
    "p_acciones = ms.hypothesis.get_p(z_acciones, 'two')\n",
    "p_acciones"
   ]
  },
  {
   "cell_type": "markdown",
   "metadata": {},
   "source": [
    "**R/** El mínimo nivel de significancia que puede tomar Chuck para determinar que los empleados invierten un promedio **diferente** de 100 USD mensuales en el plan de opción de compra de acciones de la compañía es de **6.27%**"
   ]
  },
  {
   "cell_type": "markdown",
   "metadata": {},
   "source": [
    "<hr/>\n",
    "<hr/>"
   ]
  },
  {
   "cell_type": "markdown",
   "metadata": {},
   "source": [
    "## 5. Pruebas de hipótesis de 2 colas para la media poblacional en muestras pequeñas\n",
    "Los estudiantes de una clase de estadística en State University cuestionan la afirmación de que McDonalds coloca 0.25 libras de carne en sus “Habueguesas de cuarto de libra”. Algunos estudiantes argumentan que en realidad se utiliza más, mientras otros insisten que menos. Para probar la afirmación publicitaria que el peso promedio es es de 0.25 libras, cada estudiante compra una hamburguesa de cuarto y la lleva a clase, en donde la pesan en una balanza suministrada por el instructor. Los resultados de la muestra son una media de 0.22 libras y una desviación estándar de 0.09. Si hay 25 estudiantes en clase, ¿a que conclusión llegarían a un nivel de significancia del 5%?"
   ]
  },
  {
   "cell_type": "code",
   "execution_count": 20,
   "metadata": {},
   "outputs": [],
   "source": [
    "mu_mcd = 0.25 # Hipótesis nula de la media poblacional\n",
    "x__mcd = 0.22 # Promedio muestral\n",
    "s_mcd = 0.09 # Desviación estándar muestral\n",
    "n_mcd = 25 # Tamaño de la muestra\n",
    "alpha_mcd = 0.05 # Nivel de significancia"
   ]
  },
  {
   "cell_type": "markdown",
   "metadata": {},
   "source": [
    "<u> **Paso 1**</u>: Plantear hipótesis"
   ]
  },
  {
   "cell_type": "markdown",
   "metadata": {},
   "source": [
    "**Ho:** μ = 0.25                   \n",
    "\n",
    "**Ha:** μ ≠ 0.25"
   ]
  },
  {
   "cell_type": "markdown",
   "metadata": {},
   "source": [
    "<u> **Paso 2**</u>: Nivel de significancia"
   ]
  },
  {
   "cell_type": "code",
   "execution_count": 21,
   "metadata": {},
   "outputs": [
    {
     "data": {
      "text/plain": [
       "0.05"
      ]
     },
     "execution_count": 21,
     "metadata": {},
     "output_type": "execute_result"
    }
   ],
   "source": [
    "alpha_mcd"
   ]
  },
  {
   "cell_type": "markdown",
   "metadata": {},
   "source": [
    "<u> **Paso 3**</u>: Valores críticos"
   ]
  },
  {
   "cell_type": "code",
   "execution_count": 22,
   "metadata": {},
   "outputs": [
    {
     "data": {
      "text/plain": [
       "(-2.0638985616280205, 2.0638985616280205)"
      ]
     },
     "execution_count": 22,
     "metadata": {},
     "output_type": "execute_result"
    }
   ],
   "source": [
    "df_mcd = n_mcd - 1\n",
    "crit_mcd = ms.hypothesis.crit_val_t(df_mcd, alpha_mcd, \"two\")\n",
    "crit_mcd"
   ]
  },
  {
   "cell_type": "markdown",
   "metadata": {},
   "source": [
    "<u> **Paso 4**</u>: Estadístico de prueba (T)"
   ]
  },
  {
   "cell_type": "code",
   "execution_count": 23,
   "metadata": {},
   "outputs": [
    {
     "data": {
      "text/plain": [
       "-1.6666666666666667"
      ]
     },
     "execution_count": 23,
     "metadata": {},
     "output_type": "execute_result"
    }
   ],
   "source": [
    "t_mcd = ms.generals.get_t(x__mcd, mu_mcd, s_mcd, n_mcd)\n",
    "t_mcd"
   ]
  },
  {
   "cell_type": "markdown",
   "metadata": {},
   "source": [
    "<u> **Paso 5**</u>: Decisión"
   ]
  },
  {
   "cell_type": "code",
   "execution_count": 24,
   "metadata": {},
   "outputs": [
    {
     "data": {
      "text/plain": [
       "False"
      ]
     },
     "execution_count": 24,
     "metadata": {},
     "output_type": "execute_result"
    }
   ],
   "source": [
    "ms.hypothesis.reject_h0(crit_mcd, t_mcd, 'two')"
   ]
  },
  {
   "cell_type": "markdown",
   "metadata": {},
   "source": [
    "**NO se rechaza la hipótesis nula**, teniendo en cuenta que el valor del estadístico de prueba *-1.6666666666666667* no es menor ni mayor que los valores críticos *-2.0638985616280205, 2.0638985616280205*."
   ]
  },
  {
   "cell_type": "markdown",
   "metadata": {},
   "source": [
    "<u>**Paso 6**</u>: Conclusión"
   ]
  },
  {
   "cell_type": "markdown",
   "metadata": {},
   "source": [
    "Teniendo en cuenta el nivel de significancia de *5%* se puede concluir que no hay argumentos suficientes para negar que McDonalds coloca **exactamente** 0.25 libras de carne en sus \"Hamburguesas de cuarto de libra\""
   ]
  },
  {
   "cell_type": "markdown",
   "metadata": {},
   "source": [
    "<hr />\n",
    "<hr />"
   ]
  },
  {
   "cell_type": "markdown",
   "metadata": {},
   "source": [
    "## 6. Pruebas de hipótesis de 1 cola para la media poblacional en muestras pequeñas\n",
    "The American Kennel Club (AKC) reportó en su publicación Estadounidenses Propietarios de Perros (abril 1997) que los perros cocker spaniels de un año de edad deberían pesar “un poco más de 40 libras si han recibido una notrición paropiada”. Para probar la hipótesis Hill’s, productor de alimentos para la dieta de perros, pesa 15 perros cockers de un año de edad y descubre una media de 41.17 libras, con s = 4.71 libras. Utilice un valor α del 1%."
   ]
  },
  {
   "cell_type": "code",
   "execution_count": 25,
   "metadata": {},
   "outputs": [],
   "source": [
    "mu_perros = 40 # Hipótesis nula de la media poblacional\n",
    "n_perros = 15 # Tamaño de la muestra\n",
    "x__perros = 41.17 # Promedio muestral\n",
    "s_perros = 4.71 # Desviación estándar muestral\n",
    "alpha_perros = 0.01 # Nivel de significancia"
   ]
  },
  {
   "cell_type": "markdown",
   "metadata": {},
   "source": [
    "<u> **Paso 1**</u>: Plantear hipótesis"
   ]
  },
  {
   "cell_type": "markdown",
   "metadata": {},
   "source": [
    "**Ho:** μ = 40                  \n",
    "\n",
    "**Ha:** μ > 40"
   ]
  },
  {
   "cell_type": "markdown",
   "metadata": {},
   "source": [
    "<u> **Paso 2**</u>: Nivel de significancia"
   ]
  },
  {
   "cell_type": "code",
   "execution_count": 26,
   "metadata": {},
   "outputs": [
    {
     "data": {
      "text/plain": [
       "0.01"
      ]
     },
     "execution_count": 26,
     "metadata": {},
     "output_type": "execute_result"
    }
   ],
   "source": [
    "alpha_perros"
   ]
  },
  {
   "cell_type": "markdown",
   "metadata": {},
   "source": [
    "<u> **Paso 3**</u>: Valores críticos"
   ]
  },
  {
   "cell_type": "code",
   "execution_count": 27,
   "metadata": {},
   "outputs": [
    {
     "data": {
      "text/plain": [
       "2.624494067560231"
      ]
     },
     "execution_count": 27,
     "metadata": {},
     "output_type": "execute_result"
    }
   ],
   "source": [
    "df_perros = n_perros - 1\n",
    "crit_perros = ms.hypothesis.crit_val_t(df_perros, alpha_perros, 'right')\n",
    "crit_perros"
   ]
  },
  {
   "cell_type": "markdown",
   "metadata": {},
   "source": [
    "<u> **Paso 4**</u>: Estadístico de prueba (T)"
   ]
  },
  {
   "cell_type": "code",
   "execution_count": 28,
   "metadata": {},
   "outputs": [
    {
     "data": {
      "text/plain": [
       "0.9620786656184043"
      ]
     },
     "execution_count": 28,
     "metadata": {},
     "output_type": "execute_result"
    }
   ],
   "source": [
    "t_perros = ms.generals.get_t(x__perros, mu_perros, s_perros, n_perros)\n",
    "t_perros"
   ]
  },
  {
   "cell_type": "markdown",
   "metadata": {},
   "source": [
    "<u> **Paso 5**</u>: Decisión"
   ]
  },
  {
   "cell_type": "code",
   "execution_count": 29,
   "metadata": {},
   "outputs": [
    {
     "data": {
      "text/plain": [
       "False"
      ]
     },
     "execution_count": 29,
     "metadata": {},
     "output_type": "execute_result"
    }
   ],
   "source": [
    "ms.hypothesis.reject_h0(crit_perros, t_perros, 'right')"
   ]
  },
  {
   "cell_type": "markdown",
   "metadata": {},
   "source": [
    "**NO se rechaza la nula**, teniendo en cuenta que el estadístico de prueba *0.9620786656184043* no es mayor que el valor crítico *2.624494067560231*."
   ]
  },
  {
   "cell_type": "markdown",
   "metadata": {},
   "source": [
    "<u>**Paso 6**</u>: Conclusión"
   ]
  },
  {
   "cell_type": "markdown",
   "metadata": {},
   "source": [
    "Si tenemos un nivel de significancia de *1%*, podemos afirmar que el peso promedio de los perros cocker spaniels de un año de edad es **menor o igual** a 40 libras."
   ]
  },
  {
   "cell_type": "markdown",
   "metadata": {},
   "source": [
    "<hr />\n",
    "<hr />"
   ]
  },
  {
   "cell_type": "markdown",
   "metadata": {},
   "source": [
    "## 7. Pruebas de hipótesis de 2 colas para la proporción poblacional\n",
    "Como director de operaciones de mercadeo para una gran cadena minorista, usted considera que el 60% de los clientes de la firma se han graduado de la universidad. Usted intenta establecer una importante política respecto a la estructura de precios sobre esta proporción. Una muestra de 800 clientes revela que 492 clientes tienen grados universitarios. A un nivel del 5%, ¿qué puede concluir sobre la proporción de todos los clientes que se han graduado de la universidad?"
   ]
  },
  {
   "cell_type": "code",
   "execution_count": 30,
   "metadata": {},
   "outputs": [],
   "source": [
    "pi_graduados = 0.6 # Hipótesis nula de la proporción poblacional\n",
    "n_graduados = 800 # Tamaño de la muestra\n",
    "p_graduados = 492/800 # Proporción muestral\n",
    "alpha_graduados = 0.05 # Nivel de significancia"
   ]
  },
  {
   "cell_type": "markdown",
   "metadata": {},
   "source": [
    "<u> **Paso 1**</u>: Plantear hipótesis"
   ]
  },
  {
   "cell_type": "markdown",
   "metadata": {},
   "source": [
    "**Ho:** π = 0.6                \n",
    "\n",
    "**Ha:** π ≠ 0.6"
   ]
  },
  {
   "cell_type": "markdown",
   "metadata": {},
   "source": [
    "<u> **Paso 2**</u>: Nivel de significancia"
   ]
  },
  {
   "cell_type": "code",
   "execution_count": 31,
   "metadata": {},
   "outputs": [
    {
     "data": {
      "text/plain": [
       "0.05"
      ]
     },
     "execution_count": 31,
     "metadata": {},
     "output_type": "execute_result"
    }
   ],
   "source": [
    "alpha_graduados"
   ]
  },
  {
   "cell_type": "markdown",
   "metadata": {},
   "source": [
    "<u> **Paso 3**</u>: Valores críticos"
   ]
  },
  {
   "cell_type": "code",
   "execution_count": 32,
   "metadata": {},
   "outputs": [
    {
     "data": {
      "text/plain": [
       "(-1.959963984540054, 1.959963984540054)"
      ]
     },
     "execution_count": 32,
     "metadata": {},
     "output_type": "execute_result"
    }
   ],
   "source": [
    "crit_graduados = ms.hypothesis.crit_val_norm(alpha_graduados, 'two')\n",
    "crit_graduados"
   ]
  },
  {
   "cell_type": "markdown",
   "metadata": {},
   "source": [
    "<u> **Paso 4**</u>: Estadístico de prueba (Z)"
   ]
  },
  {
   "cell_type": "code",
   "execution_count": 33,
   "metadata": {},
   "outputs": [
    {
     "data": {
      "text/plain": [
       "0.8660254037844394"
      ]
     },
     "execution_count": 33,
     "metadata": {},
     "output_type": "execute_result"
    }
   ],
   "source": [
    "z_graduados = ms.generals.get_z_prop(p_graduados, pi_graduados, n_graduados)\n",
    "z_graduados"
   ]
  },
  {
   "cell_type": "markdown",
   "metadata": {},
   "source": [
    "<u> **Paso 5**</u>: Decisión"
   ]
  },
  {
   "cell_type": "code",
   "execution_count": 34,
   "metadata": {},
   "outputs": [
    {
     "data": {
      "text/plain": [
       "False"
      ]
     },
     "execution_count": 34,
     "metadata": {},
     "output_type": "execute_result"
    }
   ],
   "source": [
    "ms.hypothesis.reject_h0(crit_graduados, z_graduados, 'two')"
   ]
  },
  {
   "cell_type": "markdown",
   "metadata": {},
   "source": [
    "**NO se rechaza la hipótesis nula**, teniendo en cuenta que el estadístico de prueba *0.8660254037844394* no es menor ni mayor que los valores críticos *-1.959963984540054, 1.959963984540054*."
   ]
  },
  {
   "cell_type": "markdown",
   "metadata": {},
   "source": [
    "<u>**Paso 6**</u>: Conclusión"
   ]
  },
  {
   "cell_type": "markdown",
   "metadata": {},
   "source": [
    "A un nivel de significancia del *5%*, podemos concluir que la proporción de todos los clientes que se han graduado de la universidad **no** es **diferente** de 0.6."
   ]
  },
  {
   "cell_type": "markdown",
   "metadata": {},
   "source": [
    "<hr />\n",
    "<hr />"
   ]
  },
  {
   "cell_type": "markdown",
   "metadata": {},
   "source": [
    "## 8. Pruebas de hipótesis de 1 cola para la proporción poblacional\n",
    "El CEO de una gran firma manufacturera debe garantizar que por lo menos 75% de sus empleados ha concluido un curso avanzado de capacitación. De los 1200 empleados seleccionados aleatoriamente, 875 lo han hecho. El CEO registra su asistencia para probar esta hipótesis y calcular el valor de p. A un nivel de significancia del 5%, ¿qué conclusiones incluye usted en su reporte?"
   ]
  },
  {
   "cell_type": "code",
   "execution_count": 35,
   "metadata": {},
   "outputs": [],
   "source": [
    "pi_curso = 0.75 # Hipótesis nula de la proporción poblacional\n",
    "n_curso = 1200 # Tamaño de la muestra\n",
    "p_curso = 875/1200 # Proporción muestral\n",
    "alpha_curso = 0.05 # Nivel de significancia"
   ]
  },
  {
   "cell_type": "markdown",
   "metadata": {},
   "source": [
    "<u> **Paso 1**</u>: Plantear hipótesis"
   ]
  },
  {
   "cell_type": "markdown",
   "metadata": {},
   "source": [
    "**Ho:** π = 0.75          \n",
    "\n",
    "**Ha:** π < 0.75"
   ]
  },
  {
   "cell_type": "markdown",
   "metadata": {},
   "source": [
    "<u> **Paso 2**</u>: Nivel de significancia"
   ]
  },
  {
   "cell_type": "code",
   "execution_count": 36,
   "metadata": {},
   "outputs": [
    {
     "data": {
      "text/plain": [
       "0.05"
      ]
     },
     "execution_count": 36,
     "metadata": {},
     "output_type": "execute_result"
    }
   ],
   "source": [
    "alpha_curso"
   ]
  },
  {
   "cell_type": "markdown",
   "metadata": {},
   "source": [
    "<u> **Paso 3**</u>: Valores críticos"
   ]
  },
  {
   "cell_type": "code",
   "execution_count": 37,
   "metadata": {},
   "outputs": [
    {
     "data": {
      "text/plain": [
       "-1.6448536269514722"
      ]
     },
     "execution_count": 37,
     "metadata": {},
     "output_type": "execute_result"
    }
   ],
   "source": [
    "crit_curso = ms.hypothesis.crit_val_norm(alpha_curso, 'left')\n",
    "crit_curso"
   ]
  },
  {
   "cell_type": "markdown",
   "metadata": {},
   "source": [
    "<u> **Paso 4**</u>: Estadístico de prueba (Z)"
   ]
  },
  {
   "cell_type": "code",
   "execution_count": 38,
   "metadata": {},
   "outputs": [
    {
     "data": {
      "text/plain": [
       "-1.6666666666666696"
      ]
     },
     "execution_count": 38,
     "metadata": {},
     "output_type": "execute_result"
    }
   ],
   "source": [
    "z_curso = ms.generals.get_z_prop(p_curso, pi_curso, n_curso)\n",
    "z_curso"
   ]
  },
  {
   "cell_type": "markdown",
   "metadata": {},
   "source": [
    "<u> **Paso 5**</u>: Decisión"
   ]
  },
  {
   "cell_type": "code",
   "execution_count": 39,
   "metadata": {},
   "outputs": [
    {
     "data": {
      "text/plain": [
       "True"
      ]
     },
     "execution_count": 39,
     "metadata": {},
     "output_type": "execute_result"
    }
   ],
   "source": [
    "ms.hypothesis.reject_h0(crit_curso, z_curso, 'left')"
   ]
  },
  {
   "cell_type": "markdown",
   "metadata": {},
   "source": [
    "**SI se rechaza la hipótesis nula** teniendo en cuenta que el estadístico de prueba *-1.6666666666666696* es menor que el valor crítico *-1.6448536269514722*"
   ]
  },
  {
   "cell_type": "markdown",
   "metadata": {},
   "source": [
    "<u>**Paso 6**</u>: Conclusión"
   ]
  },
  {
   "cell_type": "markdown",
   "metadata": {},
   "source": [
    "Con un nivel de significancia del *5%*, podemos afirmar que en la empresa, **menos** del *75%* de los empleados han concluido un curso avanzado de capacitación.\n",
    "\n",
    "Por lo que el CEO debe tomar medidas para incrementar la proporción de empleados con el curso avanzado de capacitación."
   ]
  },
  {
   "cell_type": "markdown",
   "metadata": {},
   "source": [
    "<u>**Valor p**</u>"
   ]
  },
  {
   "cell_type": "code",
   "execution_count": 40,
   "metadata": {},
   "outputs": [
    {
     "data": {
      "text/plain": [
       "0.04779035227281436"
      ]
     },
     "execution_count": 40,
     "metadata": {},
     "output_type": "execute_result"
    }
   ],
   "source": [
    "pvalue_curso = ms.hypothesis.get_p(z_curso, 'left')\n",
    "pvalue_curso"
   ]
  },
  {
   "cell_type": "markdown",
   "metadata": {},
   "source": [
    "**R/** El mínimo nivel de significancia que puede tomar el CEO para no rechazar que **por lo menos** el *75%* de sus empleados tienen el curso de capacitación es de *4.77%*.\n",
    "\n",
    "Pero como el nivel de significancia que se tomó es de *5%*, y es mayor al valor-p, se puede **negar** la afirmación de que por lo menos el 75% de sus empleados tienen el curso de capacitación."
   ]
  },
  {
   "cell_type": "markdown",
   "metadata": {},
   "source": [
    "<hr/>\n",
    "<hr/>"
   ]
  },
  {
   "cell_type": "markdown",
   "metadata": {},
   "source": [
    "## 9. Pruebas de hipótesis para la diferencia entre 2 poblaciones en muestras grandes\n",
    "Weaver Ridge Golf Course desea ver si el tiempo promedio que requieren los hombres para jugar los 18 hoyos es diferente al de las mujeres. Se mide el tiempo para 50 partidos de hombres y 45 de mujeres y se obtiene:\n",
    "\n",
    "Hombres:\n",
    "\n",
    "X_ = 3.5 horas\n",
    "\n",
    "S = 0.9 horas\n",
    "\n",
    "Mujeres:\n",
    "\n",
    "X_ = 4.9 horas\n",
    "\n",
    "S = 1.5 horas\n",
    "\n",
    "Utilice un nivel de significancia del 5%"
   ]
  },
  {
   "cell_type": "code",
   "execution_count": 41,
   "metadata": {},
   "outputs": [],
   "source": [
    "n_h = 50 # Tamaño de la muestra 1\n",
    "x_h = 3.5 # Promedio de la muestra 1\n",
    "s_h = 0.9 # Desviación estándar de la muestra 1\n",
    "\n",
    "n_m = 45 # Tamaño de la muestra 2\n",
    "x_m = 4.9 # Promedio de la muestra 2\n",
    "s_m = 1.5 # Desviación estándar de la muestra 2\n",
    "\n",
    "alpha_golf = 0.05 # Nivel de significancia"
   ]
  },
  {
   "cell_type": "markdown",
   "metadata": {},
   "source": [
    "<u> **Paso 1**</u>: Plantear hipótesis"
   ]
  },
  {
   "cell_type": "markdown",
   "metadata": {},
   "source": [
    "**Ho:** μh = μm                  \n",
    "\n",
    "**Ha:** μh ≠ μm"
   ]
  },
  {
   "cell_type": "markdown",
   "metadata": {},
   "source": [
    "<u> **Paso 2**</u>: Nivel de significancia"
   ]
  },
  {
   "cell_type": "code",
   "execution_count": 42,
   "metadata": {},
   "outputs": [
    {
     "data": {
      "text/plain": [
       "0.05"
      ]
     },
     "execution_count": 42,
     "metadata": {},
     "output_type": "execute_result"
    }
   ],
   "source": [
    "alpha_golf"
   ]
  },
  {
   "cell_type": "markdown",
   "metadata": {},
   "source": [
    "<u> **Paso 3**</u>: Valores críticos"
   ]
  },
  {
   "cell_type": "code",
   "execution_count": 43,
   "metadata": {},
   "outputs": [
    {
     "data": {
      "text/plain": [
       "(-1.959963984540054, 1.959963984540054)"
      ]
     },
     "execution_count": 43,
     "metadata": {},
     "output_type": "execute_result"
    }
   ],
   "source": [
    "crit_golf = ms.hypothesis.crit_val_norm(alpha_golf, 'two')\n",
    "crit_golf"
   ]
  },
  {
   "cell_type": "markdown",
   "metadata": {},
   "source": [
    "<u> **Paso 4**</u>: Estadístico de prueba (Z)"
   ]
  },
  {
   "cell_type": "code",
   "execution_count": 44,
   "metadata": {},
   "outputs": [
    {
     "data": {
      "text/plain": [
       "-5.4412545203553035"
      ]
     },
     "execution_count": 44,
     "metadata": {},
     "output_type": "execute_result"
    }
   ],
   "source": [
    "z_golf = ms.generals.get_z_2p(x_h, x_m, s_h, s_m, n_h, n_m)\n",
    "z_golf"
   ]
  },
  {
   "cell_type": "markdown",
   "metadata": {},
   "source": [
    "<u> **Paso 5**</u>: Decisión"
   ]
  },
  {
   "cell_type": "code",
   "execution_count": 45,
   "metadata": {},
   "outputs": [
    {
     "data": {
      "text/plain": [
       "True"
      ]
     },
     "execution_count": 45,
     "metadata": {},
     "output_type": "execute_result"
    }
   ],
   "source": [
    "ms.hypothesis.reject_h0(crit_golf, z_golf, 'two')"
   ]
  },
  {
   "cell_type": "markdown",
   "metadata": {},
   "source": [
    "**SI se rechaza la hipótesis nula**, teniendo en cuenta que el estadístico de prueba *-5.4412545203553035* es mayor o menor que los valores críticos *-1.959963984540054, 1.959963984540054*"
   ]
  },
  {
   "cell_type": "markdown",
   "metadata": {},
   "source": [
    "<u>**Paso 6**</u>: Conclusión"
   ]
  },
  {
   "cell_type": "markdown",
   "metadata": {},
   "source": [
    "Con un nivel de significancia del *5%*, podemos afirmar que el tiempo promedio que se demoran los hombres para jugar los 18 hoyos es **diferente** al de las mujeres.\n",
    "\n",
    "También, cómo la zona de rechazo fue la izquierda, se puede concluir que el tiempo promedio que se demoran las mujeres para jugar los 18 hoyos es **mayor** que el de los hombres ***(μ_m > μ_h)***"
   ]
  },
  {
   "cell_type": "markdown",
   "metadata": {},
   "source": [
    "<hr/>\n",
    "<hr/>"
   ]
  },
  {
   "cell_type": "markdown",
   "metadata": {},
   "source": [
    "## 10. Pruebas de hipótesis para la diferencia entre 2 poblaciones en muestras pequeñas con varianzas iguales\n",
    "**Ejercicio 9.2** Las negociaciones salariales entre su empresa y el sindicato de sus trabajadores están a punto de romperse. Existe un desacuerdo considerable sobre el nivel salarial promedio de los trabajadores en la planta de Atlanta y en la planta de Virginia. Los salarios fueron fijados por el antiguo acuerdo laboral de hace tres años y se basan estrictamente en la antigüedad. Debido a que los salarios están controlados muy de cerca por el contrato laboral, se asume que la variación en los salarios es la misma en ambas plantas y que los salarios están distribuidos normalmente. Sin embargo, se siente que existe una diferencia entre los niveles salariales promedio debido a los patrones de antigüedad diferentes en las dos plantas.\n",
    "\n",
    "El negociador laboral que representa a la gerencia desea que usted desarrolle un intervalo de confianza del 98% para estimar la diferencia entre los niveles salariales promedio. Si existe una diferencia en las medias, deben hacerse ajustes para hacer que los salarios más bajos alcancen el nivel de los más altos. Dados los siguientes datos, ¿Qué ajustes se requieren, si es el caso?\n",
    "\n",
    "-----\n",
    "Regresando al ejercicio 9.2, un estimado del intervalo del 98% de la diferencia en los salarios promedio fué de: *-5.09 < μ1 - μ2 < 9.15* . Si en lugar de un estimado por intervalos de confianza, se hubiera querido realizar una prueba de hipótesis de que las medias poblacionales eran iguales."
   ]
  },
  {
   "cell_type": "code",
   "execution_count": 46,
   "metadata": {},
   "outputs": [],
   "source": [
    "n_a = 23 # Tamaño de la muestra 1\n",
    "x_a = 17.53 # Promedio de la muestra 1\n",
    "s_a = 92.10**0.5 # Desviación estándar de la muestra 1\n",
    "\n",
    "n_v = 19 # Tamaño de la muestra 2\n",
    "x_v = 15.5 # Promedio de la muestra 2\n",
    "s_v = 87.19**0.5 # Desviación estándar de la muestra 2\n",
    "\n",
    "alpha_plantas = 0.02 # Nivel de significancia\n",
    "var_plantas = True # ¿Varianzas poblacionales iguales?"
   ]
  },
  {
   "cell_type": "markdown",
   "metadata": {},
   "source": [
    "<u> **Paso 1**</u>: Plantear hipótesis"
   ]
  },
  {
   "cell_type": "markdown",
   "metadata": {},
   "source": [
    "**Ho:** μh = μm                  \n",
    "\n",
    "**Ha:** μh ≠ μm"
   ]
  },
  {
   "cell_type": "markdown",
   "metadata": {},
   "source": [
    "<u> **Paso 2**</u>: Nivel de significancia"
   ]
  },
  {
   "cell_type": "code",
   "execution_count": 47,
   "metadata": {},
   "outputs": [
    {
     "data": {
      "text/plain": [
       "0.02"
      ]
     },
     "execution_count": 47,
     "metadata": {},
     "output_type": "execute_result"
    }
   ],
   "source": [
    "alpha_plantas"
   ]
  },
  {
   "cell_type": "markdown",
   "metadata": {},
   "source": [
    "<u> **Paso 3**</u>: Valores críticos"
   ]
  },
  {
   "cell_type": "code",
   "execution_count": 48,
   "metadata": {},
   "outputs": [
    {
     "data": {
      "text/plain": [
       "(-2.4232567793348565, 2.4232567793348565)"
      ]
     },
     "execution_count": 48,
     "metadata": {},
     "output_type": "execute_result"
    }
   ],
   "source": [
    "df_plantas = n_a + n_v - 2 # Grados de libertad cuando las varianzas poblacionales son iguales\n",
    "crit_plantas = ms.hypothesis.crit_val_t(df_plantas, alpha_plantas, 'two')\n",
    "crit_plantas"
   ]
  },
  {
   "cell_type": "markdown",
   "metadata": {},
   "source": [
    "<u> **Paso 4**</u>: Estadístico de prueba (T)"
   ]
  },
  {
   "cell_type": "code",
   "execution_count": 49,
   "metadata": {
    "scrolled": true
   },
   "outputs": [
    {
     "data": {
      "text/plain": [
       "0.6906455424446802"
      ]
     },
     "execution_count": 49,
     "metadata": {},
     "output_type": "execute_result"
    }
   ],
   "source": [
    "t_plantas = ms.generals.get_t_2p(x_a, x_v, s_a, s_v, n_a, n_v, var_plantas)\n",
    "t_plantas"
   ]
  },
  {
   "cell_type": "markdown",
   "metadata": {},
   "source": [
    "<u> **Paso 5**</u>: Decisión"
   ]
  },
  {
   "cell_type": "code",
   "execution_count": 50,
   "metadata": {},
   "outputs": [
    {
     "data": {
      "text/plain": [
       "False"
      ]
     },
     "execution_count": 50,
     "metadata": {},
     "output_type": "execute_result"
    }
   ],
   "source": [
    "ms.hypothesis.reject_h0(crit_plantas, t_plantas, 'two')"
   ]
  },
  {
   "cell_type": "markdown",
   "metadata": {},
   "source": [
    "**NO se rechaza la hipótesis nula**, teniendo en cuenta que el valor del estadístico de prueba *0.6906455424446802* no es menor ni mayor que los valores críticos *-2.4232567793348565, 2.4232567793348565*."
   ]
  },
  {
   "cell_type": "markdown",
   "metadata": {},
   "source": [
    "<u>**Paso 6**</u>: Conclusión"
   ]
  },
  {
   "cell_type": "markdown",
   "metadata": {},
   "source": [
    "Con un nivel de significancia del *2%*, se puede afirmar que la diferencia entre los salarios de los trabajadores de la planta de Atlanta y los de la planta de Virginia **no son diferentes**.\n",
    "\n",
    "Por lo que se puede concluir que no son necesarios ningunos ajustes.\n",
    "\n"
   ]
  },
  {
   "cell_type": "markdown",
   "metadata": {},
   "source": [
    "<hr/>\n",
    "<hr/>"
   ]
  },
  {
   "cell_type": "markdown",
   "metadata": {},
   "source": [
    "## 11. Pruebas de hipótesis para la diferencia entre 2 poblaciones en muestras pequeñas con varianzas diferentes\n",
    "**9.3** Acme Ltd. Vende dos tipos de amortiguadores de caucho para coches de bebés. Las pruebas de desgaste para medir la durabilidad revelaron que 13 amortiguadores del tipo 1 duraron un promedio de 11.3 semanas, con una desviación estándar de 3.5 semanas; mientras 10 del tipo 2 duraron un promedio de 7.5 semanas, con una desviación estándar de 2.7 semanas. El tipo 1 es más costoso para fabricar y el CEO de Acme no desea utilizarlo a menos que tenga un promedio de duración de por lo menos ocho semanas más que el tipo 2. El CEO tolerará una probabilidad de error de sólo el 2%. No existe evidencia que sugiera que las varianzas de la duración de los dos productos sean iguales.\n",
    "\n",
    "-----\n",
    "En el ejercicio 9.3, un intervalo del 98% para la diferencia en la durabilidad promedio de los 2 tipos de amortiguadores de caucho para coches de bebé, se estimó que era *0.5 < μ1 - μ2 < 7.1*. Si en lugar de un estimado por intervalos de confianza, se hubiera querido realizar una prueba de hipótesis de que las medias poblacionales eran iguales."
   ]
  },
  {
   "cell_type": "code",
   "execution_count": 51,
   "metadata": {},
   "outputs": [],
   "source": [
    "n_am1 = 13 # Tamaño de la muestra 1\n",
    "x_am1 = 11.3 # Promedio de la muestra 1\n",
    "s_am1 = 3.5 # Desviación estándar de la muestra 1\n",
    "\n",
    "n_am2 = 10 # Tamaño de la muestra 2\n",
    "x_am2 = 7.5 # Promedio de la muestra 2\n",
    "s_am2 = 2.7 # Desviación estándar de la muestra 2\n",
    "\n",
    "alpha_am = 0.02 # Nivel de significancia\n",
    "var_am = False # ¿Varianzas poblacionales iguales?"
   ]
  },
  {
   "cell_type": "markdown",
   "metadata": {},
   "source": [
    "<u> **Paso 1**</u>: Plantear hipótesis"
   ]
  },
  {
   "cell_type": "markdown",
   "metadata": {},
   "source": [
    "**Ho:** μam1 = μam2               \n",
    "\n",
    "**Ha:** μam1 ≠ μam2"
   ]
  },
  {
   "cell_type": "markdown",
   "metadata": {},
   "source": [
    "<u> **Paso 2**</u>: Nivel de significancia"
   ]
  },
  {
   "cell_type": "code",
   "execution_count": 52,
   "metadata": {},
   "outputs": [
    {
     "data": {
      "text/plain": [
       "0.02"
      ]
     },
     "execution_count": 52,
     "metadata": {},
     "output_type": "execute_result"
    }
   ],
   "source": [
    "alpha_am"
   ]
  },
  {
   "cell_type": "markdown",
   "metadata": {},
   "source": [
    "<u> **Paso 3**</u>: Valores críticos"
   ]
  },
  {
   "cell_type": "code",
   "execution_count": 53,
   "metadata": {},
   "outputs": [
    {
     "data": {
      "text/plain": [
       "(-2.517696736682547, 2.517696736682547)"
      ]
     },
     "execution_count": 53,
     "metadata": {},
     "output_type": "execute_result"
    }
   ],
   "source": [
    "df_am = ms.generals.get_df_var(n_am1, n_am2, s_am1, s_am2) # Grados de libertad cuando las varianzas poblacionales son diferentes\n",
    "crit_am = ms.hypothesis.crit_val_t(df_am, alpha_am, 'two')\n",
    "crit_am"
   ]
  },
  {
   "cell_type": "markdown",
   "metadata": {},
   "source": [
    "<u> **Paso 4**</u>: Estadístico de prueba (T)"
   ]
  },
  {
   "cell_type": "code",
   "execution_count": 54,
   "metadata": {},
   "outputs": [
    {
     "data": {
      "text/plain": [
       "2.9393776700394625"
      ]
     },
     "execution_count": 54,
     "metadata": {},
     "output_type": "execute_result"
    }
   ],
   "source": [
    "t_am = ms.generals.get_t_2p(x_am1, x_am2, s_am1, s_am2, n_am1, n_am2, var_am)\n",
    "t_am"
   ]
  },
  {
   "cell_type": "markdown",
   "metadata": {},
   "source": [
    "<u> **Paso 5**</u>: Decisión"
   ]
  },
  {
   "cell_type": "code",
   "execution_count": 55,
   "metadata": {},
   "outputs": [
    {
     "data": {
      "text/plain": [
       "True"
      ]
     },
     "execution_count": 55,
     "metadata": {},
     "output_type": "execute_result"
    }
   ],
   "source": [
    "ms.hypothesis.reject_h0(crit_am, t_am, 'two')"
   ]
  },
  {
   "cell_type": "markdown",
   "metadata": {},
   "source": [
    "**SI se rechaza la hipótesis nula**, teniendo en cuenta que el estadístico de prueba *2.9393776700394625*, es mayor o menor que los valores críticos *-2.517696736682547, 2.517696736682547*."
   ]
  },
  {
   "cell_type": "markdown",
   "metadata": {},
   "source": [
    "<u>**Paso 6**</u>: Conclusión"
   ]
  },
  {
   "cell_type": "markdown",
   "metadata": {},
   "source": [
    "A un nivel de significancia del *2%*, podemos afirmar que el promedio de duración de los 2 tipos de amortiguadores **no son iguales**.\n",
    "\n",
    "Y también se puede concluir que, como la zona de rechazo fue la zona derecha, se puede afirmar que el promedio de duración del amortiguador de tipo 1, es **mayor** que el amortiguador de tipo 2 **(μam1 > μam2)**"
   ]
  },
  {
   "cell_type": "markdown",
   "metadata": {},
   "source": [
    "<hr/>\n",
    "<hr/>"
   ]
  },
  {
   "attachments": {
    "image.png": {
     "image/png": "[encoded data removed]"
    }
   },
   "cell_type": "markdown",
   "metadata": {},
   "source": [
    "## 12. Pruebas de hipótesis para la diferencia entre 2 poblaciones en muestras pareadas\n",
    "**Ejercicio 9.4.** Vicki Peplow, directora regional de pagos de asistencia médica para Aetna Insurance, constató que dos hospitales diferentes parecían cobrar cantidades ampliamente diferentes por el mismo procedimiento médico. Ella recolectó observaciones sobre costos de facturación para 15 procedimientos idénticos en cada hospital, y construyó un intervalo de confianza del 95% para la diferencia entre los costos promedio presentados por cada hospital. Se utilizaron muestras pareadas porque Vicki corrigió todos los demás factores relevantes distintos al costo. Si existe una diferencia, la señora Peplow planea reportar este asunto a las autoridades de asistencia médica Medicare. ¿Deberá ella presentar el informe?\n",
    "\n",
    "![image.png](attachment:image.png)\n",
    "\n",
    "---\n",
    "En el ejercicio 9.4, Vicky Peplow preparó un estimado de intervalo del 95% para la diferencia en costos para procedimientos idénticos en los 2 hospitales. El resultado fué *-146.33 < μ1 - μ2 < 28.47*. Si en lugar de un estimado por intervalos de confianza, se hubiera querido realizar una prueba de hipótesis de que las medias poblacionales eran iguales."
   ]
  },
  {
   "cell_type": "code",
   "execution_count": 56,
   "metadata": {},
   "outputs": [],
   "source": [
    "n_hospital = 15 # Tamaño de las muestras\n",
    "cond1_hospital = [465, 532, 426, 543, 587, 537, 598, 698, 378, 376, 524, 387, 429, 398, 412] # Condición inicial de la muestra\n",
    "cond2_hospital = [512, 654, 453, 521, 632, 418, 587, 376, 529, 517, 476, 519, 587, 639, 754] # Condición final de la muestra\n",
    "alpha_hospital = 0.05 # Nivel de significancia"
   ]
  },
  {
   "cell_type": "markdown",
   "metadata": {},
   "source": [
    "<u> **Paso 1**</u>: Plantear hipótesis"
   ]
  },
  {
   "cell_type": "markdown",
   "metadata": {},
   "source": [
    "**Ho:** μh1 = μh2               \n",
    "\n",
    "**Ha:** μh1 ≠ μh2"
   ]
  },
  {
   "cell_type": "markdown",
   "metadata": {},
   "source": [
    "<u> **Paso 2**</u>: Nivel de significancia"
   ]
  },
  {
   "cell_type": "code",
   "execution_count": 57,
   "metadata": {},
   "outputs": [
    {
     "data": {
      "text/plain": [
       "0.05"
      ]
     },
     "execution_count": 57,
     "metadata": {},
     "output_type": "execute_result"
    }
   ],
   "source": [
    "alpha_hospital"
   ]
  },
  {
   "cell_type": "markdown",
   "metadata": {},
   "source": [
    "<u> **Paso 3**</u>: Valores críticos"
   ]
  },
  {
   "cell_type": "code",
   "execution_count": 58,
   "metadata": {},
   "outputs": [
    {
     "data": {
      "text/plain": [
       "(-2.1447866879169273, 2.1447866879169273)"
      ]
     },
     "execution_count": 58,
     "metadata": {},
     "output_type": "execute_result"
    }
   ],
   "source": [
    "df_hospital = n_hospital - 1\n",
    "crit_hospital = ms.hypothesis.crit_val_t(df_hospital, alpha_hospital, 'two')\n",
    "crit_hospital"
   ]
  },
  {
   "cell_type": "markdown",
   "metadata": {},
   "source": [
    "<u> **Paso 4**</u>: Estadístico de prueba (T)"
   ]
  },
  {
   "cell_type": "code",
   "execution_count": 59,
   "metadata": {},
   "outputs": [
    {
     "data": {
      "text/plain": [
       "-1.44642249848984"
      ]
     },
     "execution_count": 59,
     "metadata": {},
     "output_type": "execute_result"
    }
   ],
   "source": [
    "t_hospital = ms.generals.get_d_pair(n_hospital, cond1_hospital, cond2_hospital)\n",
    "t_hospital"
   ]
  },
  {
   "cell_type": "markdown",
   "metadata": {},
   "source": [
    "<u> **Paso 5**</u>: Decisión"
   ]
  },
  {
   "cell_type": "code",
   "execution_count": 60,
   "metadata": {},
   "outputs": [
    {
     "data": {
      "text/plain": [
       "False"
      ]
     },
     "execution_count": 60,
     "metadata": {},
     "output_type": "execute_result"
    }
   ],
   "source": [
    "ms.hypothesis.reject_h0(crit_hospital, t_hospital, 'two')"
   ]
  },
  {
   "cell_type": "markdown",
   "metadata": {},
   "source": [
    "**NO se rechaza la hipótesis nula**, teniendo en cuenta que el estadístico de prueba *-1.44642249848984* no es menor ni mayor que los valores críticos *-2.1447866879169273, 2.1447866879169273*"
   ]
  },
  {
   "cell_type": "markdown",
   "metadata": {},
   "source": [
    "<u>**Paso 6**</u>: Conclusión"
   ]
  },
  {
   "cell_type": "markdown",
   "metadata": {},
   "source": [
    "Con un nivel de significancia del *5%* se puede concluir que la diferencia entre los costos promedio de los procedimientos médicos del hospital 1 y el hospital 2 **no son diferentes**.\n",
    "\n",
    "Entonces, Vicki no debería presentar el informe a las autoridades de asistencia médica Medicare, pues **no existe una diferencia significativa** entre los costos promedio de los procedimientos médicos del hospital 1 y el hospital 2 que justifique el reporte."
   ]
  },
  {
   "cell_type": "markdown",
   "metadata": {},
   "source": [
    "<hr/>\n",
    "<hr/>"
   ]
  },
  {
   "cell_type": "markdown",
   "metadata": {},
   "source": [
    "## 13. Pruebas de hipótesis para la diferencia entre 2 proporciones poblacionales\n",
    "Un minorista desea probar la hipótesis nula de que la proporción de sus clientes masculinos, quienes compran a crédito, es igual a la proporción de mujeres que utilizan el crédito. Él selecciona 100 clientes hombres y encuentra que 57 compraron a crédito, mientras que 52 de 110 mujeres lo hicieron. Utilice α = 1%."
   ]
  },
  {
   "cell_type": "code",
   "execution_count": 61,
   "metadata": {},
   "outputs": [],
   "source": [
    "n_hombres = 100 # Tamaño de la muestra 1\n",
    "p_hombres = 57/100 # Proporción de la muestra 1\n",
    "\n",
    "n_mujeres = 110 # Tamaño de la muestra 2\n",
    "p_mujeres = 52/110 # Proporción de la muestra 2\n",
    "\n",
    "alpha_credito = 0.01 # Nivel de significancia"
   ]
  },
  {
   "cell_type": "markdown",
   "metadata": {},
   "source": [
    "<u> **Paso 1**</u>: Plantear hipótesis"
   ]
  },
  {
   "cell_type": "markdown",
   "metadata": {},
   "source": [
    "**Ho:** πh = πm               \n",
    "\n",
    "**Ha:** πh ≠ πm"
   ]
  },
  {
   "cell_type": "markdown",
   "metadata": {},
   "source": [
    "<u> **Paso 2**</u>: Nivel de significancia"
   ]
  },
  {
   "cell_type": "code",
   "execution_count": 62,
   "metadata": {},
   "outputs": [
    {
     "data": {
      "text/plain": [
       "0.01"
      ]
     },
     "execution_count": 62,
     "metadata": {},
     "output_type": "execute_result"
    }
   ],
   "source": [
    "alpha_credito"
   ]
  },
  {
   "cell_type": "markdown",
   "metadata": {},
   "source": [
    "<u> **Paso 3**</u>: Valores críticos"
   ]
  },
  {
   "cell_type": "code",
   "execution_count": 64,
   "metadata": {},
   "outputs": [
    {
     "data": {
      "text/plain": [
       "(-2.5758293035489004, 2.5758293035489004)"
      ]
     },
     "execution_count": 64,
     "metadata": {},
     "output_type": "execute_result"
    }
   ],
   "source": [
    "crit_credito = ms.hypothesis.crit_val_norm(alpha_credito, 'two')\n",
    "crit_credito"
   ]
  },
  {
   "cell_type": "markdown",
   "metadata": {},
   "source": [
    "<u> **Paso 4**</u>: Estadístico de prueba (Z)"
   ]
  },
  {
   "cell_type": "code",
   "execution_count": 65,
   "metadata": {},
   "outputs": [
    {
     "data": {
      "text/plain": [
       "1.4163146434662097"
      ]
     },
     "execution_count": 65,
     "metadata": {},
     "output_type": "execute_result"
    }
   ],
   "source": [
    "z_credito = ms.generals.get_z_2prop(p_hombres, p_mujeres, n_hombres, n_mujeres)\n",
    "z_credito"
   ]
  },
  {
   "cell_type": "markdown",
   "metadata": {},
   "source": [
    "<u> **Paso 5**</u>: Decisión"
   ]
  },
  {
   "cell_type": "code",
   "execution_count": 66,
   "metadata": {},
   "outputs": [
    {
     "data": {
      "text/plain": [
       "False"
      ]
     },
     "execution_count": 66,
     "metadata": {},
     "output_type": "execute_result"
    }
   ],
   "source": [
    "ms.hypothesis.reject_h0(crit_credito, z_credito, 'two')"
   ]
  },
  {
   "cell_type": "markdown",
   "metadata": {},
   "source": [
    "**NO se rechaza la hipótesis nula**, teniendo en cuenta que el estadístico de prueba *1.4163146434662097* no es mayor ni menor que los valores críticos *-2.5758293035489004, 2.5758293035489004*."
   ]
  },
  {
   "cell_type": "markdown",
   "metadata": {},
   "source": [
    "<u>**Paso 6**</u>: Conclusión"
   ]
  },
  {
   "cell_type": "markdown",
   "metadata": {},
   "source": [
    "Teniendo en cuenta un nivel de significancia del *1%*, se puede afirmar que la proporción de clientes hombres que compran a \n",
    "crédito **no es diferente** a la proporción de clientes mujeres que compran a crédito."
   ]
  },
  {
   "cell_type": "markdown",
   "metadata": {},
   "source": [
    "<hr/>\n",
    "<hr/>"
   ]
  },
  {
   "cell_type": "code",
   "execution_count": null,
   "metadata": {},
   "outputs": [],
   "source": []
  }
 ],
 "metadata": {
  "kernelspec": {
   "display_name": "Python 3",
   "language": "python",
   "name": "python3"
  },
  "language_info": {
   "codemirror_mode": {
    "name": "ipython",
    "version": 3
   },
   "file_extension": ".py",
   "mimetype": "text/x-python",
   "name": "python",
   "nbconvert_exporter": "python",
   "pygments_lexer": "ipython3",
   "version": "3.7.0"
  }
 },
 "nbformat": 4,
 "nbformat_minor": 2
}
