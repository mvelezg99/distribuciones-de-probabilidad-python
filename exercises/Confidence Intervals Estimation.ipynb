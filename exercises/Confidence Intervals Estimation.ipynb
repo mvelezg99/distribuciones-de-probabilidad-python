{
 "cells": [
  {
   "cell_type": "markdown",
   "metadata": {},
   "source": [
    "**<p style=\"font-size: 35px; text-align: center\">Confidence Intervals Estimation</p>**\n",
    "\n",
    "\n",
    "\n",
    "***<center>Miguel Ángel Vélez Guerra</center>***\n",
    "\n",
    "<hr/>\n",
    "\n",
    "![intervals](http://sphweb.bumc.bu.edu/otlt/MPH-Modules/QuantCore/PH717_ConfidenceIntervals-OneSample/Wordle-ConfidenceIntervals.png)\n",
    "\n",
    "\n",
    "\n"
   ]
  },
  {
   "cell_type": "markdown",
   "metadata": {},
   "source": [
    "<hr />\n",
    "<hr />"
   ]
  },
  {
   "cell_type": "markdown",
   "metadata": {},
   "source": [
    "**<p id=\"tocheading\">Tabla de contenido</p>**\n",
    "<br/>\n",
    "<div id=\"toc\"></div>\n"
   ]
  },
  {
   "cell_type": "code",
   "execution_count": 1,
   "metadata": {},
   "outputs": [
    {
     "data": {
      "application/javascript": [
       "// Script to generate table of contents\n",
       "$.getScript('../resources/table_of_contents.js')"
      ],
      "text/plain": [
       "<IPython.core.display.Javascript object>"
      ]
     },
     "metadata": {},
     "output_type": "display_data"
    }
   ],
   "source": [
    "%%javascript\n",
    "// Script to generate table of contents\n",
    "$.getScript('../resources/table_of_contents.js')"
   ]
  },
  {
   "cell_type": "markdown",
   "metadata": {},
   "source": [
    "<hr />\n",
    "<hr />"
   ]
  },
  {
   "cell_type": "markdown",
   "metadata": {},
   "source": [
    "## Imports"
   ]
  },
  {
   "cell_type": "code",
   "execution_count": 2,
   "metadata": {},
   "outputs": [],
   "source": [
    "#-------Importing from other folder------#\n",
    "\n",
    "import sys\n",
    "sys.path.insert(0, \"../resources/\")\n",
    "\n",
    "import mstats as ms\n",
    "\n",
    "#-----------Miguel's statistics----------#"
   ]
  },
  {
   "cell_type": "code",
   "execution_count": 3,
   "metadata": {},
   "outputs": [],
   "source": [
    "import scipy.stats as ss\n",
    "import numpy as np"
   ]
  },
  {
   "cell_type": "markdown",
   "metadata": {},
   "source": [
    "<hr />\n",
    "<hr />"
   ]
  },
  {
   "cell_type": "markdown",
   "metadata": {},
   "source": [
    "## 1.  Intervalos de confianza para la media poblacional con muestras grandes\n",
    "Un teatro de cine local desea desarrollar un intervalo para estimar las cajas promedio de\n",
    "palomitas de maíz que se venden por sala de cine. Si los registros llevados para 70 salas\n",
    "revelan un promedio de 54.98 cajas y una desviación estándar de 12.7, calcule e interprete\n",
    "un intervalo de confianza del 92% para la media poblacional."
   ]
  },
  {
   "cell_type": "code",
   "execution_count": 4,
   "metadata": {},
   "outputs": [],
   "source": [
    "n_cine = 70 # Tamaño de la muestra\n",
    "x__cine = 54.98 # Promedio muestral\n",
    "s_cine = 12.7 # Desviación estándar muestral\n",
    "alpha_cine = 0.92 # Nivel de confianza"
   ]
  },
  {
   "cell_type": "code",
   "execution_count": 5,
   "metadata": {},
   "outputs": [
    {
     "data": {
      "text/plain": [
       "(52.32256300052874, 57.637436999471255)"
      ]
     },
     "execution_count": 5,
     "metadata": {},
     "output_type": "execute_result"
    }
   ],
   "source": [
    "ms.intervals.norm(n_cine, x__cine, s_cine, alpha_cine)"
   ]
  },
  {
   "cell_type": "markdown",
   "metadata": {},
   "source": [
    "**R/** El teatro de cine local tiene un *92%* de confianza en que el promedio poblacional de cajas de palomitas de maíz que se venden por sala de cine, está entre **52.32256300052874** y **57.637436999471255** cajas."
   ]
  },
  {
   "cell_type": "markdown",
   "metadata": {},
   "source": [
    "<hr/>\n",
    "<hr/>"
   ]
  },
  {
   "cell_type": "markdown",
   "metadata": {},
   "source": [
    "## 2. Intervalos de confianza para la media poblacional con muestras grandes\n",
    "Una muestra de 121 llamadas al número 900 que usted maneja tiene una duración\n",
    "promedio de 16.6 minutos y una desviación estándar de 3.63 minutos. Usted pretende\n",
    "discontinuar el servicio a menos que la duración promedio sea superior a 18 minutos. En\n",
    "un nivel de confianza del 95%, ¿cuál es su decisión?"
   ]
  },
  {
   "cell_type": "code",
   "execution_count": 6,
   "metadata": {},
   "outputs": [],
   "source": [
    "n_llamadas = 121 # Tamaño de la muestra\n",
    "x__llamadas = 16.6 # Promedio muestral\n",
    "s_llamadas = 3.63 # Desviación estándar muestral\n",
    "alpha_llamadas = 0.95 # Nivel de confianza"
   ]
  },
  {
   "cell_type": "code",
   "execution_count": 7,
   "metadata": {},
   "outputs": [
    {
     "data": {
      "text/plain": [
       "(15.953211885101783, 17.24678811489822)"
      ]
     },
     "execution_count": 7,
     "metadata": {},
     "output_type": "execute_result"
    }
   ],
   "source": [
    "ms.intervals.norm(n_llamadas, x__llamadas, s_llamadas, alpha_llamadas)"
   ]
  },
  {
   "cell_type": "markdown",
   "metadata": {},
   "source": [
    "**R/** Con un nivel de confianza del *95%* podemos asegurar que la duración promedio de llamadas al número 900 está entre **15.953211885101783** y **17.24678811489822** minutos.\n",
    "\n",
    "Entonces, nuestra decisión será discontinuar el servicio, pues la duración promedio no parece que pueda superar los **18** minutos."
   ]
  },
  {
   "cell_type": "markdown",
   "metadata": {},
   "source": [
    "<hr />\n",
    "<hr />"
   ]
  },
  {
   "cell_type": "markdown",
   "metadata": {},
   "source": [
    "## 3. Intervalos de confianza para la media poblacional con muestras pequeñas\n",
    "Greenleaf Lawn Care descubre que el costo promedio de adornar los jardines de 20 casas\n",
    "del área es de 2365, con s = 983. Al nivel de confianza del 99%, ¿Qué costo promedio\n",
    "estimaría usted para adornar los jardines de todas las casas del área?"
   ]
  },
  {
   "cell_type": "code",
   "execution_count": 8,
   "metadata": {},
   "outputs": [],
   "source": [
    "n_jardines = 20 # Tamaño de la muestra\n",
    "x__jardines = 2365 # Promedio muestral\n",
    "s_jardines = 983 # Desviación estándar muestral\n",
    "alpha_jardines = 0.99 # Nivel de confianza"
   ]
  },
  {
   "cell_type": "code",
   "execution_count": 9,
   "metadata": {},
   "outputs": [
    {
     "data": {
      "text/plain": [
       "(1736.1508893202845, 2993.8491106797155)"
      ]
     },
     "execution_count": 9,
     "metadata": {},
     "output_type": "execute_result"
    }
   ],
   "source": [
    "ms.intervals.t(n_jardines, x__jardines, s_jardines, alpha_jardines)"
   ]
  },
  {
   "cell_type": "markdown",
   "metadata": {},
   "source": [
    "**R/** Con un nivel de confianza del *99%* , se podría estimar que el costo promedio para adornar los jardinas de todas las casas del área está entre **1736.1508893202845** y **2993.8491106797155**"
   ]
  },
  {
   "cell_type": "markdown",
   "metadata": {},
   "source": [
    "<hr />\n",
    "<hr />"
   ]
  },
  {
   "cell_type": "markdown",
   "metadata": {},
   "source": [
    "## 4. Intervalos de confianza para la proporción poblacional\n",
    "Si de los 1098 turistas norteamericanos 896 recimiendan su viaje a Irlanda a sus amigos,\n",
    "¿qué porcentaje de todos los turistas norteamericanos harían lo mismo con un nivel del\n",
    "99% de confianza?"
   ]
  },
  {
   "cell_type": "code",
   "execution_count": 10,
   "metadata": {},
   "outputs": [],
   "source": [
    "n_turistas = 1098 # Tamaño de la muestra\n",
    "p_turistas = 895/1098 # Proporción muestral\n",
    "alpha_turistas = 0.99 # Nivel de confianza"
   ]
  },
  {
   "cell_type": "code",
   "execution_count": 11,
   "metadata": {},
   "outputs": [
    {
     "data": {
      "text/plain": [
       "(0.7849416025416293, 0.8452951916295911)"
      ]
     },
     "execution_count": 11,
     "metadata": {},
     "output_type": "execute_result"
    }
   ],
   "source": [
    "ms.intervals.prop(n_turistas, p_turistas, alpha_turistas)"
   ]
  },
  {
   "cell_type": "markdown",
   "metadata": {},
   "source": [
    "**R/** Se puede asegurar con un nivel de confianza del *99%* que la proporción de todos los turistas norteamericanos recomienden su viaje a Irlanda a sus amigos está entre **0.7849416025416293** y **0.8452951916295911**"
   ]
  },
  {
   "cell_type": "markdown",
   "metadata": {},
   "source": [
    "<hr />\n",
    "<hr />"
   ]
  },
  {
   "cell_type": "markdown",
   "metadata": {},
   "source": [
    "## 5. Determinación del tamaño de la muestra para la media poblacional\n",
    "¿Qué tan grande se requiere que sea una muestra para que proporcione una estimación\n",
    "del 90% del número promedio de graduados de las universidades de la nación con un\n",
    "error de 2000 estudiantes si una muestra piloto reporta que s = 8659?"
   ]
  },
  {
   "cell_type": "code",
   "execution_count": 12,
   "metadata": {},
   "outputs": [],
   "source": [
    "alpha_graduados = 0.9 # Nivel de confianza\n",
    "s_graduados = 8659 # Desviación estándar de la muestra piloto\n",
    "error_graduados = 2000 # Error tolerado"
   ]
  },
  {
   "cell_type": "code",
   "execution_count": 13,
   "metadata": {},
   "outputs": [
    {
     "data": {
      "text/plain": [
       "51.0"
      ]
     },
     "execution_count": 13,
     "metadata": {},
     "output_type": "execute_result"
    }
   ],
   "source": [
    "ms.intervals.n_avg(alpha_graduados, s_graduados, error_graduados)"
   ]
  },
  {
   "cell_type": "markdown",
   "metadata": {},
   "source": [
    "**R/** Se requiere tomar una muestra de **51** graduados de las universidades de la nación, para que de esta manera se pueda estimar el número promedio de graduados con un nivel de confianza del *90%* y teniendo en cuenta un error menor a *2000* estudiantes."
   ]
  },
  {
   "cell_type": "markdown",
   "metadata": {},
   "source": [
    "<hr />\n",
    "<hr />"
   ]
  },
  {
   "cell_type": "markdown",
   "metadata": {},
   "source": [
    "## 6. Determinación del tamaño de la muestra para la proporción poblacional\n",
    "La división de créditos de un banco comercial grande desea estimar con un nivel de\n",
    "confianza del 99% la proporción de sus créditos que están en mora. Si el ancho del\n",
    "intervalo es del 7%, ¿Cuántos créditos deben revisarse? ¿cuál es el error tolerable?"
   ]
  },
  {
   "cell_type": "code",
   "execution_count": 43,
   "metadata": {},
   "outputs": [],
   "source": [
    "alpha_creditos = 0.99 # Nivel de confianza\n",
    "p_creditos = 0.5 # Valor esperado para la proporción poblacional\n",
    "error_creditos = 0.07/2 # Error tolerado"
   ]
  },
  {
   "cell_type": "code",
   "execution_count": 44,
   "metadata": {},
   "outputs": [
    {
     "data": {
      "text/plain": [
       "1354.0"
      ]
     },
     "execution_count": 44,
     "metadata": {},
     "output_type": "execute_result"
    }
   ],
   "source": [
    "ms.intervals.n_prop(alpha_creditos, p_creditos, error_creditos)"
   ]
  },
  {
   "cell_type": "markdown",
   "metadata": {},
   "source": [
    "**R/** El error tolerable es del **3.5%**, porque nos dicen que el ancho del intervalo es del 7%, entonces hay un error del 3.5% a cada lado, y con un nivel de confianza del *99%* el número total de créditos que se deberían revisar para estimar la proporción de créditos que están en mora es de **1354** créditos."
   ]
  },
  {
   "cell_type": "markdown",
   "metadata": {},
   "source": [
    "<hr />\n",
    "<hr />"
   ]
  },
  {
   "cell_type": "markdown",
   "metadata": {},
   "source": [
    "## 7. Intervalos de confianza para la proporción poblacional\n",
    "Un investigador de la Administración Federan de Aviación (FAA) fue mencionado en una\n",
    "emisión de febrero de The Washington Post, en la que dijo que de los 112 accidentes de\n",
    "aerolíneas, “73 involucraban algún tipo de problema estructural con la aeronave”. Si tales\n",
    "cifras son representativas, ¿Cuál es el intervalo de confianza para la proporción de\n",
    "accidentes que involucran tal defecto estructural? Sea α = 0.01."
   ]
  },
  {
   "cell_type": "code",
   "execution_count": 16,
   "metadata": {},
   "outputs": [],
   "source": [
    "n_accidentes = 112 # Tamaño de la muestra\n",
    "p_accidentes = 73/112 # Proporción muestral\n",
    "alpha_accidentes = 0.99 # Nivel de confianza"
   ]
  },
  {
   "cell_type": "code",
   "execution_count": 17,
   "metadata": {},
   "outputs": [
    {
     "data": {
      "text/plain": [
       "(0.5358322364439551, 0.7677391921274735)"
      ]
     },
     "execution_count": 17,
     "metadata": {},
     "output_type": "execute_result"
    }
   ],
   "source": [
    "ms.intervals.prop(n_accidentes, p_accidentes, alpha_accidentes)"
   ]
  },
  {
   "cell_type": "markdown",
   "metadata": {},
   "source": [
    "**R/** Con un nivel de confianza del *99%* se puede asegurar que la proporción de accidentes que involucran algún tipo de problema estrutural con la aeronave está entre **0.5358322364439551** y **0.7677391921274735**."
   ]
  },
  {
   "cell_type": "markdown",
   "metadata": {},
   "source": [
    "<hr />\n",
    "<hr />"
   ]
  },
  {
   "cell_type": "markdown",
   "metadata": {},
   "source": [
    "## 8. Intervalos de confianza para la proporción poblacional\n",
    "The Wall Street Journal informó los esfuerzos realizados por Nestlé, la compañía de\n",
    "alimentos más grande del mundo, para introducir un nuevo producto. La gerencia decidió\n",
    "utilizar el sector de Chicago como mercado de prueba. Si más del 30% de la personas\n",
    "expresaban un deseo por el producto, ellos considerarían el comercializarlo en un sector\n",
    "más amplio. De las 820 personas a quienes se les practicó la prueba, 215 expresaron una\n",
    "reacción positiva. ¿Un intervalo de confianza del 90% para la proporción de todos los\n",
    "clientes quienes prefieren el producto hace que la gerencia continúe con sus planes de\n",
    "comercialización?"
   ]
  },
  {
   "cell_type": "code",
   "execution_count": 18,
   "metadata": {},
   "outputs": [],
   "source": [
    "n_clientes = 820 # Tamaño de la muestra\n",
    "p_clientes = 215/820 # Proporción muestral\n",
    "alpha_clientes = 0.9 # Nivel de confianza"
   ]
  },
  {
   "cell_type": "code",
   "execution_count": 19,
   "metadata": {},
   "outputs": [
    {
     "data": {
      "text/plain": [
       "(0.23693104732523565, 0.2874591965772034)"
      ]
     },
     "execution_count": 19,
     "metadata": {},
     "output_type": "execute_result"
    }
   ],
   "source": [
    "ms.intervals.prop(n_clientes, p_clientes, alpha_clientes)"
   ]
  },
  {
   "cell_type": "markdown",
   "metadata": {},
   "source": [
    "**R/** Con un nivel de confianza del *90%* se puede estimar que la proporción de personas que expresan un deseo por el producto de Nestle está entre **0.23693104732523565** y **0.2874591965772034**.\n",
    "\n",
    "Con lo que podemos concluir que Nestle no va a considerar comercializar el producto en un sector más amplio, puesto que no parece que a más del *30%* de las personas les interese el nuevo producto."
   ]
  },
  {
   "cell_type": "markdown",
   "metadata": {},
   "source": [
    "<hr />\n",
    "<hr />"
   ]
  },
  {
   "cell_type": "markdown",
   "metadata": {},
   "source": [
    "## 9. Determinación del tamaño de la muestra para la media poblacional\n",
    "El director de su división le pide, como analista de mercadeo recientemente contratado,\n",
    "que estime las ventas semanales promedio. Le advierte que debe mantener el error\n",
    "dentro de 100 y mantener un nivel de confianza del 90%. ¿Cuántas semanas de datos\n",
    "debe recolectar si la desviación estándar es 750?"
   ]
  },
  {
   "cell_type": "code",
   "execution_count": 20,
   "metadata": {},
   "outputs": [],
   "source": [
    "alpha_ventas = 0.9 # Nivel de confianza\n",
    "s_ventas = 750 # Desviación estándar de la muestra piloto\n",
    "error_ventas = 100 # Error tolerado"
   ]
  },
  {
   "cell_type": "code",
   "execution_count": 21,
   "metadata": {},
   "outputs": [
    {
     "data": {
      "text/plain": [
       "152.0"
      ]
     },
     "execution_count": 21,
     "metadata": {},
     "output_type": "execute_result"
    }
   ],
   "source": [
    "ms.intervals.n_avg(alpha_ventas, s_ventas, error_ventas)"
   ]
  },
  {
   "cell_type": "markdown",
   "metadata": {},
   "source": [
    "**R/** Debemos recolectar **152** semanas de datos para poder estimar con un nivel de confianza del *90%* y un error menor de *100* las ventas semanales promedio de la empresa."
   ]
  },
  {
   "cell_type": "markdown",
   "metadata": {},
   "source": [
    "<hr />\n",
    "<hr />"
   ]
  },
  {
   "cell_type": "markdown",
   "metadata": {},
   "source": [
    "## 10. Determinación del tamaño de la muestra para la proporción poblacional\n",
    "La Asociación de Finanzas Estudiantiles en Faber Collage está planeando una “Feria\n",
    "primaveral” en la cual intentan vender camisetas con su logo. El tesorero desea un\n",
    "estimado de la proporción de estudiantes que comprarán una camiseta. El estimado debe\n",
    "proporcionar un nivel de confianza del 90% y el error no debe exceder del 3%. ¿Qué tan\n",
    "grande debe tomarse la muestra?"
   ]
  },
  {
   "cell_type": "code",
   "execution_count": 22,
   "metadata": {},
   "outputs": [],
   "source": [
    "alpha_camisetas = 0.9 # Nivel de confianza\n",
    "p_camisetas = 0.5 # Proporción muestral\n",
    "error_camisetas = 0.03 # Error tolerado"
   ]
  },
  {
   "cell_type": "code",
   "execution_count": 23,
   "metadata": {},
   "outputs": [
    {
     "data": {
      "text/plain": [
       "752.0"
      ]
     },
     "execution_count": 23,
     "metadata": {},
     "output_type": "execute_result"
    }
   ],
   "source": [
    "ms.intervals.n_prop(alpha_camisetas, p_camisetas, error_camisetas)"
   ]
  },
  {
   "cell_type": "markdown",
   "metadata": {},
   "source": [
    "**R/** La muestra debe ser de un tamaño de **752** estudiantes, para que con un nivel de confianza del *90%* y un error menor de *3%* se pueda estimar la proporción de estudiantes que comprarán la camiseta."
   ]
  },
  {
   "cell_type": "markdown",
   "metadata": {},
   "source": [
    "<hr/>\n",
    "<hr/>"
   ]
  },
  {
   "cell_type": "markdown",
   "metadata": {},
   "source": [
    "## 11. Intervalos de confianza para la diferencia entre 2 medias poblacionales en muestras grandes\n",
    "Transfer Trucking transporta remesas entre Chicago y Kansas City por dos rutas. Una muestra de 100 camiones enviados por la ruta del norte reveló un tiempo promedio de tránsito de XN = 17.2 horas con una desviación estándar de sN = 5.3 horas, mientras que 75 camiones que utilizan la ruta del sur necesitaron un promedio de XS = 19.4 horas con una desviación estándar de ss = 4.5 horas. Delmar, el despachador de Transfer Trucking, desea desarrollar un intervalo d confianza del 95% para la diferencia en el tiempo promedio entre estas dos rutas alternas."
   ]
  },
  {
   "cell_type": "code",
   "execution_count": 24,
   "metadata": {},
   "outputs": [],
   "source": [
    "n_norte = 100 # Tamaño de la muestra 1\n",
    "x__norte = 17.2 # Promedio de la muestra 1\n",
    "s_norte = 5.3 # Desviación estándar de la muestra 1\n",
    "\n",
    "n_sur = 75 # Tamaño de la muestra 2\n",
    "x__sur = 19.4 # Promedio de la muestra 2\n",
    "s_sur = 4.5 # Desviación estándar de la muestra 2\n",
    "\n",
    "alpha_rutas = 0.95 # Nivel de confianza"
   ]
  },
  {
   "cell_type": "code",
   "execution_count": 25,
   "metadata": {},
   "outputs": [
    {
     "data": {
      "text/plain": [
       "(-3.6547369742741784, -0.7452630257258204)"
      ]
     },
     "execution_count": 25,
     "metadata": {},
     "output_type": "execute_result"
    }
   ],
   "source": [
    "ms.intervals.norm_2p(n_norte, n_sur, x__norte, x__sur, s_norte, s_sur, alpha_rutas)"
   ]
  },
  {
   "cell_type": "markdown",
   "metadata": {},
   "source": [
    "**R/** A un nivel de confianza del *95%*, podemos observar que la diferencia entre el tiempo promedio de las 2 rutas está entre **-3.6547369742741784, -0.7452630257258204** horas.\n",
    "\n",
    "Dándonos cuenta así, que la ruta del sur se demora entre **0.7452630257258204 y 3.6547369742741784** horas más que la ruta del norte."
   ]
  },
  {
   "cell_type": "markdown",
   "metadata": {},
   "source": [
    "<hr/>\n",
    "<hr/>"
   ]
  },
  {
   "cell_type": "markdown",
   "metadata": {},
   "source": [
    "## 12. Intervalos de confianza para la diferencia entre 2 medias poblacionales en muestras pequeñas con varianzas poblacionales iguales\n",
    "En la cafetería de los estudiantes, una máquina expendedora de bebidas dispensa bebidas en tazas de papel. Una muestra de 15 tazas da una medida de 15.3 onzas con una varianza de 3.5. Después de ajustar la máquina, una muestra de 10 tazas produce un promedio de 17.1 onzas con una varianza de 3.9. Si se asume que σ^2 es constante antes y después del ajuste, construya un intervalo del 95% para la diferencia entre los contenidos promedio de llenado. Se asume que las cantidades dispensadas están distribuidas normalmente."
   ]
  },
  {
   "cell_type": "code",
   "execution_count": 26,
   "metadata": {},
   "outputs": [],
   "source": [
    "n_caf1 = 15 # Tamaño de la muestra 1\n",
    "x__caf1 = 15.3 # Promedio de la muestra 1\n",
    "s_caf1 = 3.5**0.5 # Desviación estándar de la muestra 1\n",
    "\n",
    "n_caf2 = 10 # Tamaño de la muestra 2\n",
    "x__caf2 = 17.1 # Promedio de la muestra 2\n",
    "s_caf2 = 3.9**0.5 # Desviación estándar de la muestra 2\n",
    "\n",
    "alpha_caf = 0.95 # Nivel de confianza\n",
    "var_caf = True # ¿Varianzas poblacionales iguales?"
   ]
  },
  {
   "cell_type": "code",
   "execution_count": 27,
   "metadata": {},
   "outputs": [
    {
     "data": {
      "text/plain": [
       "(-3.4149053375565295, -0.18509466244347195)"
      ]
     },
     "execution_count": 27,
     "metadata": {},
     "output_type": "execute_result"
    }
   ],
   "source": [
    "ms.intervals.t_2p(n_caf1, n_caf2, x__caf1, x__caf2, s_caf1, s_caf2, alpha_caf, var_caf)"
   ]
  },
  {
   "cell_type": "markdown",
   "metadata": {},
   "source": [
    "**R/** Teniendo en cuenta un nivel de confianza del *95%*, se observa que la diferencia entre el peso promedio de las tazas antes y después del ajuste está entre **-3.4149053375565295, -0.18509466244347195** onzas.\n",
    "\n",
    "Concluyendo entonces, que después del ajuste, las tazas pesan entre **0.18509466244347195 y 3.4149053375565295** onzas más que antes."
   ]
  },
  {
   "cell_type": "markdown",
   "metadata": {},
   "source": [
    "<hr/>\n",
    "<hr/>"
   ]
  },
  {
   "cell_type": "markdown",
   "metadata": {},
   "source": [
    "## 13. Intervalos de confianza para la diferencia entre 2 medias poblacionales en muestras pequeñas con varianzas poblacionales diferentes\n",
    "The Wall Street Journal describió dos programas de entrenamiento utilizados por IBM. Doce ejecutivos a quienes se les dio el primer tipo de entrenamiento obtuvieron un promedio de 73.5 en la prueba de competencia. Aunque el artículo de noticias no reportó la desviación estándar para estos 12 empleados, se asume que la varianza en los puntajes para este grupo fue de 100.2. Quince ejecutivos a quienes se les administró el segundo programa de entrenamiento obtuvieron un promedio de 79.8. Se asume una varianza de 121.3 para este segundo grupo. Hay un intervalo de confianza del 95% para la diferencia en los puntajes promedio para todos los ejecutivos que ingresaron a estos programas."
   ]
  },
  {
   "cell_type": "code",
   "execution_count": 28,
   "metadata": {},
   "outputs": [],
   "source": [
    "n_ibm1 = 12 # Tamaño de la muestra 1\n",
    "x__ibm1 = 73.5 # Promedio de la muestra 1\n",
    "s_ibm1 = 100.2**0.5 # Desviación estándar de la muestra 1\n",
    "\n",
    "n_ibm2 = 15 # Tamaño de la muestra 2\n",
    "x__ibm2 = 79.8 # Promedio de la muestra 2\n",
    "s_ibm2 = 121.3**0.5 # Desviación estándar de la muestra 2\n",
    "\n",
    "alpha_ibm = 0.95 # Nivel de confianza\n",
    "var_ibm = False # ¿Varianzas poblacionales iguales?"
   ]
  },
  {
   "cell_type": "code",
   "execution_count": 29,
   "metadata": {},
   "outputs": [
    {
     "data": {
      "text/plain": [
       "(-14.657768930812255, 2.0577689308122604)"
      ]
     },
     "execution_count": 29,
     "metadata": {},
     "output_type": "execute_result"
    }
   ],
   "source": [
    "ms.intervals.t_2p(n_ibm1, n_ibm2, x__ibm1, x__ibm2, s_ibm1, s_ibm2, alpha_ibm, var_ibm)"
   ]
  },
  {
   "cell_type": "markdown",
   "metadata": {},
   "source": [
    "**R/** Con un nivel de confianza del *95%* se puede asumir que la diferencia entre los puntajes promedio de los ejecutivos que ingresaron en estos programas está entre **-14.657768930812255, 2.0577689308122604** puntos.\n",
    "\n",
    "Entonces, como entre la diferencia está incluído el valor de **cero**, podemos concluir que la efectividad de estos 2 programas pueden ser iguales, ya que no hay suficientes evidencias para demostrar que uno sea mejor que el otro."
   ]
  },
  {
   "cell_type": "markdown",
   "metadata": {},
   "source": [
    "<hr/>\n",
    "<hr/>"
   ]
  },
  {
   "attachments": {
    "image.png": {
     "image/png": "[encoded data removed]"
    }
   },
   "cell_type": "markdown",
   "metadata": {},
   "source": [
    "## 14. Intervalos de confianza para la diferencia entre 2 medias poblacionales en muestras pareadas\n",
    "Se asume que se tienen los puntajes de la prueba de 10 empleados antes y después de habérseles impartido una capacitación laboral adicional. Encuentre el intervalo de confianza para un nivel de confianza del 90%\n",
    "\n",
    "![image.png](attachment:image.png)\n"
   ]
  },
  {
   "cell_type": "code",
   "execution_count": 30,
   "metadata": {},
   "outputs": [],
   "source": [
    "n_prueba = 10 # Tamaño de las muestras\n",
    "cond1_prueba = [9.0, 7.3, 6.7, 5.3, 8.7, 6.3, 7.9, 7.3, 8.0, 7.5] # Condición inicial de la muestra\n",
    "cond2_prueba = [9.2, 8.2, 8.5, 4.9, 8.9, 5.8, 8.2, 7.8, 9.5, 8.0] # Condición final de la muestra\n",
    "alpha_prueba = 0.9 # Nivel de confianza"
   ]
  },
  {
   "cell_type": "code",
   "execution_count": 31,
   "metadata": {},
   "outputs": [
    {
     "data": {
      "text/plain": [
       "(-0.9268525474843166, -0.07314745251568328)"
      ]
     },
     "execution_count": 31,
     "metadata": {},
     "output_type": "execute_result"
    }
   ],
   "source": [
    "ms.intervals.pair_2p(n_prueba, cond1_prueba, cond2_prueba, alpha_prueba)"
   ]
  },
  {
   "cell_type": "markdown",
   "metadata": {},
   "source": [
    "**R/** A un nivel de confianza del *90%*, podemos decir que la diferencia entre los puntajes promedio obtenidos antes de la capacitación y después de la capacitación, está entre **-0.9268525474843166, -0.07314745251568328** puntos.\n",
    "\n",
    "Con lo que podemos concluir que la media de los puntajes después de la capacitación está entre **0.07314745251568328 y 0.9268525474843166** puntos más arriba que antes de la capacitación."
   ]
  },
  {
   "cell_type": "markdown",
   "metadata": {},
   "source": [
    "<hr/>\n",
    "<hr/>"
   ]
  },
  {
   "cell_type": "markdown",
   "metadata": {},
   "source": [
    "## 15. Intervalos de confianza para la diferencia entre 2 proporciones poblacionales\n",
    "Una empresa realiza un estudio para determinar si el ausentismo de los trabajadores en el turno del día es diferente al de los trabajadores de la noche. Se realiza una comparación de 150 trabajadores de cada turno. Los resultados muestran que 37 trabajadores diurnos han estado ausentes por lo menos 5 veces durante el año anterior, mientras que 52 trabajadores nocturnos han faltado por lo menos 5 veces. ¿Qué revelan estos datos sobre la tendencia al ausentismo entre los trabajadores? Calcule un intervalo de confianza del 90% para la diferencia entre las proporciones de trabajadores de los dos turnos que faltaron 5 veces o más."
   ]
  },
  {
   "cell_type": "code",
   "execution_count": 32,
   "metadata": {},
   "outputs": [],
   "source": [
    "n_diu = 150 # Tamaño de la muestra 1\n",
    "p_diu = 37/150 # Proporción de la muestra 1\n",
    "\n",
    "n_noc = 150 # Tamaño de la muestra 2\n",
    "p_noc = 52/150 # Proporción de la muestra 2\n",
    "\n",
    "alpha_turnos = 0.9 # Nivel de confianza"
   ]
  },
  {
   "cell_type": "code",
   "execution_count": 33,
   "metadata": {},
   "outputs": [
    {
     "data": {
      "text/plain": [
       "(-0.18623710058969103, -0.013762899410308976)"
      ]
     },
     "execution_count": 33,
     "metadata": {},
     "output_type": "execute_result"
    }
   ],
   "source": [
    "ms.intervals.prop_2p(n_diu, n_noc, p_diu, p_noc, alpha_turnos)"
   ]
  },
  {
   "cell_type": "markdown",
   "metadata": {},
   "source": [
    "**R/** Con un nivel de confianza del *90%* se puede afirmar que la diferencia entre la proporción de el ausentismo de los trabajadores diurnos y los nocturnos está entre **-0.18623710058969103, -0.013762899410308976**.\n",
    "\n",
    "Por lo que se puede llegar a concluir que el ausentismo de los trabajadores nocturnos es entre **1.3% y 18.62%** mayor que el de los trabajadores diurnos."
   ]
  },
  {
   "cell_type": "markdown",
   "metadata": {},
   "source": [
    "<hr/>\n",
    "<hr/>"
   ]
  },
  {
   "cell_type": "markdown",
   "metadata": {},
   "source": [
    "## 16. Estimación del tamaño de la muestra para la diferencia entre 2 medias poblacionales\n",
    "La comisión de Planeación Económica de Texas pidió a un econmista, que desarrollara un intervalo de confianza del 99% para la diferencia entre la duración promedio del servicio prestado por empleados públicos y el de los trabajadores del sector privado. La comisión desea un ancho de intervalo de 3 años. Las muestras piloto produjeron varianzas de 15 y 21 respectivamente. ¿Qué tan grande deberían tomarse las muestras de cada población?"
   ]
  },
  {
   "cell_type": "code",
   "execution_count": 34,
   "metadata": {},
   "outputs": [],
   "source": [
    "alpha_comision = 0.99 # Nivel de confianza\n",
    "error_comision = 3/2 # Error tolerado\n",
    "s1_comision = 15**0.5 # Desviación estándar de la muestra piloto 1\n",
    "s2_comision = 21**0.5 # Desviación estándar de la muestra piloto 2"
   ]
  },
  {
   "cell_type": "code",
   "execution_count": 35,
   "metadata": {},
   "outputs": [
    {
     "data": {
      "text/plain": [
       "106.0"
      ]
     },
     "execution_count": 35,
     "metadata": {},
     "output_type": "execute_result"
    }
   ],
   "source": [
    "ms.intervals.n_avg_2p(alpha_comision, s1_comision, s2_comision, error_comision)"
   ]
  },
  {
   "cell_type": "markdown",
   "metadata": {},
   "source": [
    "**R/** Para poder estimar la diferencia entre la duración promedio del servicio prestado por empleados públicos y el de los trabajadores del sector privado, con una confianza del *99%* y un ancho de intervalo de error de *3 años*; debemos seleccionar las muestras de un tamaño de **106**."
   ]
  },
  {
   "cell_type": "markdown",
   "metadata": {},
   "source": [
    "<hr/>\n",
    "<hr/>"
   ]
  },
  {
   "cell_type": "markdown",
   "metadata": {},
   "source": [
    "## 17. Estimación del tamaño de la muestra para la diferencia entre 2 proporciones poblacionales\n",
    "Wally Simpleton, el candidato líder en la carrera por la gobernación, desea desarrollar un intervalo de confianza con un ancho de 3 puntos porcentuales y un nivel de confianza del 99% para hallar la diferencia entre la proporción de hombres y de mujeres que están a favor de su candidatura. ¿Qué tan grandes deberían ser las muestras? Una muestra piloto para hombres y mujeres reveló que ph = 0.40 y pm = 0.30."
   ]
  },
  {
   "cell_type": "code",
   "execution_count": 36,
   "metadata": {},
   "outputs": [],
   "source": [
    "error_wally = 0.03/2 # Error tolerado\n",
    "alpha_waly = 0.99 # Nivel de confianza\n",
    "ph_wally = 0.40 # Proporción muestral 1\n",
    "pm_wally = 0.30 # Proporción muestral 2"
   ]
  },
  {
   "cell_type": "code",
   "execution_count": 37,
   "metadata": {},
   "outputs": [
    {
     "data": {
      "text/plain": [
       "13270.0"
      ]
     },
     "execution_count": 37,
     "metadata": {},
     "output_type": "execute_result"
    }
   ],
   "source": [
    "ms.intervals.n_prop_2p(alpha_waly, ph_wally, pm_wally, error_wally)"
   ]
  },
  {
   "cell_type": "markdown",
   "metadata": {},
   "source": [
    "**R/** Se deberían seleccionar muestras de **1327** mujeres y hombres para poder hacer la comparación entre la diferencia de proporciones de hombres y mujeres que están a favor de su candidatura."
   ]
  },
  {
   "cell_type": "markdown",
   "metadata": {},
   "source": [
    "<hr/>\n",
    "<hr/>"
   ]
  },
  {
   "cell_type": "code",
   "execution_count": null,
   "metadata": {},
   "outputs": [],
   "source": []
  }
 ],
 "metadata": {
  "kernelspec": {
   "display_name": "Python 3",
   "language": "python",
   "name": "python3"
  },
  "language_info": {
   "codemirror_mode": {
    "name": "ipython",
    "version": 3
   },
   "file_extension": ".py",
   "mimetype": "text/x-python",
   "name": "python",
   "nbconvert_exporter": "python",
   "pygments_lexer": "ipython3",
   "version": "3.7.0"
  }
 },
 "nbformat": 4,
 "nbformat_minor": 2
}
