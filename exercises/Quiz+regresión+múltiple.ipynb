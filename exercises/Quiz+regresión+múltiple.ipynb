{
 "cells": [
  {
   "cell_type": "markdown",
   "metadata": {},
   "source": [
    "# Quiz regresión y correlación múltiple Estadística Aplicada\n",
    "\n",
    "### Miguel Ángel Vélez - 1152469703"
   ]
  },
  {
   "cell_type": "markdown",
   "metadata": {},
   "source": [
    "***"
   ]
  },
  {
   "cell_type": "code",
   "execution_count": 1,
   "metadata": {
    "collapsed": true
   },
   "outputs": [],
   "source": [
    "#-------Importing from other folder------#\n",
    "\n",
    "import sys\n",
    "sys.path.insert(0, \"../resources/\")\n",
    "\n",
    "import mstats as ms\n",
    "\n",
    "#-----------Miguel's statistics----------#"
   ]
  },
  {
   "cell_type": "code",
   "execution_count": 2,
   "metadata": {
    "collapsed": true
   },
   "outputs": [],
   "source": [
    "import scipy.stats as ss\n",
    "import numpy as np"
   ]
  },
  {
   "cell_type": "markdown",
   "metadata": {},
   "source": [
    "Un equipo de estudiantes\n",
    "\n",
    "![image.png](../resources/images/Capture1.png)\n"
   ]
  },
  {
   "cell_type": "markdown",
   "metadata": {},
   "source": [
    "***\n",
    "**a) Determine cuál es la variable dependiente y cuales las independientes.**"
   ]
  },
  {
   "cell_type": "code",
   "execution_count": 3,
   "metadata": {
    "collapsed": true
   },
   "outputs": [],
   "source": [
    "precio = [400, 220, 250, 310, 420, 350, 510, 450, 500, 550, 450, 320] # Variable dependiente\n",
    "M = [1290, 900, 1100, 1250, 1300, 1275, 1500, 1370, 1400, 1550, 1200, 1275] # Variable independiente 1\n",
    "V = [1.5, 3.2, 2.2, 1.0, 0.5, 1.5, 0.5, 0.5, 0.5, 0.3, 0.5, 1.5] # Variable independiente 2"
   ]
  },
  {
   "cell_type": "markdown",
   "metadata": {},
   "source": [
    "El precio es la variable dependiente, pues el precio de los computadores depende de la memoria y la velocidad que posee el equipo."
   ]
  },
  {
   "cell_type": "markdown",
   "metadata": {},
   "source": [
    "***\n",
    "**b) Calcule el modelo de regresión. ¿Es significante al nivel del 1%?**"
   ]
  },
  {
   "cell_type": "markdown",
   "metadata": {},
   "source": [
    "![image.png](../resources/images/Capture2.png)"
   ]
  },
  {
   "cell_type": "code",
   "execution_count": 20,
   "metadata": {},
   "outputs": [
    {
     "data": {
      "text/plain": [
       "'ÿ = 88.79 + 0.29X1 + -57.15X2'"
      ]
     },
     "execution_count": 20,
     "metadata": {},
     "output_type": "execute_result"
    }
   ],
   "source": [
    "model_computadores = ms.multiregr.regression(precio, M, V)\n",
    "model_computadores.shape"
   ]
  },
  {
   "cell_type": "markdown",
   "metadata": {},
   "source": [
    "$\\hat Y = 88.79 + 0.29X_1 - 57.15X_2$"
   ]
  },
  {
   "cell_type": "markdown",
   "metadata": {},
   "source": [
    "* **Nivel de significancia**"
   ]
  },
  {
   "cell_type": "code",
   "execution_count": 10,
   "metadata": {
    "collapsed": true
   },
   "outputs": [],
   "source": [
    "sign_computadores = 0.01 # Nivel de significancia"
   ]
  },
  {
   "cell_type": "markdown",
   "metadata": {},
   "source": [
    "* **Plantear las hipótesis**"
   ]
  },
  {
   "cell_type": "markdown",
   "metadata": {},
   "source": [
    "$H_0: β_1 = β_2 = ... = β_k = 0$\n",
    "\n",
    "$H_A:$ *Al menos un $β$ no es cero*"
   ]
  },
  {
   "cell_type": "markdown",
   "metadata": {},
   "source": [
    "* **Tabla ANOVA generalizada**"
   ]
  },
  {
   "cell_type": "markdown",
   "metadata": {},
   "source": [
    "![image.png](../resources/images/Capture3.png)"
   ]
  },
  {
   "cell_type": "markdown",
   "metadata": {},
   "source": [
    "* **Valores críticos**"
   ]
  },
  {
   "cell_type": "code",
   "execution_count": 12,
   "metadata": {
    "collapsed": true
   },
   "outputs": [],
   "source": [
    "df1_computadores = 2 # Grados de libertad 1\n",
    "df2_computadores = 9 # Grados de libertad 2"
   ]
  },
  {
   "cell_type": "code",
   "execution_count": 15,
   "metadata": {},
   "outputs": [
    {
     "data": {
      "text/plain": [
       "8.021517309932058"
      ]
     },
     "execution_count": 15,
     "metadata": {},
     "output_type": "execute_result"
    }
   ],
   "source": [
    "crit_computadores = ms.hypothesis.crit_val_f(df1_computadores, df2_computadores, sign_computadores)\n",
    "crit_computadores"
   ]
  },
  {
   "cell_type": "markdown",
   "metadata": {},
   "source": [
    "* **Estadístico de prueba (F)**"
   ]
  },
  {
   "cell_type": "code",
   "execution_count": 18,
   "metadata": {},
   "outputs": [
    {
     "data": {
      "text/plain": [
       "24.25935544544668"
      ]
     },
     "execution_count": 18,
     "metadata": {},
     "output_type": "execute_result"
    }
   ],
   "source": [
    "f_computadores = ms.multiregr.get_fratio(precio, M, V)\n",
    "f_computadores"
   ]
  },
  {
   "cell_type": "code",
   "execution_count": 19,
   "metadata": {},
   "outputs": [
    {
     "data": {
      "image/png": "[encoded data removed]",
      "text/plain": [
       "<matplotlib.figure.Figure at 0x1fb0e1d3208>"
      ]
     },
     "metadata": {},
     "output_type": "display_data"
    },
    {
     "data": {
      "text/plain": [
       "True"
      ]
     },
     "execution_count": 19,
     "metadata": {},
     "output_type": "execute_result"
    }
   ],
   "source": [
    "distr_computadores = ss.f(df1_computadores, df2_computadores)\n",
    "ms.graph.hypothesis(distr_computadores, f_computadores, sign_computadores, 'right')\n",
    "ms.hypothesis.reject_h0(crit_computadores, f_computadores, 'right')"
   ]
  },
  {
   "cell_type": "markdown",
   "metadata": {},
   "source": [
    "**SI se rechaza la hipótesis nula** Debido a que el estadístico de prueba F *24.25935544544668* es **mayor** que el valor crítico que encontramos *8.021517309932058*.\n",
    "\n",
    "Se puede concluir entonces, que al nivel del 1% que existe una relación lineal entre el **Precio** y por lo menos UNA de las variables independientes."
   ]
  },
  {
   "cell_type": "markdown",
   "metadata": {},
   "source": [
    "***\n",
    "**c) ¿Qué precio pronosticaría el modelo si el equipo tiene 1290 de memoeria y 1.5 de velocidad?**"
   ]
  },
  {
   "cell_type": "code",
   "execution_count": 21,
   "metadata": {},
   "outputs": [
    {
     "data": {
      "text/plain": [
       "375.3702230320183"
      ]
     },
     "execution_count": 21,
     "metadata": {},
     "output_type": "execute_result"
    }
   ],
   "source": [
    "model_computadores(1290, 1.5)"
   ]
  },
  {
   "cell_type": "markdown",
   "metadata": {},
   "source": [
    "Se podría estimar según nuestro modelo, que si el equipo tiene 1290 de memoria y 1.5 de velocidad, podría costar **$ 375.37**."
   ]
  },
  {
   "cell_type": "markdown",
   "metadata": {},
   "source": [
    "***\n",
    "**d) ¿Cuál es el error estándar de estimación para los datos analizados?**"
   ]
  },
  {
   "cell_type": "markdown",
   "metadata": {},
   "source": [
    "![image.png](../resources/images/Capture6.png)"
   ]
  },
  {
   "cell_type": "code",
   "execution_count": 23,
   "metadata": {},
   "outputs": [
    {
     "data": {
      "text/plain": [
       "45.95879918833371"
      ]
     },
     "execution_count": 23,
     "metadata": {},
     "output_type": "execute_result"
    }
   ],
   "source": [
    "ms.multiregr.get_se(precio, M, V)"
   ]
  },
  {
   "cell_type": "markdown",
   "metadata": {},
   "source": [
    "El error estándar de estimación es $S_e = 45.95879918833371$"
   ]
  },
  {
   "cell_type": "markdown",
   "metadata": {},
   "source": [
    "***\n",
    "**e) Calcule el coeficiente de determinación múltiple y el coeficiente de determinación corregido.**"
   ]
  },
  {
   "cell_type": "code",
   "execution_count": 24,
   "metadata": {},
   "outputs": [
    {
     "data": {
      "text/plain": [
       "0.84352917753889534"
      ]
     },
     "execution_count": 24,
     "metadata": {},
     "output_type": "execute_result"
    }
   ],
   "source": [
    "ms.multiregr.get_r2(precio, M, V)"
   ]
  },
  {
   "cell_type": "code",
   "execution_count": 25,
   "metadata": {},
   "outputs": [
    {
     "data": {
      "text/plain": [
       "0.80875788365864987"
      ]
     },
     "execution_count": 25,
     "metadata": {},
     "output_type": "execute_result"
    }
   ],
   "source": [
    "ms.multiregr.get_r2_(precio, M, V)"
   ]
  },
  {
   "cell_type": "markdown",
   "metadata": {},
   "source": [
    "El coeficiente de determinación múltiple es $R^2 = 0.84352917753889534$.\n",
    "\n",
    "Y el coeficiente de determinación corregido es $\\bar{R}^2 = 0.80875788365864987$"
   ]
  },
  {
   "cell_type": "markdown",
   "metadata": {},
   "source": [
    "***\n",
    "**f) Evalúe la significancia de ambos coeficientes? Pruebe la hipótesis a un nivel de significancia del 1%.**"
   ]
  },
  {
   "cell_type": "markdown",
   "metadata": {},
   "source": [
    "***\n",
    "## Memoria"
   ]
  },
  {
   "cell_type": "markdown",
   "metadata": {},
   "source": [
    "* **Nivel de significancia**"
   ]
  },
  {
   "cell_type": "code",
   "execution_count": 35,
   "metadata": {
    "collapsed": true
   },
   "outputs": [],
   "source": [
    "sign_memoria = 0.01 # Nivel de significancia"
   ]
  },
  {
   "cell_type": "markdown",
   "metadata": {},
   "source": [
    "* **Plantear hipótesis**"
   ]
  },
  {
   "cell_type": "markdown",
   "metadata": {},
   "source": [
    "$H_0: β_1 = 0$ \n",
    "\n",
    "$H_A: β_1 ≠ 0$ "
   ]
  },
  {
   "cell_type": "markdown",
   "metadata": {},
   "source": [
    "* **Valores críticos**"
   ]
  },
  {
   "cell_type": "code",
   "execution_count": 33,
   "metadata": {
    "collapsed": true
   },
   "outputs": [],
   "source": [
    "n_computadores = len(precio) # Número de observaciones\n",
    "k_computadores = 2 # Número de variables independientes \n",
    "\n",
    "df_memoria = n_computadores - k_computadores - 1 # Grados de libertad"
   ]
  },
  {
   "cell_type": "code",
   "execution_count": 36,
   "metadata": {},
   "outputs": [
    {
     "data": {
      "text/plain": [
       "(-3.2498355440153697, 3.2498355440153697)"
      ]
     },
     "execution_count": 36,
     "metadata": {},
     "output_type": "execute_result"
    }
   ],
   "source": [
    "crit_memoria = ms.hypothesis.crit_val_t(df_memoria, sign_memoria, 'two')\n",
    "crit_memoria"
   ]
  },
  {
   "cell_type": "markdown",
   "metadata": {},
   "source": [
    "* **Estadístico de prueba (T)**"
   ]
  },
  {
   "cell_type": "markdown",
   "metadata": {},
   "source": [
    "![image.png](../resources/images/Capture4.png)"
   ]
  },
  {
   "cell_type": "code",
   "execution_count": 61,
   "metadata": {},
   "outputs": [
    {
     "data": {
      "text/plain": [
       "1.8660317868863008"
      ]
     },
     "execution_count": 61,
     "metadata": {},
     "output_type": "execute_result"
    }
   ],
   "source": [
    "b_1 = 0.29\n",
    "beta_1 = 0\n",
    "s_b_1 = 0.15541\n",
    "\n",
    "t_memoria = (b_1 - beta_1) / s_b_1\n",
    "t_memoria"
   ]
  },
  {
   "cell_type": "code",
   "execution_count": 62,
   "metadata": {},
   "outputs": [
    {
     "data": {
      "image/png": "[encoded data removed]",
      "text/plain": [
       "<matplotlib.figure.Figure at 0x1fb0f531fd0>"
      ]
     },
     "metadata": {},
     "output_type": "display_data"
    },
    {
     "data": {
      "text/plain": [
       "False"
      ]
     },
     "execution_count": 62,
     "metadata": {},
     "output_type": "execute_result"
    }
   ],
   "source": [
    "distr_memoria = ss.t(df_memoria)\n",
    "ms.graph.hypothesis(distr_memoria, t_memoria, sign_memoria, 'two')\n",
    "ms.hypothesis.reject_h0(crit_memoria, t_memoria, 'two')"
   ]
  },
  {
   "cell_type": "markdown",
   "metadata": {},
   "source": [
    "**NO se rechaza la hipótesis nula** Dado que el estadístico de prueba *1.8660317868863008* no es **mayor ni menor** a los valores críticos calculados *(-3.2498355440153697, 3.2498355440153697)*. Por lo que cae en la zona de NO RECHAZO."
   ]
  },
  {
   "cell_type": "markdown",
   "metadata": {},
   "source": [
    "Entonces, podemos deducir que esta variable independiente de **memoria** del equipo, no contribuye al valor explicativo del modelo."
   ]
  },
  {
   "cell_type": "markdown",
   "metadata": {},
   "source": [
    "***"
   ]
  },
  {
   "cell_type": "markdown",
   "metadata": {},
   "source": [
    "## Velocidad"
   ]
  },
  {
   "cell_type": "markdown",
   "metadata": {},
   "source": [
    "* **Nivel de significancia**"
   ]
  },
  {
   "cell_type": "code",
   "execution_count": 46,
   "metadata": {
    "collapsed": true
   },
   "outputs": [],
   "source": [
    "sign_velocidad = 0.01 # Nivel de significancia"
   ]
  },
  {
   "cell_type": "markdown",
   "metadata": {},
   "source": [
    "* **Plantear hipótesis**"
   ]
  },
  {
   "cell_type": "markdown",
   "metadata": {},
   "source": [
    "$H_0: β_1 = 0$ \n",
    "\n",
    "$H_A: β_1 ≠ 0$ "
   ]
  },
  {
   "cell_type": "markdown",
   "metadata": {},
   "source": [
    "* **Valores críticos**"
   ]
  },
  {
   "cell_type": "code",
   "execution_count": 47,
   "metadata": {
    "collapsed": true
   },
   "outputs": [],
   "source": [
    "n_computadores = len(precio) # Número de observaciones\n",
    "k_computadores = 2 # Número de variables independientes \n",
    "\n",
    "df_velocidad = n_computadores - k_computadores - 1 # Grados de libertad"
   ]
  },
  {
   "cell_type": "code",
   "execution_count": 48,
   "metadata": {},
   "outputs": [
    {
     "data": {
      "text/plain": [
       "(-3.2498355440153697, 3.2498355440153697)"
      ]
     },
     "execution_count": 48,
     "metadata": {},
     "output_type": "execute_result"
    }
   ],
   "source": [
    "crit_velocidad = ms.hypothesis.crit_val_t(df_velocidad, sign_velocidad, 'two')\n",
    "crit_velocidad"
   ]
  },
  {
   "cell_type": "markdown",
   "metadata": {},
   "source": [
    "* **Estadístico de prueba (T)**"
   ]
  },
  {
   "cell_type": "markdown",
   "metadata": {},
   "source": [
    "![image.png](../resources/images/Capture5.png)"
   ]
  },
  {
   "cell_type": "code",
   "execution_count": 57,
   "metadata": {},
   "outputs": [
    {
     "data": {
      "text/plain": [
       "-1.8745264483709823"
      ]
     },
     "execution_count": 57,
     "metadata": {},
     "output_type": "execute_result"
    }
   ],
   "source": [
    "b_2 = -57.15\n",
    "beta_2 = 0\n",
    "s_b_2 = 30.4877\n",
    "\n",
    "t_velocidad = (b_2 - beta_2) / s_b_2\n",
    "t_velocidad"
   ]
  },
  {
   "cell_type": "code",
   "execution_count": 58,
   "metadata": {},
   "outputs": [
    {
     "data": {
      "image/png": "[encoded data removed]",
      "text/plain": [
       "<matplotlib.figure.Figure at 0x1fb0e474a58>"
      ]
     },
     "metadata": {},
     "output_type": "display_data"
    },
    {
     "data": {
      "text/plain": [
       "False"
      ]
     },
     "execution_count": 58,
     "metadata": {},
     "output_type": "execute_result"
    }
   ],
   "source": [
    "distr_velocidad = ss.t(df_velocidad)\n",
    "ms.graph.hypothesis(distr_velocidad, t_velocidad, sign_velocidad, 'two')\n",
    "ms.hypothesis.reject_h0(crit_velocidad, t_velocidad, 'two')"
   ]
  },
  {
   "cell_type": "markdown",
   "metadata": {},
   "source": [
    "**NO se rechaza la hipótesis nula** Dado que el estadístico de prueba *-1.8745264483709823* no es **mayor/menor** a los valores críticos calculados *(-3.2498355440153697, 3.2498355440153697)*. Por lo que cae en la zona de NO RECHAZO."
   ]
  },
  {
   "cell_type": "markdown",
   "metadata": {},
   "source": [
    "Entonces, podemos deducir que esta variable independiente de **VELOCIDAD** del equipo, no contribuye al valor explicativo del modelo."
   ]
  },
  {
   "cell_type": "code",
   "execution_count": null,
   "metadata": {
    "collapsed": true
   },
   "outputs": [],
   "source": []
  }
 ],
 "metadata": {
  "kernelspec": {
   "display_name": "Python 3",
   "language": "python",
   "name": "python3"
  },
  "language_info": {
   "codemirror_mode": {
    "name": "ipython",
    "version": 3
   },
   "file_extension": ".py",
   "mimetype": "text/x-python",
   "name": "python",
   "nbconvert_exporter": "python",
   "pygments_lexer": "ipython3",
   "version": "3.7.0"
  }
 },
 "nbformat": 4,
 "nbformat_minor": 2
}
