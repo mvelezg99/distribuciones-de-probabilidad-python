{
 "cells": [
  {
   "cell_type": "markdown",
   "metadata": {},
   "source": [
    "**<p style=\"font-size: 35px; text-align: center\">Probability Distributions</p>**\n",
    "\n",
    "\n",
    "\n",
    "***<center>Miguel Ángel Vélez Guerra</center>***\n",
    "\n",
    "<hr/>\n",
    "\n",
    "![Distribuciones](https://4.bp.blogspot.com/-ImwjGBnN9Yg/VuYgbbaNBJI/AAAAAAAAA_o/rdXnY7x6I8svIEsXRcm51-jrj_Lopdb-w/s1600/E2-U3.png)\n"
   ]
  },
  {
   "cell_type": "markdown",
   "metadata": {},
   "source": [
    "<hr/>\n",
    "<hr/>"
   ]
  },
  {
   "cell_type": "markdown",
   "metadata": {},
   "source": [
    "**<p id=\"tocheading\">Tabla de contenido</p>**\n",
    "<br/>\n",
    "<div id=\"toc\"></div>\n"
   ]
  },
  {
   "cell_type": "code",
   "execution_count": 69,
   "metadata": {},
   "outputs": [
    {
     "data": {
      "application/javascript": [
       "// Script to generate table of contents\n",
       "$.getScript('../resources/table_of_contents.js')"
      ],
      "text/plain": [
       "<IPython.core.display.Javascript object>"
      ]
     },
     "metadata": {},
     "output_type": "display_data"
    }
   ],
   "source": [
    "%%javascript\n",
    "// Script to generate table of contents\n",
    "$.getScript('../resources/table_of_contents.js')"
   ]
  },
  {
   "cell_type": "markdown",
   "metadata": {},
   "source": [
    "<hr/>\n",
    "<hr/>"
   ]
  },
  {
   "cell_type": "markdown",
   "metadata": {},
   "source": [
    "## Imports"
   ]
  },
  {
   "cell_type": "code",
   "execution_count": 1,
   "metadata": {},
   "outputs": [],
   "source": [
    "#-------Importing from other folder------#\n",
    "\n",
    "import sys\n",
    "sys.path.insert(0, \"../resources/\")\n",
    "\n",
    "import mstats as ms\n",
    "\n",
    "#-----------Miguel's statistics----------#"
   ]
  },
  {
   "cell_type": "code",
   "execution_count": 2,
   "metadata": {},
   "outputs": [],
   "source": [
    "import scipy.stats as ss\n",
    "import numpy as np"
   ]
  },
  {
   "cell_type": "markdown",
   "metadata": {},
   "source": [
    "<hr/>\n",
    "<hr/>"
   ]
  },
  {
   "cell_type": "markdown",
   "metadata": {},
   "source": [
    "## 1. Distribución binomial\n",
    "De acuerdo con el periódico de educación superior (Journal of\n",
    "Higher Educatión), el 40% de todos los bachilleres trabajan durante el verano\n",
    "para ganar dinero para pagar la educación universitaria. Si 7 estudiantes se\n",
    "seleccionan de forma aleatoria, ¿Cuál es la probabilidad de que 1) 5 tengan\n",
    "trabajos en verano, 2) ninguno trabaje, 3) todos trabajen?, 4) ¿Cuál es la probabilidad de que 3 o menos\n",
    "estudiantes trabajen? 5) ¿Cuál es la probabilidad de que 5 o más\n",
    "estudiantes trabajen?"
   ]
  },
  {
   "cell_type": "code",
   "execution_count": 3,
   "metadata": {},
   "outputs": [],
   "source": [
    "n_bachilleres = 7 # Tamaño de la muestra\n",
    "pi_bachilleres = 0.4 # Probabilidad de éxito"
   ]
  },
  {
   "cell_type": "markdown",
   "metadata": {},
   "source": [
    "**1) Probabilidad de que exactamente 5 tengan trabajos en verano (x = 5)**"
   ]
  },
  {
   "cell_type": "code",
   "execution_count": 4,
   "metadata": {},
   "outputs": [],
   "source": [
    "x_bachilleres = 5 # Valor a determinar la probabilidad"
   ]
  },
  {
   "cell_type": "code",
   "execution_count": 5,
   "metadata": {},
   "outputs": [
    {
     "data": {
      "text/plain": [
       "0.07741440000000008"
      ]
     },
     "execution_count": 5,
     "metadata": {},
     "output_type": "execute_result"
    }
   ],
   "source": [
    "ms.distributions.binom_pmf(n_bachilleres, pi_bachilleres, x_bachilleres)"
   ]
  },
  {
   "cell_type": "markdown",
   "metadata": {},
   "source": [
    "La probabilidad de que **exactamente** 5 estudiantes tengan trabajo en verano es de **0.07741440000000008**"
   ]
  },
  {
   "cell_type": "markdown",
   "metadata": {},
   "source": [
    "**2) Probabilidad de que ningún estudiante tenga trabajos en verano (x = 0)**"
   ]
  },
  {
   "cell_type": "code",
   "execution_count": 6,
   "metadata": {},
   "outputs": [],
   "source": [
    "x_bachilleres = 0"
   ]
  },
  {
   "cell_type": "code",
   "execution_count": 7,
   "metadata": {},
   "outputs": [
    {
     "data": {
      "text/plain": [
       "0.027993599999999987"
      ]
     },
     "execution_count": 7,
     "metadata": {},
     "output_type": "execute_result"
    }
   ],
   "source": [
    "ms.distributions.binom_pmf(n_bachilleres, pi_bachilleres, x_bachilleres)"
   ]
  },
  {
   "cell_type": "markdown",
   "metadata": {},
   "source": [
    "La probabilidad de que ningún estudiante tenga trabajo en verano es de **0.027993599999999987**"
   ]
  },
  {
   "cell_type": "markdown",
   "metadata": {},
   "source": [
    "**3) Probabilidad de que todos los estudiantes seleccionados tengan trabajos en verano (x = 7)**"
   ]
  },
  {
   "cell_type": "code",
   "execution_count": 8,
   "metadata": {},
   "outputs": [],
   "source": [
    "x_bachilleres = 7"
   ]
  },
  {
   "cell_type": "code",
   "execution_count": 9,
   "metadata": {},
   "outputs": [
    {
     "data": {
      "text/plain": [
       "0.001638400000000001"
      ]
     },
     "execution_count": 9,
     "metadata": {},
     "output_type": "execute_result"
    }
   ],
   "source": [
    "ms.distributions.binom_pmf(n_bachilleres, pi_bachilleres, x_bachilleres)"
   ]
  },
  {
   "cell_type": "markdown",
   "metadata": {},
   "source": [
    "La probabilidad de que todos los estudiantes tengan trabajo en verano es de **0.001638400000000001**"
   ]
  },
  {
   "cell_type": "markdown",
   "metadata": {},
   "source": [
    "**4) ¿Cuál es la probabilidad de que 3 o menos estudiantes trabajen? (x <= 3)**"
   ]
  },
  {
   "cell_type": "code",
   "execution_count": 10,
   "metadata": {},
   "outputs": [],
   "source": [
    "x_bachilleres = 3"
   ]
  },
  {
   "cell_type": "code",
   "execution_count": 11,
   "metadata": {},
   "outputs": [
    {
     "data": {
      "text/plain": [
       "0.710208"
      ]
     },
     "execution_count": 11,
     "metadata": {},
     "output_type": "execute_result"
    }
   ],
   "source": [
    "ms.distributions.binom_cdf(n_bachilleres, pi_bachilleres, x_bachilleres)"
   ]
  },
  {
   "cell_type": "markdown",
   "metadata": {},
   "source": [
    "La probabilidad de que 3 o menos estudiantes trabajen es de **0.710208**"
   ]
  },
  {
   "cell_type": "markdown",
   "metadata": {},
   "source": [
    "**5) ¿Cuál es la probabilidad de que 5 o más estudiantes trabajen? (x >= 5)**"
   ]
  },
  {
   "cell_type": "code",
   "execution_count": 12,
   "metadata": {},
   "outputs": [],
   "source": [
    "x_bachilleres = 5"
   ]
  },
  {
   "cell_type": "code",
   "execution_count": 13,
   "metadata": {},
   "outputs": [
    {
     "data": {
      "text/plain": [
       "0.018841600000000014"
      ]
     },
     "execution_count": 13,
     "metadata": {},
     "output_type": "execute_result"
    }
   ],
   "source": [
    "1 - ms.distributions.binom_cdf(n_bachilleres, pi_bachilleres, x_bachilleres)"
   ]
  },
  {
   "cell_type": "markdown",
   "metadata": {},
   "source": [
    "La probabilidad de que 5 o más estudiantes trabajen es de **0.018841600000000014**"
   ]
  },
  {
   "cell_type": "markdown",
   "metadata": {},
   "source": [
    "## 2. Distribución hipergeométrica\n",
    "Supongamos que en un establo de carreras hay N = 10 caballos y r = 4 de ellos\n",
    "tienen una enfermedad contagiosa. ¿Cuál es la probabilidad de seleccionar\n",
    "una muestra de n = 3 caballos, en la cual x = 2 caballos estén enfermos?"
   ]
  },
  {
   "cell_type": "code",
   "execution_count": 14,
   "metadata": {},
   "outputs": [],
   "source": [
    "N_caballos = 10 # Tamaño de la población\n",
    "r_caballos = 4 # Número de casos especiales en la población\n",
    "n_caballos = 3 # Tamaño de la muestra"
   ]
  },
  {
   "cell_type": "markdown",
   "metadata": {},
   "source": [
    "**1) ¿Cuál es la probabilidad de seleccionar una muestra de n = 3 caballos, en la cual x = 2 caballos estén enfermos?**"
   ]
  },
  {
   "cell_type": "code",
   "execution_count": 15,
   "metadata": {},
   "outputs": [],
   "source": [
    "x_caballos = 2 # Número de casos especiales en la muestra"
   ]
  },
  {
   "cell_type": "code",
   "execution_count": 16,
   "metadata": {},
   "outputs": [
    {
     "data": {
      "text/plain": [
       "0.30000000000000016"
      ]
     },
     "execution_count": 16,
     "metadata": {},
     "output_type": "execute_result"
    }
   ],
   "source": [
    "ms.distributions.hypergeom_pmf(N_caballos, r_caballos, n_caballos, x_caballos)"
   ]
  },
  {
   "cell_type": "markdown",
   "metadata": {},
   "source": [
    "La probabilidad de que 2 caballos estén enfermos es de **0.30000000000000016**"
   ]
  },
  {
   "cell_type": "markdown",
   "metadata": {},
   "source": [
    "<hr/>\n",
    "<hr/>"
   ]
  },
  {
   "cell_type": "markdown",
   "metadata": {},
   "source": [
    "## 3. Distribución hipergeométrica\n",
    "En un caso reciente en el distrito de Jhonson en Kansas City, tres\n",
    "mujeres entablaron una demanda contra una empresa de servicios locales,\n",
    "por discriminación de sexos. De las 9 personas que eran elegibles para un\n",
    "ascenso, cuatro eran mujeres. Tres de las nueve personas recibieron en\n",
    "realidad el ascenso; pero solo una de ellas era mujer. Las otras tres mujeres\n",
    "elegibles demandaron. Una consideración importante en el caso, unida con la\n",
    "probabilidad de que de las tres personas que recibieron ascenso sólo una\n",
    "mujer fuera seleccionada por casualidad. Es decir, si el género no era un\n",
    "factor, ¿Cuál es la probabilidad de que no más que uno de los tres ascensos\n",
    "fuera asignado a una mujer?"
   ]
  },
  {
   "cell_type": "code",
   "execution_count": 17,
   "metadata": {},
   "outputs": [],
   "source": [
    "N_discriminacion = 9 # Tamaño de la población\n",
    "r_discriminacion = 4 # Número de casos especiales en la población\n",
    "n_discriminacion = 3 # Tamaño de la muestra"
   ]
  },
  {
   "cell_type": "markdown",
   "metadata": {},
   "source": [
    "**¿Cuál es la probabilidad de que no más que uno de los tres ascensos fuera asignado a una mujer? (x <= 1)**"
   ]
  },
  {
   "cell_type": "code",
   "execution_count": 18,
   "metadata": {},
   "outputs": [],
   "source": [
    "x_discriminacion = 1 # Número de casos especiales en la muestra"
   ]
  },
  {
   "cell_type": "code",
   "execution_count": 19,
   "metadata": {},
   "outputs": [
    {
     "data": {
      "text/plain": [
       "0.5952380952380948"
      ]
     },
     "execution_count": 19,
     "metadata": {},
     "output_type": "execute_result"
    }
   ],
   "source": [
    "ms.distributions.hypergeom_cdf(N_discriminacion, r_discriminacion, n_discriminacion, x_discriminacion)"
   ]
  },
  {
   "cell_type": "markdown",
   "metadata": {},
   "source": [
    "La probabilidad de que no más que uno de los tres ascensos fuera asignado a una mujer es del **0.5952380952380948**. \n",
    "\n",
    "Por lo que se puede concluir que no hay discriminación de genero, pues hay mayores posibilidades de que se ascienda a una mujer que a un hombre."
   ]
  },
  {
   "cell_type": "markdown",
   "metadata": {},
   "source": [
    "<hr/>\n",
    "<hr/>"
   ]
  },
  {
   "cell_type": "markdown",
   "metadata": {},
   "source": [
    "## 4. Distribución Poisson\n",
    "Supongamos que se está interesado en la probabilidad de que exactamente 5\n",
    "clientes lleguen durante la siguiente hora (o en cualquier hora dada) laboral.\n",
    "La observación simple de las últimas 80 horas ha demostrado que 800\n",
    "clientes han entrado al negocio. Por tanto, μ = 10 por hora."
   ]
  },
  {
   "cell_type": "code",
   "execution_count": 20,
   "metadata": {},
   "outputs": [],
   "source": [
    "mu_clientes = 800/80 # Número promedio de ocurrencias de un evento"
   ]
  },
  {
   "cell_type": "markdown",
   "metadata": {},
   "source": [
    "**La probabilidad de que exactamente 5 clientes lleguen durante la siguiente hora (o en cualquier hora dada) laboral (x = 5)**"
   ]
  },
  {
   "cell_type": "code",
   "execution_count": 21,
   "metadata": {},
   "outputs": [],
   "source": [
    "x_clientes = 5 # Número de veces que ocurre el evento"
   ]
  },
  {
   "cell_type": "code",
   "execution_count": 22,
   "metadata": {},
   "outputs": [
    {
     "data": {
      "text/plain": [
       "0.03783327480207079"
      ]
     },
     "execution_count": 22,
     "metadata": {},
     "output_type": "execute_result"
    }
   ],
   "source": [
    "ms.distributions.poisson_pmf(mu_clientes, x_clientes)"
   ]
  },
  {
   "cell_type": "markdown",
   "metadata": {},
   "source": [
    "La probabilidad de que exactamente 5 clientes lleguen en un intervalo de tiempo de 1 hora es de **0.03783327480207079**"
   ]
  },
  {
   "cell_type": "markdown",
   "metadata": {},
   "source": [
    "<hr/>\n",
    "<hr/>"
   ]
  },
  {
   "cell_type": "markdown",
   "metadata": {},
   "source": [
    "## 5. Distribución Poisson\n",
    "El profesor Bradley anima a sus estudiantes de estadística a “actuar de forma\n",
    "prudente” consultando al tutor si tienen alguna pregunta mientras se preparan para\n",
    "el examen final. Parece que la llegada de los estudiantes a la oficina del tutor se\n",
    "ajusta a una distribución de Poisson, con un promedio de 5.2 estudiantes cada 20\n",
    "minutos. El profesor Bradley está preocupado porque si muchos estudiantes\n",
    "necesitan los servicios del tutor, puede resultar un problema de congestión.\n",
    "\n",
    "a. El tutor debe determinar la probabilidad de que cuatro estudiantes lleguen\n",
    "durante cualquier intervalo de 20 minutos, lo cual podría causar el problema de \n",
    "Uso de Probabilidades para el Análisis y la Gestión\n",
    "congestión que teme el profesor Bradley. Si la probabilidad excede el 20%, se\n",
    "contratará un segundo tutor.\n",
    "\n",
    "b. El tutor debe calcular la probabilidad de que más de cuatro estudiantes lleguen\n",
    "durante algún período de 20 minutos. Si es mayor que el 50%, las horas de\n",
    "oficina del tutor se aumentarán, permitiendo a los estudiantes extender el\n",
    "horario en las que vienen a ver al tutor.\n",
    "\n",
    "c. Si la probabilidad de que más de siete estudiantes lleguen durante un período\n",
    "cualquiera de 30 minutos excede 50%, el mismo profesor Bradley ofrecerá\n",
    "tutoría adicional.\n"
   ]
  },
  {
   "cell_type": "code",
   "execution_count": 23,
   "metadata": {},
   "outputs": [],
   "source": [
    "mu_estudiantes = 5.2 # Número promedio de ocurrencias de un evento"
   ]
  },
  {
   "cell_type": "markdown",
   "metadata": {},
   "source": [
    "**a) Determinar la probabilidad de que cuatro estudiantes lleguen durante cualquier intervalo de 20 minutos (x = 4)**"
   ]
  },
  {
   "cell_type": "code",
   "execution_count": 24,
   "metadata": {},
   "outputs": [],
   "source": [
    "x_estudiantes = 4 # Número de veces que ocurre el evento"
   ]
  },
  {
   "cell_type": "code",
   "execution_count": 25,
   "metadata": {},
   "outputs": [
    {
     "data": {
      "text/plain": [
       "0.16806250284943824"
      ]
     },
     "execution_count": 25,
     "metadata": {},
     "output_type": "execute_result"
    }
   ],
   "source": [
    "ms.distributions.poisson_pmf(mu_estudiantes, x_estudiantes)"
   ]
  },
  {
   "cell_type": "markdown",
   "metadata": {},
   "source": [
    "La probabilidad de que lleguen 4 estudiantes en un intervalo de 20 minutos a la oficina es de **0.16806250284943824**.\n",
    "\n",
    "El profesor Bradley no debería contratar un segundo tutor, pues esta probabilidad no excede el *20%*."
   ]
  },
  {
   "cell_type": "markdown",
   "metadata": {},
   "source": [
    "**b) Calcular la probabilidad de que más de cuatro estudiantes lleguen durante algún período de 20 minutos (x > 4)**"
   ]
  },
  {
   "cell_type": "code",
   "execution_count": 26,
   "metadata": {},
   "outputs": [],
   "source": [
    "x_estudiantes = 4"
   ]
  },
  {
   "cell_type": "code",
   "execution_count": 27,
   "metadata": {},
   "outputs": [
    {
     "data": {
      "text/plain": [
       "0.5938719984274373"
      ]
     },
     "execution_count": 27,
     "metadata": {},
     "output_type": "execute_result"
    }
   ],
   "source": [
    "1 - ms.distributions.poisson_cdf(mu_estudiantes, x_estudiantes)"
   ]
  },
  {
   "cell_type": "markdown",
   "metadata": {},
   "source": [
    "La probabilidad de que más de 4 estudiantes lleguen en un intervalo de tiempo de 20 minutos es de **0.5938719984274373**.\n",
    "\n",
    "Por lo que las horas de oficina del tutor deben aumentarse, pues esta probabilidad excede el *50%*"
   ]
  },
  {
   "cell_type": "markdown",
   "metadata": {},
   "source": [
    "**c) La probabilidad de que más de siete estudiantes lleguen durante un período cualquiera de 30 minutos (x > 7)**"
   ]
  },
  {
   "cell_type": "code",
   "execution_count": 28,
   "metadata": {},
   "outputs": [],
   "source": [
    "mu_estudiantes = 5.2/20 * 30\n",
    "x_estudiantes = 7"
   ]
  },
  {
   "cell_type": "code",
   "execution_count": 29,
   "metadata": {},
   "outputs": [
    {
     "data": {
      "text/plain": [
       "0.5187909829079025"
      ]
     },
     "execution_count": 29,
     "metadata": {},
     "output_type": "execute_result"
    }
   ],
   "source": [
    "1 - ms.distributions.poisson_cdf(mu_estudiantes, x_estudiantes)"
   ]
  },
  {
   "cell_type": "markdown",
   "metadata": {},
   "source": [
    "La probabilidad de que más de 7 estudiantes lleguen en un intervalo de tiempo de 30 minutos es de **0.5187909829079025**.\n",
    "\n",
    "Entonces el profesor Bradley ofrecerá tutoría adicional pues la probabilidad excede el *50%*."
   ]
  },
  {
   "cell_type": "markdown",
   "metadata": {},
   "source": [
    "<hr/>\n",
    "<hr/>"
   ]
  },
  {
   "cell_type": "markdown",
   "metadata": {},
   "source": [
    "## 5. Distribución exponencial\n",
    "Se asume que la tasa promedio de llegada de los clientes es de μ = 1.5 por hora y se desea saber la probabilidad de que no más de 2 horas transcurran entre llamadas."
   ]
  },
  {
   "cell_type": "code",
   "execution_count": 30,
   "metadata": {},
   "outputs": [],
   "source": [
    "mu_llamadas = 1.5 # Número promedio de ocurrencias de un evento"
   ]
  },
  {
   "cell_type": "markdown",
   "metadata": {},
   "source": [
    "**La probabilidad de que no más de 2 horas transcurran entre llamadas. (x <= 2)**"
   ]
  },
  {
   "cell_type": "code",
   "execution_count": 31,
   "metadata": {},
   "outputs": [],
   "source": [
    "x_llamadas = 2 # Lapso de tiempo entre ocurrencias de un evento"
   ]
  },
  {
   "cell_type": "code",
   "execution_count": 32,
   "metadata": {},
   "outputs": [
    {
     "data": {
      "text/plain": [
       "0.950212931632136"
      ]
     },
     "execution_count": 32,
     "metadata": {},
     "output_type": "execute_result"
    }
   ],
   "source": [
    "ms.distributions.expon_cdf(mu_llamadas, x_llamadas)"
   ]
  },
  {
   "cell_type": "markdown",
   "metadata": {},
   "source": [
    "La probabilidad de que no transcurran más de 2 horas entre llamadas es de **0.950212931632136**"
   ]
  },
  {
   "cell_type": "markdown",
   "metadata": {},
   "source": [
    "<hr/>\n",
    "<hr/>"
   ]
  },
  {
   "cell_type": "markdown",
   "metadata": {},
   "source": [
    "## 6. Distribución exponencial\n",
    "Cross City Cab Company programan sus taxis para que lleguen al\n",
    "aeropueto local en una distribución Poisson con una tasa promedio de\n",
    "llegada de 12 por hora. Usted acaba de aterrizar en el aeropuerto y debe\n",
    "llegar al centro a cerrar un gran negocio. ¿Cuál es la probabilidad de que\n",
    "usted tenga que esperar máximo 5 minutos para conseguir un taxi? Su jefe es\n",
    "un tirano que no tolerará la falla, de manera que si la probabilidad de que\n",
    "pase otro taxi dentro de 5 minutos es menor al 50%, usted alquilará un carro\n",
    "para el viaje a la oficina."
   ]
  },
  {
   "cell_type": "code",
   "execution_count": 33,
   "metadata": {},
   "outputs": [],
   "source": [
    "mu_taxis = 12/60 # Número promedio de ocurrencias de un evento"
   ]
  },
  {
   "cell_type": "markdown",
   "metadata": {},
   "source": [
    "**¿Cuál es la probabilidad de que usted tenga que esperar máximo 5 minutos para conseguir un taxi? (x <= 5)**"
   ]
  },
  {
   "cell_type": "code",
   "execution_count": 34,
   "metadata": {},
   "outputs": [],
   "source": [
    "x_taxis = 5 # Lapso de tiempo entre la ocurrencia del evento"
   ]
  },
  {
   "cell_type": "code",
   "execution_count": 35,
   "metadata": {},
   "outputs": [
    {
     "data": {
      "text/plain": [
       "0.6321205588285577"
      ]
     },
     "execution_count": 35,
     "metadata": {},
     "output_type": "execute_result"
    }
   ],
   "source": [
    "ms.distributions.expon_cdf(mu_taxis, x_taxis)"
   ]
  },
  {
   "cell_type": "markdown",
   "metadata": {},
   "source": [
    "La probabilidad de que se tengan que esperar como máximo 5 minutos para conseguir un taxi es de **0.6321205588285577**.\n",
    "\n",
    "Por lo que usted no tendrá que alquilar un caro para el viaje a la oficina."
   ]
  },
  {
   "cell_type": "markdown",
   "metadata": {},
   "source": [
    "<hr/>\n",
    "<hr/>"
   ]
  },
  {
   "cell_type": "markdown",
   "metadata": {},
   "source": [
    "## 7. Distribución uniforme\n",
    "Suponga que los contenidos de las latas de 16 onzas de fruta enlatada producida por Del Monte oscila entre 14.5 y 17.5 onzas y que se ajusta a una distribución uniforme.\n",
    "\n",
    "Del monte, desea saber la probabilidad de que una sola lata pese entre 16 y 17.2 onzas."
   ]
  },
  {
   "cell_type": "code",
   "execution_count": 36,
   "metadata": {},
   "outputs": [],
   "source": [
    "a_monte = 14.5 # Valor mínimo de la distribución\n",
    "b_monte = 17.5 # Valor máximo de la distribución"
   ]
  },
  {
   "cell_type": "markdown",
   "metadata": {},
   "source": [
    "**La probabilidad de que una sola lata pese entre 16 y 17.2 onzas. (16 <= x <= 17.2)**"
   ]
  },
  {
   "cell_type": "code",
   "execution_count": 37,
   "metadata": {},
   "outputs": [],
   "source": [
    "x1_monte = 16 # Valor mínimo de la evaluación\n",
    "x2_monte = 17.2 # Valor máximo de la evaluación"
   ]
  },
  {
   "cell_type": "code",
   "execution_count": 38,
   "metadata": {},
   "outputs": [
    {
     "data": {
      "text/plain": [
       "0.3999999999999998"
      ]
     },
     "execution_count": 38,
     "metadata": {},
     "output_type": "execute_result"
    }
   ],
   "source": [
    "ms.distributions.uniform_cdf(a_monte, b_monte, x2_monte) - ms.distributions.uniform_cdf(a_monte, b_monte, x1_monte)"
   ]
  },
  {
   "cell_type": "markdown",
   "metadata": {},
   "source": [
    "La probabilidad de que una sola lata pese entre 16 y 17.2 onzas es de **0.3999999999999998**"
   ]
  },
  {
   "cell_type": "markdown",
   "metadata": {},
   "source": [
    "<hr/>\n",
    "<hr/>"
   ]
  },
  {
   "cell_type": "markdown",
   "metadata": {},
   "source": [
    "## 8. Distribución uniforme\n",
    "Dow Chemical produce un fertilizante inorgánico para césped,\n",
    "para aquellos que fertilizan su pasto en casa, de manera que lo puedan podar\n",
    "con más frecuencia. Este tipo de fertilizante se vende en bolsas con un peso\n",
    "uniformemente distribuido, con media de 25 libras y un rango de 2.4 libras.\n",
    "Harry Homeowner necesita 23 libras para fertilizar su césped, pero duda si\n",
    "comprar sólo una bolsa ya que se desvía de las 25 libras en un rango de 2.4\n",
    "libras. También tiene curiosidad sobre la probabilidad de comprar una bolsa\n",
    "con más de 25.5 libras."
   ]
  },
  {
   "cell_type": "code",
   "execution_count": 39,
   "metadata": {},
   "outputs": [],
   "source": [
    "a_dow = 25 - 1.2 # Valor mínimo de la distribución\n",
    "b_dow = 25 + 1.2 # Valor máximo de la distribución"
   ]
  },
  {
   "cell_type": "markdown",
   "metadata": {},
   "source": [
    "**Probabilidad de que pese entre 21.8 y 24.2 libras (21.8 <= x <= 24.2)**"
   ]
  },
  {
   "cell_type": "code",
   "execution_count": 40,
   "metadata": {},
   "outputs": [],
   "source": [
    "x1_dow = 23 - 1.2 # Valor mínimo de la evaluación\n",
    "x2_dow = 23 + 1.2 # Valor máximo de la evaluación"
   ]
  },
  {
   "cell_type": "code",
   "execution_count": 41,
   "metadata": {},
   "outputs": [
    {
     "data": {
      "text/plain": [
       "0.16666666666666619"
      ]
     },
     "execution_count": 41,
     "metadata": {},
     "output_type": "execute_result"
    }
   ],
   "source": [
    "ms.distributions.uniform_cdf(a_dow, b_dow, x2_dow) - ms.distributions.uniform_cdf(a_dow, b_dow, x1_dow)"
   ]
  },
  {
   "cell_type": "markdown",
   "metadata": {},
   "source": [
    "La probabilidad de que Harry consiga una bolsa de 23 libras es de **0.16666666666666619**."
   ]
  },
  {
   "cell_type": "markdown",
   "metadata": {},
   "source": [
    "**Probabilidad de que pese más de 25.5 libras**"
   ]
  },
  {
   "cell_type": "code",
   "execution_count": 42,
   "metadata": {},
   "outputs": [],
   "source": [
    "x_dow = 25.5"
   ]
  },
  {
   "cell_type": "code",
   "execution_count": 43,
   "metadata": {},
   "outputs": [
    {
     "data": {
      "text/plain": [
       "0.2916666666666665"
      ]
     },
     "execution_count": 43,
     "metadata": {},
     "output_type": "execute_result"
    }
   ],
   "source": [
    "1 - ms.distributions.uniform_cdf(a_dow, b_dow, x_dow)"
   ]
  },
  {
   "cell_type": "markdown",
   "metadata": {},
   "source": [
    "La probabilidad de comprar una bolsa que pese más de 25.5 libras es de **0.2916666666666665**."
   ]
  },
  {
   "cell_type": "markdown",
   "metadata": {},
   "source": [
    "<hr/>\n",
    "<hr/>"
   ]
  },
  {
   "cell_type": "markdown",
   "metadata": {},
   "source": [
    "## 9. Distribución normal\n",
    "Topps Wear, un gran fabricante de ropas, desea estudiar la distribución en la estatura de\n",
    "las personas. Topps Wear reconoció que el público estaba en constante cambio en su\n",
    "tamaño físico y en sus proporciones. Se supone que si Topps Wear fuera a medir las\n",
    "estaturas de todos sus clientes potenciales, encontraría que las estaturas están\n",
    "distribuidas normalmente alrededor de una media de 67 pulgadas. Se asume que la\n",
    "desviación estándar de los clientes es de 2 pulgadas.\n",
    "\n",
    "El personal de Topps Wear puede hallar la probabilidad de que un solo cliente tenga entre\n",
    "67 y 69 pulgadas de estatura, P(67 ≤ X ≤ 69), simplemente hallando el área que está\n",
    "bajo la curva normal entre 67 y 69. Si se conoce el área, se conocerá la probabilidad."
   ]
  },
  {
   "cell_type": "code",
   "execution_count": 44,
   "metadata": {},
   "outputs": [],
   "source": [
    "mu_topps = 67 # Valor promedio\n",
    "sigma_topps = 2 # Desviación estándar"
   ]
  },
  {
   "cell_type": "markdown",
   "metadata": {},
   "source": [
    "**La probabilidad de que un solo cliente tenga entre 67 y 69 pulgadas de estatura, (67 ≤ X ≤ 69)**"
   ]
  },
  {
   "cell_type": "code",
   "execution_count": 45,
   "metadata": {},
   "outputs": [],
   "source": [
    "x1_topps = 67\n",
    "x2_topps = 69"
   ]
  },
  {
   "cell_type": "code",
   "execution_count": 46,
   "metadata": {},
   "outputs": [
    {
     "data": {
      "text/plain": [
       "0.3413447460685429"
      ]
     },
     "execution_count": 46,
     "metadata": {},
     "output_type": "execute_result"
    }
   ],
   "source": [
    "ms.distributions.norm_cdf(mu_topps, sigma_topps, x2_topps) - ms.distributions.norm_cdf(mu_topps, sigma_topps, x1_topps)"
   ]
  },
  {
   "cell_type": "markdown",
   "metadata": {},
   "source": [
    "La probabilidad de que un solo cliente tenga entre 67 y 69 pulgadas de estatura es de **0.3413447460685429**"
   ]
  },
  {
   "cell_type": "markdown",
   "metadata": {},
   "source": [
    "<hr/>\n",
    "<hr/>"
   ]
  },
  {
   "cell_type": "markdown",
   "metadata": {},
   "source": [
    "## 10. Aproximación normal a la distribución binomial\n",
    "Se considera un sindicato laboral en el cual el 40% de los miembros está a favor de una\n",
    "huelga. Si se seleccionan 15 miembros de manera aleatoria, ¿Cuál es la probabilidad de que\n",
    "10 apoyen un paro?"
   ]
  },
  {
   "cell_type": "code",
   "execution_count": 47,
   "metadata": {},
   "outputs": [],
   "source": [
    "n_sindicato = 15 # Tamaño de la muestra\n",
    "pi_sindicato = 0.4 # Probabilidad de éxito"
   ]
  },
  {
   "cell_type": "markdown",
   "metadata": {},
   "source": [
    "**¿Cuál es la probabilidad de que 10 apoyen un paro? (x = 10)**"
   ]
  },
  {
   "cell_type": "code",
   "execution_count": 48,
   "metadata": {},
   "outputs": [],
   "source": [
    "x_sindicato = 10"
   ]
  },
  {
   "cell_type": "code",
   "execution_count": 49,
   "metadata": {},
   "outputs": [
    {
     "data": {
      "text/plain": [
       "0.02448564210892806"
      ]
     },
     "execution_count": 49,
     "metadata": {},
     "output_type": "execute_result"
    }
   ],
   "source": [
    "ms.distributions.binom_pmf(n_sindicato, pi_sindicato, x_sindicato)"
   ]
  },
  {
   "cell_type": "markdown",
   "metadata": {},
   "source": [
    "La probabilidad de que 10 apoyen un paro es de **0.02448564210892806**."
   ]
  },
  {
   "cell_type": "markdown",
   "metadata": {},
   "source": [
    "<hr/>\n",
    "<hr/>"
   ]
  },
  {
   "cell_type": "markdown",
   "metadata": {},
   "source": [
    "## 11. Distribuciones muestrales\n",
    "TelCom Satellite presta servicios de comunicación a los negocios del área\n",
    "metropolitana de Chicago. Los funcionarios de la compañía han aprendido\n",
    "que la transmisión de satélite promedio es de 150 segundos, con una\n",
    "desviación estándar de 15 segundos. Los tiempos parecen estar distribuidos\n",
    "normalmente.\n",
    "TelCom desea ahora conocer la probabilidad de que la media de n = 50\n",
    "llamadas esté entre 150 y 155 segundos."
   ]
  },
  {
   "cell_type": "code",
   "execution_count": 50,
   "metadata": {},
   "outputs": [],
   "source": [
    "mu_telcom = 150 # Valor promedio\n",
    "sigma_telcom = 15 # Desviación estándar\n",
    "n_telcom = 50 # Tamaño de la muestra"
   ]
  },
  {
   "cell_type": "markdown",
   "metadata": {},
   "source": [
    "**La probabilidad de que la media de n = 50 llamadas esté entre 150 y 155 segundos. (150 <= x <= 155)**"
   ]
  },
  {
   "cell_type": "code",
   "execution_count": 51,
   "metadata": {},
   "outputs": [],
   "source": [
    "x1_telcom = 150\n",
    "x2_telcom = 155"
   ]
  },
  {
   "cell_type": "code",
   "execution_count": 52,
   "metadata": {},
   "outputs": [
    {
     "data": {
      "text/plain": [
       "0.4907889372729505"
      ]
     },
     "execution_count": 52,
     "metadata": {},
     "output_type": "execute_result"
    }
   ],
   "source": [
    "ms.distributions.sample_norm_cdf(mu_telcom, sigma_telcom, n_telcom, x2_telcom) - ms.distributions.sample_norm_cdf(mu_telcom,\n",
    "                                                                                                                 sigma_telcom,\n",
    "                                                                                                                 n_telcom,\n",
    "                                                                                                                 x1_telcom)"
   ]
  },
  {
   "cell_type": "markdown",
   "metadata": {},
   "source": [
    "La probabilidad de que la media de 50 llamadas esté entre 150 y 155 segundos es de **0.4907889372729505**."
   ]
  },
  {
   "cell_type": "markdown",
   "metadata": {},
   "source": [
    "<hr/>\n",
    "<hr/>"
   ]
  },
  {
   "cell_type": "markdown",
   "metadata": {},
   "source": [
    "## 12. Proporciones muestrales\n",
    "BelLabs adquiere componentes para sus teléfonos celulares en\n",
    "lotes de 200 de una firma en Palo Alto. El componente tiene una tasa de\n",
    "defectos del 10%. Una política establecida recientemente por BelLabs\n",
    "establece que si el siguiente envío tiene:\n",
    "1. Más del 12% de defectos, definitivamente buscará otro proveedor.\n",
    "2. Entre el 10 y el 12% de defectos, considerará un nuevo proveedor.\n",
    "3. Entre el 5 y el 10% de defectos, definitivamente no conseguirá un nuevo\n",
    "proveedor.\n",
    "4. Menos del 5% de defectos, incrementará sus pedidos.\n",
    "¿Cuál es la decisión más probable que tome BelLabs?"
   ]
  },
  {
   "cell_type": "code",
   "execution_count": 60,
   "metadata": {},
   "outputs": [],
   "source": [
    "n_bellabs = 200 # Tamaño de la muestra\n",
    "pi_bellabs = 0.10 # Probabilidad de éxito"
   ]
  },
  {
   "cell_type": "code",
   "execution_count": 63,
   "metadata": {},
   "outputs": [
    {
     "data": {
      "text/plain": [
       "0.17288929307558032"
      ]
     },
     "execution_count": 63,
     "metadata": {},
     "output_type": "execute_result"
    }
   ],
   "source": [
    "1 - ms.distributions.sample_prop_cdf(n_bellabs, pi_bellabs, 0.12)"
   ]
  },
  {
   "cell_type": "code",
   "execution_count": 64,
   "metadata": {},
   "outputs": [
    {
     "data": {
      "text/plain": [
       "0.3271107069244197"
      ]
     },
     "execution_count": 64,
     "metadata": {},
     "output_type": "execute_result"
    }
   ],
   "source": [
    "ms.distributions.sample_prop_cdf(n_bellabs, pi_bellabs, 0.12) - ms.distributions.sample_prop_cdf(n_bellabs, pi_bellabs, 0.10)"
   ]
  },
  {
   "cell_type": "code",
   "execution_count": 66,
   "metadata": {},
   "outputs": [
    {
     "data": {
      "text/plain": [
       "0.4907889372729505"
      ]
     },
     "execution_count": 66,
     "metadata": {},
     "output_type": "execute_result"
    }
   ],
   "source": [
    "ms.distributions.sample_prop_cdf(n_bellabs, pi_bellabs, 0.10) - ms.distributions.sample_prop_cdf(n_bellabs, pi_bellabs, 0.05)"
   ]
  },
  {
   "cell_type": "code",
   "execution_count": 67,
   "metadata": {},
   "outputs": [
    {
     "data": {
      "text/plain": [
       "0.009211062727049501"
      ]
     },
     "execution_count": 67,
     "metadata": {},
     "output_type": "execute_result"
    }
   ],
   "source": [
    "ms.distributions.sample_prop_cdf(n_bellabs, pi_bellabs, 0.05)"
   ]
  },
  {
   "cell_type": "code",
   "execution_count": null,
   "metadata": {},
   "outputs": [],
   "source": []
  }
 ],
 "metadata": {
  "kernelspec": {
   "display_name": "Python 3",
   "language": "python",
   "name": "python3"
  },
  "language_info": {
   "codemirror_mode": {
    "name": "ipython",
    "version": 3
   },
   "file_extension": ".py",
   "mimetype": "text/x-python",
   "name": "python",
   "nbconvert_exporter": "python",
   "pygments_lexer": "ipython3",
   "version": "3.7.0"
  }
 },
 "nbformat": 4,
 "nbformat_minor": 2
}
