{
 "cells": [
  {
   "cell_type": "markdown",
   "metadata": {},
   "source": [
    "**<p style=\"font-size: 35px; text-align: center\">Analysis of Variance</p>**\n",
    "\n",
    "\n",
    "\n",
    "***<center>Miguel Ángel Vélez Guerra</center>***\n",
    "\n",
    "<hr/>\n",
    "\n",
    "![anova](https://i.pinimg.com/originals/47/01/3b/47013becd153df62e9ee817a46e5a2ba.png)"
   ]
  },
  {
   "cell_type": "markdown",
   "metadata": {},
   "source": [
    "<hr/>\n",
    "<hr/>"
   ]
  },
  {
   "cell_type": "markdown",
   "metadata": {},
   "source": [
    "**<p id=\"tocheading\">Tabla de contenido</p>**\n",
    "<br/>\n",
    "<div id=\"toc\"></div>\n"
   ]
  },
  {
   "cell_type": "code",
   "execution_count": 69,
   "metadata": {},
   "outputs": [
    {
     "data": {
      "application/javascript": [
       "// Script to generate table of contents\n",
       "$.getScript('../resources/table_of_contents.js')"
      ],
      "text/plain": [
       "<IPython.core.display.Javascript object>"
      ]
     },
     "metadata": {},
     "output_type": "display_data"
    }
   ],
   "source": [
    "%%javascript\n",
    "// Script to generate table of contents\n",
    "$.getScript('../resources/table_of_contents.js')"
   ]
  },
  {
   "cell_type": "markdown",
   "metadata": {},
   "source": [
    "<hr/>\n",
    "<hr/>"
   ]
  },
  {
   "cell_type": "markdown",
   "metadata": {},
   "source": [
    "## Imports"
   ]
  },
  {
   "cell_type": "code",
   "execution_count": 1,
   "metadata": {},
   "outputs": [],
   "source": [
    "#-------Importing from other folder------#\n",
    "\n",
    "import sys\n",
    "sys.path.insert(0, \"../resources/\")\n",
    "\n",
    "import mstats as ms\n",
    "\n",
    "#-----------Miguel's statistics----------#"
   ]
  },
  {
   "cell_type": "code",
   "execution_count": 2,
   "metadata": {},
   "outputs": [],
   "source": [
    "import scipy.stats as ss\n",
    "import numpy as np"
   ]
  },
  {
   "cell_type": "markdown",
   "metadata": {},
   "source": [
    "<hr/>\n",
    "<hr/>"
   ]
  },
  {
   "attachments": {
    "image.png": {
     "image/png": "[encoded data removed]"
    }
   },
   "cell_type": "markdown",
   "metadata": {},
   "source": [
    "## 1. Análisis de varianza a una vía\n",
    "El director administrativo de una empresa industrial desea determinar si los tres\n",
    "programas de capacitación distintos tienen efectos diferentes en los niveles de\n",
    "productividad de los empleados. Se seleccionan aleatoriamente 14 empleados y se\n",
    "asignan a uno de los tres programas. Al terminar la capacitación, cada empleado\n",
    "responde un examen para determinar su competencia. Se colocan cuatro empleados\n",
    "en el primer programa de capacitación y cinco en cada uno de los otros dos\n",
    "programas. Cada uno de estos tres grupos se trata de manera independiente como\n",
    "nuestras separadas.\n",
    "\n",
    "![image.png](attachment:image.png)"
   ]
  },
  {
   "cell_type": "code",
   "execution_count": 3,
   "metadata": {},
   "outputs": [],
   "source": [
    "programa1 = [85, 72, 83, 80] # Resultados de la muestra 1\n",
    "programa2 = [80, 84, 81, 78, 82] # Resultados de la muestra 2\n",
    "programa3 = [82, 80, 85, 90, 88] # Resultados de la muestra 3\n",
    "\n",
    "n_programas = 14 # Número total de observaciones\n",
    "c_programas = 3 # Número total de tratamientos\n",
    "\n",
    "alpha_programas = 0.05 # Nivel de significancia"
   ]
  },
  {
   "cell_type": "markdown",
   "metadata": {},
   "source": [
    "**Ho:** μ1 = μ2 = μ3\n",
    "\n",
    "**Ha:** μ1 ≠ μ2 ≠ μ3"
   ]
  },
  {
   "cell_type": "markdown",
   "metadata": {},
   "source": [
    "**Encontramos las medias por cada tratamiento y la gran media**"
   ]
  },
  {
   "cell_type": "code",
   "execution_count": 4,
   "metadata": {},
   "outputs": [],
   "source": [
    "mean_programa1 = np.mean(programa1)\n",
    "mean_programa2 = np.mean(programa2)\n",
    "mean_programa3 = np.mean(programa3)\n",
    "\n",
    "bigmean_programas = np.mean(programa1 + programa2 + programa3)"
   ]
  },
  {
   "cell_type": "markdown",
   "metadata": {},
   "source": [
    "### **Vamos a encontrar las sumas de los cuadrados**"
   ]
  },
  {
   "cell_type": "markdown",
   "metadata": {},
   "source": [
    "**Suma de cuadrados total**"
   ]
  },
  {
   "cell_type": "code",
   "execution_count": 5,
   "metadata": {},
   "outputs": [
    {
     "data": {
      "text/plain": [
       "251.71428571428567"
      ]
     },
     "execution_count": 5,
     "metadata": {},
     "output_type": "execute_result"
    }
   ],
   "source": [
    "sct_programas = ms.anova.get_sct(programa1, programa2, programa3)\n",
    "sct_programas"
   ]
  },
  {
   "cell_type": "markdown",
   "metadata": {},
   "source": [
    "**Suma de cuadrados de los tratamientos**"
   ]
  },
  {
   "cell_type": "code",
   "execution_count": 6,
   "metadata": {},
   "outputs": [
    {
     "data": {
      "text/plain": [
       "65.71428571428571"
      ]
     },
     "execution_count": 6,
     "metadata": {},
     "output_type": "execute_result"
    }
   ],
   "source": [
    "sctr_programas = ms.anova.get_sctr(programa1, programa2, programa3)\n",
    "sctr_programas"
   ]
  },
  {
   "cell_type": "markdown",
   "metadata": {},
   "source": [
    "**Suma de cuadrados del error**"
   ]
  },
  {
   "cell_type": "code",
   "execution_count": 7,
   "metadata": {},
   "outputs": [
    {
     "data": {
      "text/plain": [
       "186.0"
      ]
     },
     "execution_count": 7,
     "metadata": {},
     "output_type": "execute_result"
    }
   ],
   "source": [
    "sce_programas = ms.anova.get_sce(programa1, programa2, programa3)\n",
    "sce_programas"
   ]
  },
  {
   "cell_type": "markdown",
   "metadata": {},
   "source": [
    "### Vamos a encontrar los cuadrados medios"
   ]
  },
  {
   "cell_type": "markdown",
   "metadata": {},
   "source": [
    "**Cuadrado medio total**"
   ]
  },
  {
   "cell_type": "code",
   "execution_count": 8,
   "metadata": {},
   "outputs": [
    {
     "data": {
      "text/plain": [
       "19.362637362637358"
      ]
     },
     "execution_count": 8,
     "metadata": {},
     "output_type": "execute_result"
    }
   ],
   "source": [
    "cmt_programas = ms.anova.get_cmt(programa1, programa2, programa3)\n",
    "cmt_programas"
   ]
  },
  {
   "cell_type": "markdown",
   "metadata": {},
   "source": [
    "**Cuadrado medio del tratamiento**"
   ]
  },
  {
   "cell_type": "code",
   "execution_count": 9,
   "metadata": {},
   "outputs": [
    {
     "data": {
      "text/plain": [
       "32.857142857142854"
      ]
     },
     "execution_count": 9,
     "metadata": {},
     "output_type": "execute_result"
    }
   ],
   "source": [
    "cmtr_programas = ms.anova.get_cmtr(programa1, programa2, programa3)\n",
    "cmtr_programas"
   ]
  },
  {
   "cell_type": "markdown",
   "metadata": {},
   "source": [
    "**Cuadrado medio del error**"
   ]
  },
  {
   "cell_type": "code",
   "execution_count": 10,
   "metadata": {},
   "outputs": [
    {
     "data": {
      "text/plain": [
       "16.90909090909091"
      ]
     },
     "execution_count": 10,
     "metadata": {},
     "output_type": "execute_result"
    }
   ],
   "source": [
    "cme_programas = ms.anova.get_cme(programa1, programa2, programa3)\n",
    "cme_programas"
   ]
  },
  {
   "cell_type": "markdown",
   "metadata": {},
   "source": [
    "### Vamos a encontrar la razón F"
   ]
  },
  {
   "cell_type": "code",
   "execution_count": 11,
   "metadata": {},
   "outputs": [
    {
     "data": {
      "text/plain": [
       "1.943164362519201"
      ]
     },
     "execution_count": 11,
     "metadata": {},
     "output_type": "execute_result"
    }
   ],
   "source": [
    "f_programas = ms.anova.get_fratio(programa1, programa2, programa3)\n",
    "f_programas"
   ]
  },
  {
   "cell_type": "markdown",
   "metadata": {},
   "source": [
    "**Valor crítico**"
   ]
  },
  {
   "cell_type": "code",
   "execution_count": 12,
   "metadata": {},
   "outputs": [
    {
     "data": {
      "text/plain": [
       "3.9822979570944836"
      ]
     },
     "execution_count": 12,
     "metadata": {},
     "output_type": "execute_result"
    }
   ],
   "source": [
    "df1_programas = c_programas - 1\n",
    "df2_programas = n_programas - c_programas\n",
    "ms.hypothesis.crit_val_f(df1_programas, df2_programas, alpha_programas)"
   ]
  },
  {
   "cell_type": "markdown",
   "metadata": {},
   "source": [
    "### Regla de decisión"
   ]
  },
  {
   "cell_type": "markdown",
   "metadata": {},
   "source": [
    "Debido a que el valor de la razón f es **1.9431643625192017** que es menor al valor crítico encontrado **3.9822979570944836**, cae en la zona de no rechazo. Por lo que el CEO no debería rechazar la hipótesis de que el puntaje de prueba son los mismos en todos los tratamiento."
   ]
  },
  {
   "cell_type": "markdown",
   "metadata": {},
   "source": [
    "<hr/>\n",
    "<hr/>"
   ]
  },
  {
   "attachments": {
    "image.png": {
     "image/png": "[encoded data removed]"
    }
   },
   "cell_type": "markdown",
   "metadata": {},
   "source": [
    "## 2. Análisis de varianza a una vía\n",
    "Robert Shade es vicepresidente de mercadeo en First City Bank en\n",
    "Atlanta. Los recientes esfuerzos promocionales para atraer nuevos depositantes incluyen\n",
    "algunos juegos y premios en cuatro sucursales del banco. Shade está convencido de que\n",
    "diferentes tipos de premios atraerían a diferentes grupos de ingreso. Las personas de un\n",
    "nivel de ingreso prefieren los regalos, mientras que los de otro grupo de ingreso pueden\n",
    "sentirse más atraídas por viajes gratuitos a sitios favoritos para pasar vacaciones. Shade\n",
    "decide utilizar el monto de los depósitos como una media representativa del ingreso. El\n",
    "desea determinar si existe una diferencia en el nivel promedio de depósitos entre las\n",
    "cuatro sucursales. Si se halla alguna diferencia, Shade ofrecerá una diversidad de\n",
    "premios promocionales. Se desea un alfa del 5%.\n",
    "\n",
    "![image.png](attachment:image.png)"
   ]
  },
  {
   "cell_type": "code",
   "execution_count": 13,
   "metadata": {},
   "outputs": [],
   "source": [
    "sucursal1 = [5.1, 4.9, 5.6, 4.8, 3.8, 5.1, 4.8] # Resultados de la muestra 1\n",
    "sucursal2 = [1.9, 1.9, 2.1, 2.4, 2.1, 3.1, 2.5] # Resultados de la muestra 2\n",
    "sucursal3 = [3.6, 4.2, 4.5, 4.8, 3.9, 4.1, 5.1] # Resultados de la muestra 3\n",
    "sucursal4 = [1.3, 1.5, 0.9, 1.0, 1.9, 1.5, 2.1] # Resultados de la muestra 4\n",
    "\n",
    "n_sucursales = 7*4 # Número total de observaciones\n",
    "c_sucursales = 4 # Número total de tratamientos\n",
    "\n",
    "alpha_sucursales = 0.05 # Nivel de significancia"
   ]
  },
  {
   "cell_type": "code",
   "execution_count": 14,
   "metadata": {},
   "outputs": [
    {
     "data": {
      "text/plain": [
       "78.09022177419358"
      ]
     },
     "execution_count": 14,
     "metadata": {},
     "output_type": "execute_result"
    }
   ],
   "source": [
    "ms.anova.get_fratio(sucursal1, sucursal2, sucursal3, sucursal4)"
   ]
  },
  {
   "cell_type": "code",
   "execution_count": 15,
   "metadata": {},
   "outputs": [
    {
     "data": {
      "text/plain": [
       "3.0087865704473615"
      ]
     },
     "execution_count": 15,
     "metadata": {},
     "output_type": "execute_result"
    }
   ],
   "source": [
    "df1_sucursales = c_sucursales - 1\n",
    "df2_sucursales = n_sucursales - c_sucursales\n",
    "ms.hypothesis.crit_val_f(df1_sucursales, df2_sucursales, alpha_sucursales)"
   ]
  },
  {
   "cell_type": "markdown",
   "metadata": {},
   "source": [
    "No todas las medias son iguales, debido a que el valor de la razon F *78.09022177419358* es mayor al valor crítico *3.0087865704473615*"
   ]
  },
  {
   "cell_type": "markdown",
   "metadata": {},
   "source": [
    "### Diferencia mínima significativa (DMS)"
   ]
  },
  {
   "cell_type": "code",
   "execution_count": 16,
   "metadata": {},
   "outputs": [
    {
     "name": "stdout",
     "output_type": "stream",
     "text": [
      "|x_1 - x_2| = |4.871428571428571 - 2.2857142857142856| = 2.5857142857142854 > 0.5361490207167764\n",
      "|x_1 - x_3| = |4.871428571428571 - 4.314285714285715| = 0.557142857142856 > 0.5361490207167764\n",
      "|x_1 - x_4| = |4.871428571428571 - 1.457142857142857| = 3.4142857142857137 > 0.5361490207167764\n",
      "|x_2 - x_3| = |2.2857142857142856 - 4.314285714285715| = 2.0285714285714294 > 0.5361490207167764\n",
      "|x_2 - x_4| = |2.2857142857142856 - 1.457142857142857| = 0.8285714285714285 > 0.5361490207167764\n",
      "|x_3 - x_4| = |4.314285714285715 - 1.457142857142857| = 2.8571428571428577 > 0.5361490207167764\n"
     ]
    }
   ],
   "source": [
    "ms.anova.get_dms(sucursal1, sucursal2, sucursal3, sucursal4, sign=alpha_sucursales)"
   ]
  },
  {
   "cell_type": "markdown",
   "metadata": {},
   "source": [
    "Podemos comprobar que según la prueba DMS, todas las poblaciones sugieren medias poblacionales diferentes, debido a que la diferencia entre las medias de cada uno son mayores al valor DMS correspondiente entre esas 2 medias."
   ]
  },
  {
   "cell_type": "markdown",
   "metadata": {},
   "source": [
    "<hr/>\n",
    "<hr/>"
   ]
  },
  {
   "attachments": {
    "image.png": {
     "image/png": "[encoded data removed]"
    }
   },
   "cell_type": "markdown",
   "metadata": {},
   "source": [
    "## 3. Análisis de varianza a una vía\n",
    "Cada vez más norteamericanos buscan escapar de las presiones urbanas, los pagos de\n",
    "impuestos en los parques nacionales ha demostrado un incremento marcado de\n",
    "quienes acampan los fines de semana. Outdoor World informó recientemente que el\n",
    "parque Yosemite National Park ubicado en las sierras altas de California contrató un\n",
    "consultor en economía para estudiar la situación financiera del parque.\n",
    "\n",
    "\n",
    "Parte del esfuerzo realizado por el consultor requería una comparación de los ingresos\n",
    "del parque provenientes de varias fuentes, incluyendo los pagos por acampar, licencias\n",
    "para pescar y para pasear en bote. Aquí aparecen los datos para visitantes\n",
    "seleccionados aleatoriamente. Se determina si existe diferencia en los ingresos\n",
    "promedio que recibe el parque provenientes de estas tres actividades. Asuma un alfa de\n",
    "5%.\n",
    "\n",
    "![image.png](attachment:image.png)"
   ]
  },
  {
   "cell_type": "code",
   "execution_count": 17,
   "metadata": {},
   "outputs": [],
   "source": [
    "acampar = [38, 32, 35, 36, 38, 32] # Resultados de la muestra 1\n",
    "pescar = [30, 25, 31, 35] # Resultados de la muestra 2\n",
    "pasear_bote = [19, 35, 20, 22, 25] # Resultados de la muestra 3\n",
    "\n",
    "n_parque = len(acampar + pescar + pasear_bote) # Número total de observaciones\n",
    "c_parque = 3 # Número total de tratamientos\n",
    "\n",
    "alpha_parque = 0.05 # Nivel de significancia"
   ]
  },
  {
   "cell_type": "code",
   "execution_count": 18,
   "metadata": {},
   "outputs": [
    {
     "data": {
      "text/plain": [
       "7.736749000851729"
      ]
     },
     "execution_count": 18,
     "metadata": {},
     "output_type": "execute_result"
    }
   ],
   "source": [
    "ms.anova.get_fratio(acampar, pescar, pasear_bote)"
   ]
  },
  {
   "cell_type": "code",
   "execution_count": 19,
   "metadata": {},
   "outputs": [
    {
     "data": {
      "text/plain": [
       "3.8852938346523933"
      ]
     },
     "execution_count": 19,
     "metadata": {},
     "output_type": "execute_result"
    }
   ],
   "source": [
    "df1_parque = c_parque - 1\n",
    "df2_parque = n_parque - c_parque\n",
    "ms.hypothesis.crit_val_f(df1_parque, df2_parque, alpha_parque)"
   ]
  },
  {
   "cell_type": "markdown",
   "metadata": {},
   "source": [
    "No todas las medias son iguales debido a que el valor de la razón F *7.736749000851729* es mayor que el valor crítico *3.8852938346523933*"
   ]
  },
  {
   "cell_type": "markdown",
   "metadata": {},
   "source": [
    "### Diferencia mínima significativa (DMS)"
   ]
  },
  {
   "cell_type": "code",
   "execution_count": 20,
   "metadata": {},
   "outputs": [
    {
     "name": "stdout",
     "output_type": "stream",
     "text": [
      "|x_1 - x_2| = |35.166666666666664 - 30.25| = 4.916666666666664 <= 5.85814365695289\n",
      "|x_1 - x_3| = |35.166666666666664 - 24.2| = 10.966666666666665 > 5.4954258663763\n",
      "|x_2 - x_3| = |30.25 - 24.2| = 6.050000000000001 <= 6.0879614711278505\n"
     ]
    }
   ],
   "source": [
    "ms.anova.get_dms(acampar, pescar, pasear_bote, sign=alpha_parque)"
   ]
  },
  {
   "cell_type": "markdown",
   "metadata": {},
   "source": [
    "Segun la prueba DMS, solo acampar y pasear en bote tienen una diferencia mínima significativa.\n",
    "\n",
    "Por lo que con un nivel de significancia del *5%* se puede concluir que solo acampar y pasear en bote tienen una diferencia mínima significativa."
   ]
  },
  {
   "cell_type": "markdown",
   "metadata": {},
   "source": [
    "<hr/>\n",
    "<hr/>"
   ]
  },
  {
   "attachments": {
    "image.png": {
     "image/png": "[encoded data removed]"
    }
   },
   "cell_type": "markdown",
   "metadata": {},
   "source": [
    "## 4. Análisis de varianza a 2 vías\n",
    "Una empresa de contabilidad grande trata de seleccionar un sistema de computación\n",
    "integrado a la oficina, entre los tres modelos que están actualmente en estudio. La\n",
    "selección final dependerá de la productividad de los sistemas. Se seleccionan\n",
    "aleatoriamente cinco operadores para manejar cada sistema. Es importante tener en\n",
    "cuenta que el nivel de experiencia que tienen los empleados en el manejo de\n",
    "computadores puede afectar el resultado de la prueba. Por tanto, existe la necesidad de\n",
    "justificar el impacto de la experiencia al determinar los méritos relativos de los sistemas\n",
    "de computación. Los niveles resultantes de producción medios en unidades por hora\n",
    "aparecen a continuación. El nivel de experiencia más alto indica más años de\n",
    "capacitación.\n",
    "\n",
    "![image.png](attachment:image.png)\n",
    "\n",
    "La empresa puede considerar que los años de experiencia de un operador afectan\n",
    "significativamente su productividad. Sin embargo, la empresa está interesada en la\n",
    "productividad de los sistemas de computación y no en la de los empleados. Por tanto se\n",
    "debe ajustar la productividad de los empleados eliminando el efecto de la variabilidad del\n",
    "operador para obtener una medida precisa, no contaminada, de la calidad del sistema."
   ]
  },
  {
   "cell_type": "code",
   "execution_count": 21,
   "metadata": {},
   "outputs": [],
   "source": [
    "sistema1 = [27, 31, 42, 38, 45] # Resultados tratamiento 1\n",
    "sistema2 = [21, 33, 39, 41, 46]\n",
    "sistema3 = [25, 35, 39, 37, 45]"
   ]
  },
  {
   "cell_type": "code",
   "execution_count": 22,
   "metadata": {},
   "outputs": [
    {
     "data": {
      "text/plain": [
       "764.9333333333334"
      ]
     },
     "execution_count": 22,
     "metadata": {},
     "output_type": "execute_result"
    }
   ],
   "source": [
    "scbl_sistemas = ms.anova.get_scbl(sistema1, sistema2, sistema3)\n",
    "scbl_sistemas"
   ]
  },
  {
   "cell_type": "code",
   "execution_count": 23,
   "metadata": {},
   "outputs": [
    {
     "data": {
      "text/plain": [
       "806.9333333333333"
      ]
     },
     "execution_count": 23,
     "metadata": {},
     "output_type": "execute_result"
    }
   ],
   "source": [
    "sct_sistemas = ms.anova.get_sct(sistema1, sistema2, sistema3)\n",
    "sct_sistemas"
   ]
  },
  {
   "cell_type": "code",
   "execution_count": 24,
   "metadata": {},
   "outputs": [
    {
     "data": {
      "text/plain": [
       "0.9333333333333362"
      ]
     },
     "execution_count": 24,
     "metadata": {},
     "output_type": "execute_result"
    }
   ],
   "source": [
    "sctr_sistemas = ms.anova.get_sctr(sistema1, sistema2, sistema3)\n",
    "sctr_sistemas"
   ]
  },
  {
   "cell_type": "code",
   "execution_count": 25,
   "metadata": {},
   "outputs": [
    {
     "data": {
      "text/plain": [
       "41.066666666666606"
      ]
     },
     "execution_count": 25,
     "metadata": {},
     "output_type": "execute_result"
    }
   ],
   "source": [
    "sce_sistemas = ms.anova.get_sce2(sistema1, sistema2, sistema3)\n",
    "sce_sistemas"
   ]
  },
  {
   "cell_type": "code",
   "execution_count": 26,
   "metadata": {},
   "outputs": [
    {
     "data": {
      "text/plain": [
       "57.63809523809523"
      ]
     },
     "execution_count": 26,
     "metadata": {},
     "output_type": "execute_result"
    }
   ],
   "source": [
    "cmt_sistemas = ms.anova.get_cmt(sistema1, sistema2, sistema3)\n",
    "cmt_sistemas"
   ]
  },
  {
   "cell_type": "code",
   "execution_count": 27,
   "metadata": {},
   "outputs": [
    {
     "data": {
      "text/plain": [
       "0.4666666666666681"
      ]
     },
     "execution_count": 27,
     "metadata": {},
     "output_type": "execute_result"
    }
   ],
   "source": [
    "cmtr_sistemas = ms.anova.get_cmtr(sistema1, sistema2, sistema3)\n",
    "cmtr_sistemas"
   ]
  },
  {
   "cell_type": "code",
   "execution_count": 28,
   "metadata": {},
   "outputs": [
    {
     "data": {
      "text/plain": [
       "5.133333333333326"
      ]
     },
     "execution_count": 28,
     "metadata": {},
     "output_type": "execute_result"
    }
   ],
   "source": [
    "cme_sistemas = ms.anova.get_cme2(sistema1, sistema2, sistema3)\n",
    "cme_sistemas"
   ]
  },
  {
   "cell_type": "code",
   "execution_count": 29,
   "metadata": {},
   "outputs": [
    {
     "data": {
      "text/plain": [
       "191.23333333333335"
      ]
     },
     "execution_count": 29,
     "metadata": {},
     "output_type": "execute_result"
    }
   ],
   "source": [
    "cmbl_sistemas = ms.anova.get_cmbl(sistema1, sistema2, sistema3)\n",
    "cmbl_sistemas"
   ]
  },
  {
   "cell_type": "code",
   "execution_count": 30,
   "metadata": {},
   "outputs": [
    {
     "data": {
      "text/plain": [
       "0.09090909090909133"
      ]
     },
     "execution_count": 30,
     "metadata": {},
     "output_type": "execute_result"
    }
   ],
   "source": [
    "fratio_sistemas = ms.anova.get_fratio2(sistema1, sistema2, sistema3)\n",
    "fratio_sistemas"
   ]
  },
  {
   "cell_type": "code",
   "execution_count": 31,
   "metadata": {},
   "outputs": [
    {
     "data": {
      "text/plain": [
       "37.25324675324681"
      ]
     },
     "execution_count": 31,
     "metadata": {},
     "output_type": "execute_result"
    }
   ],
   "source": [
    "fratio_cmbl_sistemas = ms.anova.get_fratio2_cmbl(sistema1, sistema2, sistema3)\n",
    "fratio_cmbl_sistemas"
   ]
  },
  {
   "cell_type": "code",
   "execution_count": 37,
   "metadata": {},
   "outputs": [
    {
     "data": {
      "text/plain": [
       "3.837853354555897"
      ]
     },
     "execution_count": 37,
     "metadata": {},
     "output_type": "execute_result"
    }
   ],
   "source": [
    "df1_sistemas = len(sistema1) - 1\n",
    "df2_sistemas = (len(sistema1) - 1)*(3 - 1)\n",
    "ms.hypothesis.crit_val_f(df1_sistemas, df2_sistemas, 0.05)"
   ]
  },
  {
   "cell_type": "markdown",
   "metadata": {},
   "source": [
    "Como el f de los bloques es mayor al valor crítico se concluye que los niveles de experiencia tienen un efecto en las tasas de producción."
   ]
  },
  {
   "cell_type": "markdown",
   "metadata": {},
   "source": [
    "Ahora la empresa está preparada para probar la hipótesis en la cual estuvo originalmente\n",
    "interesada. ¿Existe alguna diferencia en la producción promedio de los sistemas de\n",
    "computación (tratamientos)?\n",
    "Si el valor de alfa del 5% se mantiene, el valor crítico de F para CMTR con 2 y 8 grados de\n",
    "libertad se obtiene de la tabla y es Fα,(c-1),(r-1)(c-1) = F0.05,2,8 = 4.46 (2 en el numerador por\n",
    "CMTR y 8 en el denominador por CME).\n",
    "La hipótesis a probar es:\n",
    "\n",
    "H0\n",
    ": μ1 = μ2 = μ3\n",
    "\n",
    "HA: no todas las medias de las columnas son iguales\n",
    "\n",
    "Donde\n",
    "μi\n",
    "son las medias de las columnas para los tres sistemas de computación.\n",
    "Regla de decisión: “No rechazar la hipótesis nula si F ≤ 4.46. Rechazar la hipótesis nula si F\n",
    "> 4.46”.\n",
    "F = 0.09 < 4.46 por lo que la hipótesis nula no se rechaza y la empresa concluye que los\n",
    "niveles de producción promedio de los tres sistemas de computación no difieren, una vez\n",
    "que se ha hecho la corrección para el factor experiencia. Los empleados de diferentes\n",
    "niveles de experiencia se desempeñan igualmente bien en todas las máquinas. No\n",
    "interesa cual sistema de computación compren."
   ]
  },
  {
   "cell_type": "markdown",
   "metadata": {},
   "source": [
    "<hr/>\n",
    "<hr/>"
   ]
  },
  {
   "attachments": {
    "image.png": {
     "image/png": "[encoded data removed]"
    }
   },
   "cell_type": "markdown",
   "metadata": {},
   "source": [
    "## 5. Análisis de varianza a 2 vías\n",
    "Una emisión reciente de la revista Fortune describió los esfuerzos\n",
    "realizados por una importante empresa electrónica para desarrollar un sistema en el\n",
    "cual se les daba a los empleados la oportunidad de evaluar el desempeño de sus\n",
    "supervisores. Se seleccionan aleatoriamente cinco empleados y se les pide evaluar a\n",
    "cuatro de sus gerentes en una escala del 10 al 50. Los resultados son:\n",
    "\n",
    "![image.png](attachment:image.png)\n",
    "\n",
    "El gerente de la empresa de electrónica desea saber si existe diferencia entre las\n",
    "clasificaciones promedio de los cuatro gerentes."
   ]
  },
  {
   "cell_type": "code",
   "execution_count": 40,
   "metadata": {},
   "outputs": [],
   "source": [
    "puntajes1 = [31, 29, 13, 28, 14] # Resultados tratamiento 1\n",
    "puntajes2 = [35, 32, 17, 38, 20] # Resultados tratamiento 2\n",
    "puntajes3 = [46, 45, 35, 52, 40] # Resultados tratamiento 3\n",
    "puntajes4 = [38, 36, 20, 39, 20] # Resultados tratamiento 4\n",
    "\n",
    "r_puntajes = 5 # Número de bloques\n",
    "c_puntajes = 4 # Número de tratamientos\n",
    "n_puntajes = r_puntajes * c_puntajes # Número total de observaciones\n",
    "\n",
    "alpha_puntajes = 0.05 # Nivel de significancia"
   ]
  },
  {
   "cell_type": "code",
   "execution_count": 41,
   "metadata": {},
   "outputs": [
    {
     "data": {
      "text/plain": [
       "3.259166726901249"
      ]
     },
     "execution_count": 41,
     "metadata": {},
     "output_type": "execute_result"
    }
   ],
   "source": [
    "df1_sistemas = r_puntajes - 1\n",
    "df2_sistemas = (r_puntajes - 1) * (c_puntajes - 1)\n",
    "ms.hypothesis.crit_val_f(df1_sistemas, df2_sistemas, alpha_puntajes)"
   ]
  },
  {
   "cell_type": "markdown",
   "metadata": {},
   "source": [
    "**Vamos a verficar si el puntaje promedio por cada empleado"
   ]
  },
  {
   "cell_type": "code",
   "execution_count": null,
   "metadata": {},
   "outputs": [],
   "source": []
  }
 ],
 "metadata": {
  "kernelspec": {
   "display_name": "Python 3",
   "language": "python",
   "name": "python3"
  },
  "language_info": {
   "codemirror_mode": {
    "name": "ipython",
    "version": 3
   },
   "file_extension": ".py",
   "mimetype": "text/x-python",
   "name": "python",
   "nbconvert_exporter": "python",
   "pygments_lexer": "ipython3",
   "version": "3.7.0"
  }
 },
 "nbformat": 4,
 "nbformat_minor": 2
}
