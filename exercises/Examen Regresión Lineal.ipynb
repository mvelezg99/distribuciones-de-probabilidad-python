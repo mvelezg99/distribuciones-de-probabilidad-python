{
 "cells": [
  {
   "cell_type": "markdown",
   "metadata": {},
   "source": [
    "# EXAMEN REGRESIÓN LINEAL\n",
    "### Miguel Ángel Vélez - 1152469703"
   ]
  },
  {
   "cell_type": "code",
   "execution_count": 1,
   "metadata": {
    "collapsed": true
   },
   "outputs": [],
   "source": [
    "#-------Importing from other folder------#\n",
    "\n",
    "import sys\n",
    "sys.path.insert(0, \"../resources/\")\n",
    "\n",
    "import mstats as ms\n",
    "\n",
    "#-----------Miguel's statistics----------#"
   ]
  },
  {
   "cell_type": "code",
   "execution_count": 2,
   "metadata": {
    "collapsed": true
   },
   "outputs": [],
   "source": [
    "import scipy.stats as ss\n",
    "import numpy as np"
   ]
  },
  {
   "cell_type": "markdown",
   "metadata": {},
   "source": [
    "***"
   ]
  },
  {
   "cell_type": "markdown",
   "metadata": {},
   "source": [
    "# 1.\n",
    "Se tienen los datos para estudiar la relación entre los ingresos y el consumo de los Estados Unidos durante un periodo prolongado. Las cifras se encuentran en millones de dólares.\n",
    "\n",
    "|Año|Consumo (Y)|Ingresos (X)|\n",
    "|-|\n",
    "|1960|191|284.8|\n",
    "|1961|206.3|328.4|\n",
    "|1962|216.7|345.5|\n",
    "|1963|230|364.6|\n",
    "|1964|236.5|364.8|\n",
    "|1965|254.4|398|\n",
    "|1966|266.7|419.2|\n",
    "|1967|281.4|441.1|\n",
    "|1968|290.1|447.3|\n",
    "|1969|311.2|483.7|"
   ]
  },
  {
   "cell_type": "markdown",
   "metadata": {},
   "source": [
    "**a. Determine cuál es la variable dependiente y cuál es la independiente.**"
   ]
  },
  {
   "cell_type": "code",
   "execution_count": 6,
   "metadata": {
    "collapsed": true
   },
   "outputs": [],
   "source": [
    "x_usa = [284.8, 328.4, 345.5, 364.6, 364.8, 398, 419.2, 441.1, 447.3, 483.7] # Variable independiente -> Ingresos\n",
    "y_usa = [191, 206.3, 216.7, 230, 236.5, 254.4, 266.7, 281.4, 290.1, 311.2] # Variable dependiente -> Consumo"
   ]
  },
  {
   "cell_type": "markdown",
   "metadata": {},
   "source": [
    "**b. Calcule e interprete el modelo de regresión. ¿Qué le dice este modelo sobre la relación entre el consumo y el ingreso? ¿Qué proporción de cada dólar adicional que se gana se invierte en consumo?**"
   ]
  },
  {
   "cell_type": "code",
   "execution_count": 7,
   "metadata": {},
   "outputs": [
    {
     "data": {
      "image/png": "[encoded data removed]",
      "text/plain": [
       "<matplotlib.figure.Figure at 0x2203c9765f8>"
      ]
     },
     "metadata": {},
     "output_type": "display_data"
    }
   ],
   "source": [
    "ms.graph.linregr(x_usa, y_usa)"
   ]
  },
  {
   "cell_type": "code",
   "execution_count": 8,
   "metadata": {},
   "outputs": [
    {
     "data": {
      "text/plain": [
       "'ÿ = 2.47 + 0.63x'"
      ]
     },
     "execution_count": 8,
     "metadata": {},
     "output_type": "execute_result"
    }
   ],
   "source": [
    "model_usa = ms.linregr.regression(x_usa, y_usa)\n",
    "model_usa.shape"
   ]
  },
  {
   "cell_type": "markdown",
   "metadata": {},
   "source": [
    "Se puede observar que el modelo de regresión que obtuvimos nos muestra teóricamente la relación entre el ingreso de los consumidores y el consumo que hacen; Por cada incremento en una unidad de sus ingresos, el consumo que hacen aumentará en 0.63 unidades."
   ]
  },
  {
   "cell_type": "markdown",
   "metadata": {},
   "source": [
    "**c. ¿Qué consumo pronosticaría el modelo si en un año los ingresos son US$346.5?**"
   ]
  },
  {
   "cell_type": "code",
   "execution_count": 11,
   "metadata": {},
   "outputs": [
    {
     "data": {
      "text/plain": [
       "222.27005209227633"
      ]
     },
     "execution_count": 11,
     "metadata": {},
     "output_type": "execute_result"
    }
   ],
   "source": [
    "model_usa(346.5)"
   ]
  },
  {
   "cell_type": "markdown",
   "metadata": {},
   "source": [
    "Según nuestro modelo de regresión lineal, si en un año los ingresos son de **346.5**, el consumo pronosticado para ese año sería de **222.27005209227633**."
   ]
  },
  {
   "cell_type": "markdown",
   "metadata": {},
   "source": [
    "**d. ¿Cuál es el error estándar de estimación para los datos analizados?**"
   ]
  },
  {
   "cell_type": "code",
   "execution_count": 12,
   "metadata": {},
   "outputs": [
    {
     "data": {
      "text/plain": [
       "4.330166595352587"
      ]
     },
     "execution_count": 12,
     "metadata": {},
     "output_type": "execute_result"
    }
   ],
   "source": [
    "ms.linregr.get_se(x_usa, y_usa)"
   ]
  },
  {
   "cell_type": "markdown",
   "metadata": {},
   "source": [
    "El error estándar que tienen estos datos analizados es de **4.330166595352587** unidades de consumo."
   ]
  },
  {
   "cell_type": "markdown",
   "metadata": {},
   "source": [
    "**e. Calcule el coeficiente de correlación y el coeficiente de determinación para los datos analizados.**"
   ]
  },
  {
   "cell_type": "code",
   "execution_count": 15,
   "metadata": {},
   "outputs": [
    {
     "data": {
      "text/plain": [
       "0.9945083056956981"
      ]
     },
     "execution_count": 15,
     "metadata": {},
     "output_type": "execute_result"
    }
   ],
   "source": [
    "r_usa = ms.linregr.get_r(x_usa, y_usa)\n",
    "r_usa"
   ]
  },
  {
   "cell_type": "markdown",
   "metadata": {},
   "source": [
    "El coeficiente de correlación para los datos analizados es **0.9945083056956981**. Lo que indica una fuerte relación positiva entre los ingresos de los consumidores y el consumo que hacen."
   ]
  },
  {
   "cell_type": "code",
   "execution_count": 16,
   "metadata": {},
   "outputs": [
    {
     "data": {
      "text/plain": [
       "0.9890467700977282"
      ]
     },
     "execution_count": 16,
     "metadata": {},
     "output_type": "execute_result"
    }
   ],
   "source": [
    "r2_usa = ms.linregr.get_r2(x_usa, y_usa)\n",
    "r2_usa"
   ]
  },
  {
   "cell_type": "markdown",
   "metadata": {},
   "source": [
    "El coeficiente de determinación para los datos analizados es **0.9890467700977282**. Lo que establece que el 98% del cambio en el consumo se explica mediante un cambio en los ingresos de los consumidores."
   ]
  },
  {
   "cell_type": "markdown",
   "metadata": {},
   "source": [
    "**f. ¿La relación entre los ingresos y el consumo que está analizando es significativa? Pruebe la hipótesis a un nivel de significancia del 1%.**"
   ]
  },
  {
   "cell_type": "code",
   "execution_count": 17,
   "metadata": {
    "collapsed": true
   },
   "outputs": [],
   "source": [
    "sign_usa = 0.01 # Nivel de significancia"
   ]
  },
  {
   "cell_type": "markdown",
   "metadata": {},
   "source": [
    "* **Plantear las hipótesis**"
   ]
  },
  {
   "cell_type": "markdown",
   "metadata": {},
   "source": [
    "$H_0: β_1 = 0$ -> *La pendiente de la recta de regresión poblacional es cero*\n",
    "\n",
    "$H_A: β_1 ≠ 0$ -> *La pendiente de la recta de regresión poblacional es diferente de cero*"
   ]
  },
  {
   "cell_type": "markdown",
   "metadata": {},
   "source": [
    "* **Valores críticos**"
   ]
  },
  {
   "cell_type": "code",
   "execution_count": 18,
   "metadata": {
    "collapsed": true
   },
   "outputs": [],
   "source": [
    "df_usa = len(x_usa) - 2"
   ]
  },
  {
   "cell_type": "code",
   "execution_count": 27,
   "metadata": {},
   "outputs": [
    {
     "data": {
      "text/plain": [
       "(-3.3553873313333957, 3.3553873313333957)"
      ]
     },
     "execution_count": 27,
     "metadata": {},
     "output_type": "execute_result"
    }
   ],
   "source": [
    "crit_usa = ms.hypothesis.crit_val_t(df_usa, sign_usa, 'two')\n",
    "crit_usa"
   ]
  },
  {
   "cell_type": "markdown",
   "metadata": {},
   "source": [
    "* **Estadístico de prueba (T)**"
   ]
  },
  {
   "cell_type": "code",
   "execution_count": 22,
   "metadata": {},
   "outputs": [
    {
     "data": {
      "text/plain": [
       "26.877093759184376"
      ]
     },
     "execution_count": 22,
     "metadata": {},
     "output_type": "execute_result"
    }
   ],
   "source": [
    "t_usa = ms.linregr.get_t_beta(x_usa, y_usa)\n",
    "t_usa"
   ]
  },
  {
   "cell_type": "code",
   "execution_count": 23,
   "metadata": {},
   "outputs": [
    {
     "data": {
      "image/png": "[encoded data removed]",
      "text/plain": [
       "<matplotlib.figure.Figure at 0x2203c97e160>"
      ]
     },
     "metadata": {},
     "output_type": "display_data"
    },
    {
     "data": {
      "text/plain": [
       "True"
      ]
     },
     "execution_count": 23,
     "metadata": {},
     "output_type": "execute_result"
    }
   ],
   "source": [
    "distr_usa = ss.t(df_usa)\n",
    "ms.graph.hypothesis(distr_usa, t_usa, sign_usa, 'two')\n",
    "ms.hypothesis.reject_h0(crit_usa, t_usa, 'two')"
   ]
  },
  {
   "cell_type": "markdown",
   "metadata": {},
   "source": [
    "**SI se rechaza la hipótesis nula.** Teniendo en cuenta que el estadístico de prueba *26.877093759184376* es mayor al valor crítico calculado *3.3553873313333957*. Por lo que cae en la zona de rechazo con un nivel de significancia del *1%*."
   ]
  },
  {
   "cell_type": "markdown",
   "metadata": {},
   "source": [
    "**R/ **Por lo cual se puede concluir que la relación entre los ingresos y el consumo que se está analizando es significativa, teniendo en cuenta un nivel de significancia del 1%."
   ]
  },
  {
   "cell_type": "markdown",
   "metadata": {},
   "source": [
    "Debido a que se ha rechazado la hipótesis nula, usaremos un intervalo de confianza para conocer el valor de $β_1$."
   ]
  },
  {
   "cell_type": "markdown",
   "metadata": {},
   "source": [
    "* **Intervalo de confianza para $β_1$**"
   ]
  },
  {
   "cell_type": "code",
   "execution_count": 29,
   "metadata": {},
   "outputs": [
    {
     "data": {
      "text/plain": [
       "(0.55763399210146347, 0.71103467461646241)"
      ]
     },
     "execution_count": 29,
     "metadata": {},
     "output_type": "execute_result"
    }
   ],
   "source": [
    "alpha_usa = 1 - sign_usa\n",
    "ms.intervals.beta(x_usa, y_usa, alpha_usa)"
   ]
  },
  {
   "cell_type": "markdown",
   "metadata": {},
   "source": [
    "Entonces, se puede estar un 99% seguro de que el coeficiente de regresión para toda la población de todos los valores de X, está entre **0.55763399210146347** y **0.71103467461646241**."
   ]
  },
  {
   "cell_type": "markdown",
   "metadata": {},
   "source": [
    "***"
   ]
  },
  {
   "cell_type": "code",
   "execution_count": null,
   "metadata": {
    "collapsed": true
   },
   "outputs": [],
   "source": []
  }
 ],
 "metadata": {
  "kernelspec": {
   "display_name": "Python 3",
   "language": "python",
   "name": "python3"
  },
  "language_info": {
   "codemirror_mode": {
    "name": "ipython",
    "version": 3
   },
   "file_extension": ".py",
   "mimetype": "text/x-python",
   "name": "python",
   "nbconvert_exporter": "python",
   "pygments_lexer": "ipython3",
   "version": "3.6.3"
  }
 },
 "nbformat": 4,
 "nbformat_minor": 2
}
