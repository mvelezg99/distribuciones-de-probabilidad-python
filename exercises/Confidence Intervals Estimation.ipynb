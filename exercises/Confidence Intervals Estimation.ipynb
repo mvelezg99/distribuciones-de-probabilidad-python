{
 "cells": [
  {
   "cell_type": "markdown",
   "metadata": {},
   "source": [
    "**<p style=\"font-size: 35px; text-align: center\">Confidence Intervals Estimation</p>**\n",
    "\n",
    "\n",
    "\n",
    "***<center>Miguel Ángel Vélez Guerra</center>***\n",
    "\n",
    "<hr/>\n",
    "\n",
    "![intervals](http://sphweb.bumc.bu.edu/otlt/MPH-Modules/QuantCore/PH717_ConfidenceIntervals-OneSample/Wordle-ConfidenceIntervals.png)\n",
    "\n",
    "\n",
    "\n"
   ]
  },
  {
   "cell_type": "markdown",
   "metadata": {},
   "source": [
    "<hr />\n",
    "<hr />"
   ]
  },
  {
   "cell_type": "markdown",
   "metadata": {},
   "source": [
    "**<p id=\"tocheading\">Tabla de contenido</p>**\n",
    "<br/>\n",
    "<div id=\"toc\"></div>\n"
   ]
  },
  {
   "cell_type": "code",
   "execution_count": 24,
   "metadata": {},
   "outputs": [
    {
     "data": {
      "application/javascript": [
       "$.getScript('../resources/table_of_contents.js')"
      ],
      "text/plain": [
       "<IPython.core.display.Javascript object>"
      ]
     },
     "metadata": {},
     "output_type": "display_data"
    }
   ],
   "source": [
    "%%javascript\n",
    "$.getScript('../resources/table_of_contents.js')"
   ]
  },
  {
   "cell_type": "markdown",
   "metadata": {},
   "source": [
    "<hr />\n",
    "<hr />"
   ]
  },
  {
   "cell_type": "markdown",
   "metadata": {},
   "source": [
    "## Imports"
   ]
  },
  {
   "cell_type": "code",
   "execution_count": 2,
   "metadata": {},
   "outputs": [],
   "source": [
    "#-------Importing from other folder------#\n",
    "\n",
    "import sys\n",
    "sys.path.insert(0, \"../resources/\")\n",
    "\n",
    "import mstats\n",
    "\n",
    "#-----------Miguel's statistics----------#"
   ]
  },
  {
   "cell_type": "code",
   "execution_count": 3,
   "metadata": {},
   "outputs": [],
   "source": [
    "import scipy.stats as ss\n",
    "import numpy as np"
   ]
  },
  {
   "cell_type": "markdown",
   "metadata": {},
   "source": [
    "<hr />\n",
    "<hr />"
   ]
  },
  {
   "cell_type": "markdown",
   "metadata": {},
   "source": [
    "## 1.  Intervalos de confianza para la media poblacional con muestras grandes\n",
    "Un teatro de cine local desea desarrollar un intervalo para estimar las cajas promedio de\n",
    "palomitas de maíz que se venden por sala de cine. Si los registros llevados para 70 salas\n",
    "revelan un promedio de 54.98 cajas y una desviación estándar de 12.7, calcule e interprete\n",
    "un intervalo de confianza del 92% para la media poblacional."
   ]
  },
  {
   "cell_type": "code",
   "execution_count": 4,
   "metadata": {},
   "outputs": [],
   "source": [
    "n_cine = 70 # Tamaño de la muestra\n",
    "x__cine = 54.98 # Promedio muestral\n",
    "s_cine = 12.7 # Desviación estándar muestral\n",
    "alpha_cine = 0.92 # Nivel de confianza"
   ]
  },
  {
   "cell_type": "code",
   "execution_count": 5,
   "metadata": {},
   "outputs": [
    {
     "data": {
      "text/plain": [
       "(52.32256300052874, 57.637436999471255)"
      ]
     },
     "execution_count": 5,
     "metadata": {},
     "output_type": "execute_result"
    }
   ],
   "source": [
    "mstats.interval_norm(n_cine, x__cine, s_cine, alpha_cine)"
   ]
  },
  {
   "cell_type": "markdown",
   "metadata": {},
   "source": [
    "**R/** El teatro de cine local tiene un *92%* de confianza en que el promedio poblacional de cajas de palomitas de maíz que se venden por sala de cine, está entre **52.32256300052874** y **57.637436999471255** cajas."
   ]
  },
  {
   "cell_type": "markdown",
   "metadata": {},
   "source": [
    "<hr/>\n",
    "<hr/>"
   ]
  },
  {
   "cell_type": "markdown",
   "metadata": {},
   "source": [
    "## 2. Intervalos de confianza para la media poblacional con muestras grandes\n",
    "Una muestra de 121 llamadas al número 900 que usted maneja tiene una duración\n",
    "promedio de 16.6 minutos y una desviación estándar de 3.63 minutos. Usted pretende\n",
    "discontinuar el servicio a menos que la duración promedio sea superior a 18 minutos. En\n",
    "un nivel de confianza del 95%, ¿cuál es su decisión?"
   ]
  },
  {
   "cell_type": "code",
   "execution_count": 6,
   "metadata": {},
   "outputs": [],
   "source": [
    "n_llamadas = 121 # Tamaño de la muestra\n",
    "x__llamadas = 16.6 # Promedio muestral\n",
    "s_llamadas = 3.63 # Desviación estándar muestral\n",
    "alpha_llamadas = 0.95 # Nivel de confianza"
   ]
  },
  {
   "cell_type": "code",
   "execution_count": 7,
   "metadata": {},
   "outputs": [
    {
     "data": {
      "text/plain": [
       "(15.953211885101783, 17.24678811489822)"
      ]
     },
     "execution_count": 7,
     "metadata": {},
     "output_type": "execute_result"
    }
   ],
   "source": [
    "mstats.interval_norm(n_llamadas, x__llamadas, s_llamadas, alpha_llamadas)"
   ]
  },
  {
   "cell_type": "markdown",
   "metadata": {},
   "source": [
    "**R/** Con un nivel de confianza del *95%* podemos asegurar que la duración promedio de llamadas al número 900 está entre **15.953211885101783** y **17.24678811489822** minutos.\n",
    "\n",
    "Entonces, nuestra decisión será discontinuar el servicio, pues la duración promedio no parece que pueda superar los **18** minutos."
   ]
  },
  {
   "cell_type": "markdown",
   "metadata": {},
   "source": [
    "<hr />\n",
    "<hr />"
   ]
  },
  {
   "cell_type": "markdown",
   "metadata": {},
   "source": [
    "## 3. Intervalos de confianza para la media poblacional con muestras pequeñas\n",
    "Greenleaf Lawn Care descubre que el costo promedio de adornar los jardines de 20 casas\n",
    "del área es de 2365, con s = 983. Al nivel de confianza del 99%, ¿Qué costo promedio\n",
    "estimaría usted para adornar los jardines de todas las casas del área?"
   ]
  },
  {
   "cell_type": "code",
   "execution_count": 8,
   "metadata": {},
   "outputs": [],
   "source": [
    "n_jardines = 20 # Tamaño de la muestra\n",
    "x__jardines = 2365 # Promedio muestral\n",
    "s_jardines = 983 # Desviación estándar muestral\n",
    "alpha_jardines = 0.99 # Nivel de confianza"
   ]
  },
  {
   "cell_type": "code",
   "execution_count": 9,
   "metadata": {},
   "outputs": [
    {
     "data": {
      "text/plain": [
       "(1736.1508893202845, 2993.8491106797155)"
      ]
     },
     "execution_count": 9,
     "metadata": {},
     "output_type": "execute_result"
    }
   ],
   "source": [
    "mstats.interval_t(n_jardines, x__jardines, s_jardines, alpha_jardines)"
   ]
  },
  {
   "cell_type": "markdown",
   "metadata": {},
   "source": [
    "**R/** Con un nivel de confianza del *99%* , se podría estimar que el costo promedio para adornar los jardinas de todas las casas del área está entre **1736.1508893202845** y **2993.8491106797155**"
   ]
  },
  {
   "cell_type": "markdown",
   "metadata": {},
   "source": [
    "<hr />\n",
    "<hr />"
   ]
  },
  {
   "cell_type": "markdown",
   "metadata": {},
   "source": [
    "## 4. Intervalos de confianza para la proporción poblacional\n",
    "Si de los 1098 turistas norteamericanos 896 recimiendan su viaje a Irlanda a sus amigos,\n",
    "¿qué porcentaje de todos los turistas norteamericanos harían lo mismo con un nivel del\n",
    "99% de confianza?"
   ]
  },
  {
   "cell_type": "code",
   "execution_count": 10,
   "metadata": {},
   "outputs": [],
   "source": [
    "n_turistas = 1098 # Tamaño de la muestra\n",
    "p_turistas = 895/1098 # Proporción muestral\n",
    "alpha_turistas = 0.99 # Nivel de confianza"
   ]
  },
  {
   "cell_type": "code",
   "execution_count": 11,
   "metadata": {},
   "outputs": [
    {
     "data": {
      "text/plain": [
       "(0.7849416025416293, 0.8452951916295911)"
      ]
     },
     "execution_count": 11,
     "metadata": {},
     "output_type": "execute_result"
    }
   ],
   "source": [
    "mstats.interval_prop(n_turistas, p_turistas, alpha_turistas)"
   ]
  },
  {
   "cell_type": "markdown",
   "metadata": {},
   "source": [
    "**R/** Se puede asegurar con un nivel de confianza del *99%* que la proporción de todos los turistas norteamericanos recomienden su viaje a Irlanda a sus amigos está entre **0.7849416025416293** y **0.8452951916295911**"
   ]
  },
  {
   "cell_type": "markdown",
   "metadata": {},
   "source": [
    "<hr />\n",
    "<hr />"
   ]
  },
  {
   "cell_type": "markdown",
   "metadata": {},
   "source": [
    "## 5. Determinación del tamaño de la muestra para la media poblacional\n",
    "¿Qué tan grande se requiere que sea una muestra para que proporcione una estimación\n",
    "del 90% del número promedio de graduados de las universidades de la nación con un\n",
    "error de 2000 estudiantes si una muestra piloto reporta que s = 8659?"
   ]
  },
  {
   "cell_type": "code",
   "execution_count": 12,
   "metadata": {},
   "outputs": [],
   "source": [
    "alpha_graduados = 0.9 # Nivel de confianza\n",
    "s_graduados = 8659 # Desviación estándar de la muestra piloto\n",
    "error_graduados = 2000 # Error tolerado"
   ]
  },
  {
   "cell_type": "code",
   "execution_count": 13,
   "metadata": {},
   "outputs": [
    {
     "data": {
      "text/plain": [
       "51.0"
      ]
     },
     "execution_count": 13,
     "metadata": {},
     "output_type": "execute_result"
    }
   ],
   "source": [
    "mstats.n_avg(alpha_graduados, s_graduados, error_graduados)"
   ]
  },
  {
   "cell_type": "markdown",
   "metadata": {},
   "source": [
    "**R/** Se requiere tomar una muestra de **51** graduados de las universidades de la nación, para que de esta manera se pueda estimar el número promedio de graduados con un nivel de confianza del *90%* y teniendo en cuenta un error menor a *2000* estudiantes."
   ]
  },
  {
   "cell_type": "markdown",
   "metadata": {},
   "source": [
    "<hr />\n",
    "<hr />"
   ]
  },
  {
   "cell_type": "markdown",
   "metadata": {},
   "source": [
    "## 6. Determinación del tamaño de la muestra para la proporción poblacional\n",
    "La división de créditos de un banco comercial grande desea estimar con un nivel de\n",
    "confianza del 99% la proporción de sus créditos que están en mora. Si el ancho del\n",
    "intervalo es del 7%, ¿Cuántos créditos deben revisarse? ¿cuál es el error tolerable?"
   ]
  },
  {
   "cell_type": "code",
   "execution_count": 14,
   "metadata": {},
   "outputs": [],
   "source": [
    "alpha_creditos = 0.99 # Nivel de confianza\n",
    "p_creditos = 0.5 # Valor esperado para la proporción poblacional\n",
    "error_creditos = 0.07 # Error tolerado"
   ]
  },
  {
   "cell_type": "code",
   "execution_count": 15,
   "metadata": {},
   "outputs": [
    {
     "data": {
      "text/plain": [
       "339.0"
      ]
     },
     "execution_count": 15,
     "metadata": {},
     "output_type": "execute_result"
    }
   ],
   "source": [
    "mstats.n_prop(alpha_creditos, p_creditos, error_creditos)"
   ]
  },
  {
   "cell_type": "markdown",
   "metadata": {},
   "source": [
    "**R/** El error tolerable es del **7%**, y con un nivel de confianza del *99%* el número total de créditos que se deberían revisar para estimar la proporción de créditos que están en mora es de **339** créditos."
   ]
  },
  {
   "cell_type": "markdown",
   "metadata": {},
   "source": [
    "<hr />\n",
    "<hr />"
   ]
  },
  {
   "cell_type": "markdown",
   "metadata": {},
   "source": [
    "## 7. Intervalos de confianza para la proporción poblacional\n",
    "Un investigador de la Administración Federan de Aviación (FAA) fue mencionado en una\n",
    "emisión de febrero de The Washington Post, en la que dijo que de los 112 accidentes de\n",
    "aerolíneas, “73 involucraban algún tipo de problema estructural con la aeronave”. Si tales\n",
    "cifras son representativas, ¿Cuál es el intervalo de confianza para la proporción de\n",
    "accidentes que involucran tal defecto estructural? Sea α = 0.01."
   ]
  },
  {
   "cell_type": "code",
   "execution_count": 16,
   "metadata": {},
   "outputs": [],
   "source": [
    "n_accidentes = 112 # Tamaño de la muestra\n",
    "p_accidentes = 73/112 # Proporción muestral\n",
    "alpha_accidentes = 0.99 # Nivel de confianza"
   ]
  },
  {
   "cell_type": "code",
   "execution_count": 17,
   "metadata": {},
   "outputs": [
    {
     "data": {
      "text/plain": [
       "(0.5358322364439551, 0.7677391921274735)"
      ]
     },
     "execution_count": 17,
     "metadata": {},
     "output_type": "execute_result"
    }
   ],
   "source": [
    "mstats.interval_prop(n_accidentes, p_accidentes, alpha_accidentes)"
   ]
  },
  {
   "cell_type": "markdown",
   "metadata": {},
   "source": [
    "**R/** Con un nivel de confianza del *99%* se puede asegurar que la proporción de accidentes que involucran algún tipo de problema estrutural con la aeronave está entre **0.5358322364439551** y **0.7677391921274735**."
   ]
  },
  {
   "cell_type": "markdown",
   "metadata": {},
   "source": [
    "<hr />\n",
    "<hr />"
   ]
  },
  {
   "cell_type": "markdown",
   "metadata": {},
   "source": [
    "## 8. Intervalos de confianza para la proporción poblacional\n",
    "The Wall Street Journal informó los esfuerzos realizados por Nestlé, la compañía de\n",
    "alimentos más grande del mundo, para introducir un nuevo producto. La gerencia decidió\n",
    "utilizar el sector de Chicago como mercado de prueba. Si más del 30% de la personas\n",
    "expresaban un deseo por el producto, ellos considerarían el comercializarlo en un sector\n",
    "más amplio. De las 820 personas a quienes se les practicó la prueba, 215 expresaron una\n",
    "reacción positiva. ¿Un intervalo de confianza del 90% para la proporción de todos los\n",
    "clientes quienes prefieren el producto hace que la gerencia continúe con sus planes de\n",
    "comercialización?"
   ]
  },
  {
   "cell_type": "code",
   "execution_count": 18,
   "metadata": {},
   "outputs": [],
   "source": [
    "n_clientes = 820 # Tamaño de la muestra\n",
    "p_clientes = 215/820 # Proporción muestral\n",
    "alpha_clientes = 0.9 # Nivel de confianza"
   ]
  },
  {
   "cell_type": "code",
   "execution_count": 19,
   "metadata": {},
   "outputs": [
    {
     "data": {
      "text/plain": [
       "(0.23693104732523565, 0.2874591965772034)"
      ]
     },
     "execution_count": 19,
     "metadata": {},
     "output_type": "execute_result"
    }
   ],
   "source": [
    "mstats.interval_prop(n_clientes, p_clientes, alpha_clientes)"
   ]
  },
  {
   "cell_type": "markdown",
   "metadata": {},
   "source": [
    "**R/** Con un nivel de confianza del *90%* se puede estimar que la proporción de personas que expresan un deseo por el producto de Nestle está entre **0.23693104732523565** y **0.2874591965772034**.\n",
    "\n",
    "Con lo que podemos concluir que Nestle no va a considerar comercializar el producto en un sector más amplio, puesto que no parece que a más del *30%* de las personas les interese el nuevo producto."
   ]
  },
  {
   "cell_type": "markdown",
   "metadata": {},
   "source": [
    "<hr />\n",
    "<hr />"
   ]
  },
  {
   "cell_type": "markdown",
   "metadata": {},
   "source": [
    "## 9. Determinación del tamaño de la muestra para la media poblacional\n",
    "El director de su división le pide, como analista de mercadeo recientemente contratado,\n",
    "que estime las ventas semanales promedio. Le advierte que debe mantener el error\n",
    "dentro de 100 y mantener un nivel de confianza del 90%. ¿Cuántas semanas de datos\n",
    "debe recolectar si la desviación estándar es 750?"
   ]
  },
  {
   "cell_type": "code",
   "execution_count": 20,
   "metadata": {},
   "outputs": [],
   "source": [
    "alpha_ventas = 0.9 # Nivel de confianza\n",
    "s_ventas = 750 # Desviación estándar de la muestra piloto\n",
    "error_ventas = 100 # Error tolerado"
   ]
  },
  {
   "cell_type": "code",
   "execution_count": 21,
   "metadata": {},
   "outputs": [
    {
     "data": {
      "text/plain": [
       "152.0"
      ]
     },
     "execution_count": 21,
     "metadata": {},
     "output_type": "execute_result"
    }
   ],
   "source": [
    "mstats.n_avg(alpha_ventas, s_ventas, error_ventas)"
   ]
  },
  {
   "cell_type": "markdown",
   "metadata": {},
   "source": [
    "**R/** Debemos recolectar **152** semanas de datos para poder estimar con un nivel de confianza del *90%* y un error menor de *100* las ventas semanales promedio de la empresa."
   ]
  },
  {
   "cell_type": "markdown",
   "metadata": {},
   "source": [
    "<hr />\n",
    "<hr />"
   ]
  },
  {
   "cell_type": "markdown",
   "metadata": {},
   "source": [
    "## 10. Determinación del tamaño de la muestra para la proporción poblacional\n",
    "La Asociación de Finanzas Estudiantiles en Faber Collage está planeando una “Feria\n",
    "primaveral” en la cual intentan vender camisetas con su logo. El tesorero desea un\n",
    "estimado de la proporción de estudiantes que comprarán una camiseta. El estimado debe\n",
    "proporcionar un nivel de confianza del 90% y el error no debe exceder del 3%. ¿Qué tan\n",
    "grande debe tomarse la muestra?"
   ]
  },
  {
   "cell_type": "code",
   "execution_count": 22,
   "metadata": {},
   "outputs": [],
   "source": [
    "alpha_camisetas = 0.9 # Nivel de confianza\n",
    "p_camisetas = 0.5 # Valor esperado para la proporción muestral\n",
    "error_camisetas = 0.03 # Error tolerado"
   ]
  },
  {
   "cell_type": "code",
   "execution_count": 23,
   "metadata": {},
   "outputs": [
    {
     "data": {
      "text/plain": [
       "752.0"
      ]
     },
     "execution_count": 23,
     "metadata": {},
     "output_type": "execute_result"
    }
   ],
   "source": [
    "mstats.n_prop(alpha_camisetas, p_camisetas, error_camisetas)"
   ]
  },
  {
   "cell_type": "markdown",
   "metadata": {},
   "source": [
    "**R/** La muestra debe ser de un tamaño de **752** estudiantes, para que con un nivel de confianza del *90%* y un error menor de *3%* se pueda estimar la proporción de estudiantes que comprarán la camiseta."
   ]
  },
  {
   "cell_type": "code",
   "execution_count": null,
   "metadata": {},
   "outputs": [],
   "source": []
  }
 ],
 "metadata": {
  "kernelspec": {
   "display_name": "Python 3",
   "language": "python",
   "name": "python3"
  },
  "language_info": {
   "codemirror_mode": {
    "name": "ipython",
    "version": 3
   },
   "file_extension": ".py",
   "mimetype": "text/x-python",
   "name": "python",
   "nbconvert_exporter": "python",
   "pygments_lexer": "ipython3",
   "version": "3.7.0"
  }
 },
 "nbformat": 4,
 "nbformat_minor": 2
}
