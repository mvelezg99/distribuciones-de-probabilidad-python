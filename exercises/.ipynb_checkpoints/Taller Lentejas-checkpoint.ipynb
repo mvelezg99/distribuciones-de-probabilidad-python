{
 "cells": [
  {
   "cell_type": "markdown",
   "metadata": {},
   "source": [
    "## Taller lentejas\n",
    "### Miguel Ángel Vélez - Diego Jiménez - Alejandro García"
   ]
  },
  {
   "cell_type": "code",
   "execution_count": 8,
   "metadata": {},
   "outputs": [],
   "source": [
    "import scipy.stats as ss\n",
    "import numpy as np"
   ]
  },
  {
   "cell_type": "markdown",
   "metadata": {},
   "source": [
    "## Toma de los datos"
   ]
  },
  {
   "cell_type": "code",
   "execution_count": 7,
   "metadata": {},
   "outputs": [],
   "source": [
    "# Tamaño de la muestra de lentejas\n",
    "n_lentejas = 35 \n",
    "\n",
    "# Medida del ancho de las lentejas en centímetros (cm)\n",
    "medida_lentejas = [0.7, 0.63, 0.64, 0.62, 0.60, 0.69, 0.67, 0.66, 0.65, 0.65, 0.61, 0.67, 0.66, 0.69, 0.61, 0.68, 0.62, 0.61,\n",
    "                  0.63, 0.67, 0.60, 0.61, 0.60, 0.59, 0.70, 0.61, 0.67, 0.55, 0.60, 0.71, 0.61, 0.7, 0.62, 0.62, 0.63]\n",
    "\n",
    "# Medida del peso de las lentejas en gramos (g)\n",
    "peso_lentejas = [0.073, 0.0692, 0.0635, 0.0616, 0.0620, 0.0747, 0.0723, 0.0716, 0.0641, 0.0553, 0.0603, 0.0771, 0.0724, 0.0725,\n",
    "                0.0637, 0.0616, 0.0698, 0.0669, 0.0569, 0.0640, 0.0688, 0.0698, 0.0688, 0.0650, 0.0623, 0.0648, 0.0722, 0.0706,\n",
    "                0.0758, 0.0640, 0.0684, 0.0711, 0.0783, 0.0601, 0.0603]"
   ]
  },
  {
   "cell_type": "markdown",
   "metadata": {},
   "source": [
    "## Medidas de tendencia central"
   ]
  },
  {
   "cell_type": "code",
   "execution_count": 17,
   "metadata": {},
   "outputs": [],
   "source": [
    "# Promedio muestral de la medida del ancho de las lentejas en centímetros (cm)\n",
    "x__medida_lentejas = sum(medida_lentejas) / n_lentejas \n",
    "\n",
    "# Promedio muestral de la medida del peso de las lentejas en gramos (g)\n",
    "x__peso_lentejas = sum(peso_lentejas) / n_lentejas\n",
    "\n",
    "# Desviación estándar de la medida del ancho de las lentejas en centímetros (cm)\n",
    "s_medida_lentejas = (np.var(medida_lentejas))**0.5\n",
    "\n",
    "# Desviación estándar de la medida del peso de las lentejas en gramos (g)\n",
    "s_peso_lentejas = (np.var(peso_lentejas))**0.5\n",
    "\n",
    "median_medida_lentejas = np.median(medida_lentejas)\n",
    "median_peso_lentejas = np.median(peso_lentejas)\n",
    "\n"
   ]
  },
  {
   "cell_type": "code",
   "execution_count": 13,
   "metadata": {},
   "outputs": [
    {
     "data": {
      "text/plain": [
       "0.005695165153219789"
      ]
     },
     "execution_count": 13,
     "metadata": {},
     "output_type": "execute_result"
    }
   ],
   "source": [
    "s_peso_lentejas"
   ]
  },
  {
   "cell_type": "code",
   "execution_count": 16,
   "metadata": {},
   "outputs": [
    {
     "data": {
      "text/plain": [
       "0.005695165153219789"
      ]
     },
     "execution_count": 16,
     "metadata": {},
     "output_type": "execute_result"
    }
   ],
   "source": [
    "np.std?\n",
    "np.std(peso_lentejas)"
   ]
  },
  {
   "cell_type": "code",
   "execution_count": 18,
   "metadata": {},
   "outputs": [
    {
     "data": {
      "text/plain": [
       "0.63"
      ]
     },
     "execution_count": 18,
     "metadata": {},
     "output_type": "execute_result"
    }
   ],
   "source": [
    "median_medida_lentejas"
   ]
  },
  {
   "cell_type": "code",
   "execution_count": 19,
   "metadata": {},
   "outputs": [
    {
     "data": {
      "text/plain": [
       "0.0684"
      ]
     },
     "execution_count": 19,
     "metadata": {},
     "output_type": "execute_result"
    }
   ],
   "source": [
    "median_peso_lentejas"
   ]
  },
  {
   "cell_type": "code",
   "execution_count": 20,
   "metadata": {},
   "outputs": [],
   "source": [
    "np.var?"
   ]
  },
  {
   "cell_type": "code",
   "execution_count": null,
   "metadata": {},
   "outputs": [],
   "source": []
  }
 ],
 "metadata": {
  "kernelspec": {
   "display_name": "Python 3",
   "language": "python",
   "name": "python3"
  },
  "language_info": {
   "codemirror_mode": {
    "name": "ipython",
    "version": 3
   },
   "file_extension": ".py",
   "mimetype": "text/x-python",
   "name": "python",
   "nbconvert_exporter": "python",
   "pygments_lexer": "ipython3",
   "version": "3.7.0"
  }
 },
 "nbformat": 4,
 "nbformat_minor": 2
}
