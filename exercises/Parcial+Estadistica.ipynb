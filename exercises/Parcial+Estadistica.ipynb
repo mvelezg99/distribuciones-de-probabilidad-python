{
 "cells": [
  {
   "cell_type": "markdown",
   "metadata": {},
   "source": [
    "## PARCIAL ESTADÍSTICA\n",
    "\n",
    "### Miguel Ángel Vélez Guerra - 1152469703\n",
    "\n",
    "<hr/>"
   ]
  },
  {
   "cell_type": "code",
   "execution_count": 1,
   "metadata": {
    "collapsed": true
   },
   "outputs": [],
   "source": [
    "#-------Importing from other folder------#\n",
    "\n",
    "import sys\n",
    "sys.path.insert(0, \"../resources/\")\n",
    "\n",
    "import mstats as ms\n",
    "\n",
    "#-----------Miguel's statistics----------#"
   ]
  },
  {
   "cell_type": "code",
   "execution_count": 2,
   "metadata": {
    "collapsed": true
   },
   "outputs": [],
   "source": [
    "import scipy.stats as ss\n",
    "import numpy as np"
   ]
  },
  {
   "cell_type": "markdown",
   "metadata": {},
   "source": [
    "<hr/>"
   ]
  },
  {
   "cell_type": "markdown",
   "metadata": {},
   "source": [
    "## 1. ANOVA 1 vía\n",
    "Un estudio reciente comparó los salarios iniciales de los nuevos graduados en diversos campos. Los resultados se presentan a continuación. A un nivel del 5%. ¿Parece que hay diferencia en los salarios promedio de los graduados en los diferentes campos?\n",
    "\n",
    "|Graduado|||Campos de estudio||\n",
    "|---|\n",
    "||Finanzas|Mercadeo|Sistemas|Economía|\n",
    "|1|23.2|22.1|23.3|22.2|\n",
    "|2|24.7|19.2|22.1|22.1|\n",
    "|3|24.2|21.3|23.4|23.2|\n",
    "|4|22.9|19.8|24.2|21.7|\n",
    "|5|25.2|17.2|23.1|20.2|\n",
    "|6|23.7|18.3|22.7|22.7|\n",
    "|7|24.2|17.2|22.8|21.8|\n",
    "\n"
   ]
  },
  {
   "cell_type": "code",
   "execution_count": 3,
   "metadata": {
    "collapsed": true
   },
   "outputs": [],
   "source": [
    "finanzas = [23.2, 24.7, 24.2, 22.9, 25.2, 23.7, 24.2] # Resultados tratamiento 1\n",
    "mercadeo = [22.1, 19.2, 21.3, 19.8, 17.2, 18.3, 17.2] # Resultados tratamiento 2\n",
    "sistemas = [23.3, 22.1, 23.4, 24.2, 23.1, 22.7, 22.8] # Resultados tratamiento 3\n",
    "economia = [22.2, 22.1, 23.2, 21.7, 20.2, 22.7, 21.8] # Resultados tratamiento 4\n",
    "\n",
    "n_campos = len(finanzas + mercadeo + sistemas + economia) # Número total de observaciones\n",
    "c_campos = 4 # Número total de tratamientos\n",
    "\n",
    "alpha_campos = 0.05 # Nivel de significancia"
   ]
  },
  {
   "cell_type": "markdown",
   "metadata": {},
   "source": [
    "- Se plantea la hipótesis nula y alternativa:\n",
    "\n",
    "**Ho:** 𝜇finanzas = 𝜇mercadeo = 𝜇sistemas = 𝜇economia\n",
    "\n",
    "**Ha:** 𝑛𝑜 𝑡𝑜𝑑𝑎𝑠 𝑙𝑎𝑠 𝑚𝑒𝑑𝑖𝑎𝑠 𝑠𝑜𝑛 𝑖𝑔𝑢𝑎𝑙𝑒𝑠"
   ]
  },
  {
   "cell_type": "markdown",
   "metadata": {},
   "source": [
    "- Ahora encontraremos el valor crítico para rechazar la hipótesis nula"
   ]
  },
  {
   "cell_type": "code",
   "execution_count": 4,
   "metadata": {},
   "outputs": [
    {
     "data": {
      "text/plain": [
       "3.0087865704473615"
      ]
     },
     "execution_count": 4,
     "metadata": {},
     "output_type": "execute_result"
    }
   ],
   "source": [
    "df1_campos = c_campos - 1\n",
    "df2_campos = n_campos - c_campos\n",
    "ms.hypothesis.crit_val_f(df1_campos, df2_campos, alpha_campos)"
   ]
  },
  {
   "cell_type": "markdown",
   "metadata": {},
   "source": [
    "- Ahora encontraremos el estadístico de prueba (RAZÓN F) para comparar con el valor crítico y determinar si se rechaza la hipótesis nula"
   ]
  },
  {
   "cell_type": "code",
   "execution_count": 5,
   "metadata": {},
   "outputs": [
    {
     "data": {
      "text/plain": [
       "20.688556457065562"
      ]
     },
     "execution_count": 5,
     "metadata": {},
     "output_type": "execute_result"
    }
   ],
   "source": [
    "ms.anova.get_fratio(finanzas, mercadeo, sistemas, economia)"
   ]
  },
  {
   "cell_type": "markdown",
   "metadata": {},
   "source": [
    "Entonces, teniendo en cuenta que el valor de la RAZÓN F **20.688556457065562**, es **mayor** al valor crítico **3.0087865704473615**, se puede **rechazar con un nivel de significancia del *5%* la hipótesis nula.**\n",
    "\n",
    "El estudio debe rechazar la hipótesis de que los salarios promedio de los graduados en los diferentes campos son iguales. Es decir, que estos salarios promedio **NO SON IGUALES** y **SI SE PRESENTAN DIFERENCIAS** entre ellos."
   ]
  },
  {
   "cell_type": "markdown",
   "metadata": {},
   "source": [
    "<hr/>"
   ]
  },
  {
   "cell_type": "markdown",
   "metadata": {},
   "source": [
    "Para el ejercicio anterior vamos a hacer las pruebas para la diferencia entre pares de medias según el criterio de la diferencia mínima significativa (DMS), para encontrar cuales medias son iguales y cuales son diferentes"
   ]
  },
  {
   "cell_type": "code",
   "execution_count": 6,
   "metadata": {},
   "outputs": [
    {
     "name": "stdout",
     "output_type": "stream",
     "text": [
      "|x_1 - x_2| = |24.014285714285712 - 19.3| = 4.714285714285712 > 1.3093138553397816\n",
      "|x_1 - x_3| = |24.014285714285712 - 23.08571428571429| = 0.9285714285714235 <= 1.3093138553397816\n",
      "|x_1 - x_4| = |24.014285714285712 - 21.985714285714288| = 2.028571428571425 > 1.3093138553397816\n",
      "|x_2 - x_3| = |19.3 - 23.08571428571429| = 3.7857142857142883 > 1.3093138553397816\n",
      "|x_2 - x_4| = |19.3 - 21.985714285714288| = 2.685714285714287 > 1.3093138553397816\n",
      "|x_3 - x_4| = |23.08571428571429 - 21.985714285714288| = 1.1000000000000014 <= 1.3093138553397816\n"
     ]
    }
   ],
   "source": [
    "ms.anova.get_dms(finanzas, mercadeo, sistemas, economia, sign=alpha_campos)"
   ]
  },
  {
   "cell_type": "markdown",
   "metadata": {},
   "source": [
    "Podemos comprobar entonces, que de nuevo se afirma que los promedios de los salarios no son iguales, pues según el análisis DMS, algunos valores sobrepasan el valor DMS, refiriéndose a que los promedios son diferentes entre ellos.\n",
    "\n",
    "Con esta información podemos decir que los campos de estudio que tienen en promedio **los mismos** salarios son:\n",
    "\n",
    "- Finanzas y Sistemas\n",
    "- Sistemas y Economía\n",
    "\n",
    "\n",
    "También se puede decir que las zonas del país que pagan impuestos **diferentes** entre ellas son:\n",
    "\n",
    "También se puede decir que los campos de estudio que tienen en promedio **diferentes** salarios son:\n",
    "\n",
    "- Finanzas y Mercadeo\n",
    "- Finanzas y Economía\n",
    "- Mercadeo y Sistemas\n",
    "- Mercadeo y Economía\n"
   ]
  },
  {
   "cell_type": "markdown",
   "metadata": {},
   "source": [
    "<HR/>"
   ]
  },
  {
   "cell_type": "markdown",
   "metadata": {},
   "source": [
    "## 2. Pruebas de hipótesis de 1 cola para la media poblacional en muestras pequeñas\n",
    "Un nuevo bombillo producido por Sun Systems está diseñado para incrementar la vida útil de los bombillos a más de 5000 horas que es el promedio de los que actualmente existen. ¿El nuevo producto de Sun Systems proporciona una mejora si 25 bombillos se funden en promedio a las 5117 horas con s = 1886 horas? Fije alfa en 5%."
   ]
  },
  {
   "cell_type": "code",
   "execution_count": 7,
   "metadata": {
    "collapsed": true
   },
   "outputs": [],
   "source": [
    "mu_sun = 5000 # Hipótesis nula de la media poblacional\n",
    "n_sun = 25 # Tamaño de la muestra\n",
    "x__sun = 5117 # Promedio muestral\n",
    "s_sun = 1886 # Desviación estándar muestral\n",
    "\n",
    "alpha_sun = 0.05 # Nivel de significancia"
   ]
  },
  {
   "cell_type": "markdown",
   "metadata": {},
   "source": [
    "<u> **Paso 1**</u>: Plantear hipótesis"
   ]
  },
  {
   "cell_type": "markdown",
   "metadata": {},
   "source": [
    "**Ho:** μ = 5000                  \n",
    "\n",
    "**Ha:** μ > 5000"
   ]
  },
  {
   "cell_type": "markdown",
   "metadata": {},
   "source": [
    "<u> **Paso 2**</u>: Nivel de significancia"
   ]
  },
  {
   "cell_type": "code",
   "execution_count": 8,
   "metadata": {},
   "outputs": [
    {
     "data": {
      "text/plain": [
       "0.05"
      ]
     },
     "execution_count": 8,
     "metadata": {},
     "output_type": "execute_result"
    }
   ],
   "source": [
    "alpha_sun"
   ]
  },
  {
   "cell_type": "markdown",
   "metadata": {},
   "source": [
    "<u> **Paso 3**</u>: Valores críticos"
   ]
  },
  {
   "cell_type": "code",
   "execution_count": 9,
   "metadata": {},
   "outputs": [
    {
     "data": {
      "text/plain": [
       "1.7108820799094275"
      ]
     },
     "execution_count": 9,
     "metadata": {},
     "output_type": "execute_result"
    }
   ],
   "source": [
    "df_sun = n_sun - 1\n",
    "crit_sun = ms.hypothesis.crit_val_t(df_sun, alpha_sun, 'right')\n",
    "crit_sun"
   ]
  },
  {
   "cell_type": "markdown",
   "metadata": {},
   "source": [
    "<u> **Paso 4**</u>: Estadístico de prueba (T)"
   ]
  },
  {
   "cell_type": "code",
   "execution_count": 10,
   "metadata": {},
   "outputs": [
    {
     "data": {
      "text/plain": [
       "0.31018027571580065"
      ]
     },
     "execution_count": 10,
     "metadata": {},
     "output_type": "execute_result"
    }
   ],
   "source": [
    "t_sun = ms.generals.get_t(x__sun, mu_sun, s_sun, n_sun)\n",
    "t_sun"
   ]
  },
  {
   "cell_type": "markdown",
   "metadata": {},
   "source": [
    "<u> **Paso 5**</u>: Decisión"
   ]
  },
  {
   "cell_type": "code",
   "execution_count": 11,
   "metadata": {},
   "outputs": [
    {
     "data": {
      "text/plain": [
       "False"
      ]
     },
     "execution_count": 11,
     "metadata": {},
     "output_type": "execute_result"
    }
   ],
   "source": [
    "ms.hypothesis.reject_h0(crit_sun, t_sun, 'right')"
   ]
  },
  {
   "cell_type": "markdown",
   "metadata": {},
   "source": [
    "**NO se rechaza la hipótesis nula**, teniendo en cuenta que el estadístico de prueba *0.31018027571580065* no es mayor que el valor crítico *1.7108820799094275*."
   ]
  },
  {
   "cell_type": "markdown",
   "metadata": {},
   "source": [
    "<u>**Paso 6**</u>: Conclusión"
   ]
  },
  {
   "cell_type": "markdown",
   "metadata": {},
   "source": [
    "Teniendo en cuenta un nivel de significancia del *5%*, podemos rechazar la hipótesis de que la duración promedio del nuevo bombillo producido por Sun Systems **es mayor** a 5000 horas."
   ]
  },
  {
   "cell_type": "markdown",
   "metadata": {},
   "source": [
    "<hr/>"
   ]
  },
  {
   "cell_type": "markdown",
   "metadata": {},
   "source": [
    "## 3. Determinación del tamaño de la muestra para la media poblacional\n",
    "Days Inn desea desarrollar un intervalo de confianza del 99% para estimar el número promedio de habitaciones ocupadas cada noche en sus localidades en toda la anción. ¿Cuántas noches deben incluirse en la muestra si se puede tolerar un error de 50 habitaciones y una muestra piloto revela que s = 165 habitaciones?."
   ]
  },
  {
   "cell_type": "code",
   "execution_count": 12,
   "metadata": {
    "collapsed": true
   },
   "outputs": [],
   "source": [
    "alpha_days = 0.99 # Nivel de confianza\n",
    "s_days = 165 # # Desviación estándar de la muestra piloto\n",
    "error_days = 50 # Error tolerado"
   ]
  },
  {
   "cell_type": "code",
   "execution_count": 13,
   "metadata": {},
   "outputs": [
    {
     "data": {
      "text/plain": [
       "72.0"
      ]
     },
     "execution_count": 13,
     "metadata": {},
     "output_type": "execute_result"
    }
   ],
   "source": [
    "ms.intervals.n_avg(alpha_days, s_days, error_days)"
   ]
  },
  {
   "cell_type": "markdown",
   "metadata": {},
   "source": [
    "**R/** Days Inn debería incluir **72** noches en la muestra para poder estimar con un nivel de confianza del *99%* y un error menor a *50*  habitaciones; el número promedio de habitaciones ocupadas cada noche en sus localidades en toda la nación."
   ]
  },
  {
   "cell_type": "markdown",
   "metadata": {},
   "source": [
    "<hr/>"
   ]
  },
  {
   "cell_type": "markdown",
   "metadata": {},
   "source": [
    "## 4. Intervalos de confianza para la diferencia entre 2 medias poblacionales en muestras grandes\n",
    "Dos procesos de producción se utilizan para producir tubos de acero. Una muestra de 100 tubos tomada del primer proceso de producción tiene una longitud en promedio de 27.3 pulgadas y s = 10.3 pulgadas. Las cifras correspondientes para los 100 tubos producidos por el segundo método son 30.1 y 5.2 . ¿Qué revela un intervalo del 99% sobre la diferencia de longitudes promedio de los tubos producidos por estos dos métodos?."
   ]
  },
  {
   "cell_type": "code",
   "execution_count": 14,
   "metadata": {
    "collapsed": true
   },
   "outputs": [],
   "source": [
    "n_p1 = 100 # Tamaño de la muestra 1\n",
    "x__p1 = 27.3 # Promedio de la muestra 1\n",
    "s_p1 = 10.3 # Desviación estándar de la muestra 1\n",
    "\n",
    "n_p2 = 100 # Tamaño de la muestra 2\n",
    "x__p2 = 30.1 # Promedio de la muestra 2\n",
    "s_p2 = 5.2 # Desviación estándar de la muestra 2\n",
    "\n",
    "alpha_p = 0.99 # Nivel de confianza"
   ]
  },
  {
   "cell_type": "code",
   "execution_count": 15,
   "metadata": {},
   "outputs": [
    {
     "data": {
      "text/plain": [
       "(-5.7720427057731767, 0.17204270577317526)"
      ]
     },
     "execution_count": 15,
     "metadata": {},
     "output_type": "execute_result"
    }
   ],
   "source": [
    "ms.intervals.norm_2p(n_p1, n_p2, x__p1, x__p2, s_p1, s_p2, alpha_p)"
   ]
  },
  {
   "cell_type": "markdown",
   "metadata": {},
   "source": [
    "**R/** A un nivel de confianza del *99%*, podemos observar que la diferencia entre la longitud promedio de los tubos producidos por estos 2 métodos está entre **-5.7720427057731767, 0.17204270577317526** pulgadas.\n",
    "\n",
    "Entonces, como entre el intervalo de la diferencia está incluido el valor de **cero**, podemos concluir que la efectividad de estos 2 procesos de producción pueden ser iguales, ya que no se encuentran suficientes evidencias para demostrar que un proceso sea mejor que el otro."
   ]
  },
  {
   "cell_type": "code",
   "execution_count": null,
   "metadata": {
    "collapsed": true
   },
   "outputs": [],
   "source": []
  }
 ],
 "metadata": {
  "kernelspec": {
   "display_name": "Python 3",
   "language": "python",
   "name": "python3"
  },
  "language_info": {
   "codemirror_mode": {
    "name": "ipython",
    "version": 3
   },
   "file_extension": ".py",
   "mimetype": "text/x-python",
   "name": "python",
   "nbconvert_exporter": "python",
   "pygments_lexer": "ipython3",
   "version": "3.6.3"
  }
 },
 "nbformat": 4,
 "nbformat_minor": 2
}
